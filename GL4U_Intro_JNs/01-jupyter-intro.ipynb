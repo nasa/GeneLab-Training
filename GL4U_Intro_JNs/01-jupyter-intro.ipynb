{
 "cells": [
  {
   "cell_type": "markdown",
   "id": "72030809-0cca-406b-acce-34dd71d9bddb",
   "metadata": {
    "deletable": false,
    "editable": false,
    "slideshow": {
     "slide_type": ""
    },
    "tags": []
   },
   "source": [
    "<hr style=\"height:0px; visibility:hidden;\" />\n",
    "\n",
    "<h1><center><b>GL4U: Introduction<b></center></h1>\n",
    "\n",
    "<h1><center>1. An Introduction To Jupyter</center></h1>\n",
    "\n",
    "<div class=\"alert alert-block alert-success\">\n",
    "\n",
    "We are working in a Jupyter Notebook, inside a Jupyter Lab, which is part of the Jupyter project... which is kind of confusing. So here we're going to cover a little bit about what these all are. 👍\n",
    "    \n",
    "</div>\n",
    "\n",
    "---\n",
    "\n",
    "<center>This is notebook 1\n",
    "of 4 of GL4U's Introduction Module Set.</center>\n",
    "\n",
    "---\n",
    "\n",
    "<div style=\"text-align: right\"><a href=\"02-unix-intro.ipynb\"><b>Next:</b> 2. Unix intro</a></div>\n",
    "\n",
    "---\n",
    "---\n",
    "\n",
    "# Table of Contents\n",
    "\n",
    "* [1. What is Jupyter?](#1.-What-is-Jupyter?) \n",
    "* [2. What is Jupyter Lab?](#2.-What-is-Jupyter-Lab?) \n",
    "* [3. What is a Jupyter Notebook?](#3.-What-is-a-Jupyter-Notebook?) \n",
    "  * [Cells](#Cells) \n",
    "  * [Kernels](#Kernels) \n",
    "\n",
    "<br>\n",
    "\n",
    "---\n",
    "---"
   ]
  },
  {
   "cell_type": "markdown",
   "id": "7479d8e4-ded7-4527-b2b8-81d1c0c4af42",
   "metadata": {
    "deletable": false,
    "editable": false,
    "slideshow": {
     "slide_type": ""
    },
    "tags": []
   },
   "source": [
    "<a class=\"anchor\" id=\"jupyter\"></a>\n",
    "\n",
    "## 1. What is Jupyter?\n",
    "[*Jupyter*](http://jupyter.org/about) is a large project that develops open-source software intended to support data science across many programming languages. It is very expansive.\n",
    "\n",
    "![Jupyter](../images/jupyter.png)\n",
    "\n",
    "<br>\n",
    "\n",
    "---"
   ]
  },
  {
   "cell_type": "markdown",
   "id": "64e5fd2a-d402-4935-943f-2fa136be6d1f",
   "metadata": {
    "deletable": false,
    "editable": false,
    "slideshow": {
     "slide_type": ""
    },
    "tags": []
   },
   "source": [
    "<a class=\"anchor\" id=\"jupyterlab\"></a>\n",
    "\n",
    "## 2. What is Jupyter Lab?\n",
    "*Jupyter Lab* is the current primary interface of Jupyter as a whole. If you're looking at this during the course, then you are in a Jupyter Lab right now. It is the web structure we are in, including things like the FileBrowser and Table of Contents icons on the left. From a Jupyter Lab we can do many things that we will experiment with throughout these notebooks, including working in specific Jupyter Notebooks.\n",
    "\n",
    "Here are a few things to know about the side bar on the left:\n",
    "\n",
    "- We can utilize a file-browser in the side bar if we click this folder icon:\n",
    "\n",
    "![File Browser Icon](../images/file-browser-icon.png)\n",
    "\n",
    "<br>\n",
    "\n",
    "- There is a built-in table of contents if we click the 3-dot/line icon:\n",
    "\n",
    "![Table of Contents Icon](../images/table-of-contents-icon.png)\n",
    "\n",
    "<br>\n"
   ]
  },
  {
   "cell_type": "markdown",
   "id": "8692365d-c3d1-4b8d-8d4d-37e121dca758",
   "metadata": {
    "editable": false,
    "slideshow": {
     "slide_type": ""
    },
    "tags": []
   },
   "source": [
    "<div class=\"alert alert-block alert-info\">\n",
    "<b>NOTE</b><br>\n",
    "If we click an icon in that side bar that was already selected, it will shrink the side bar, giving us more space if we want.\n",
    "</div>\n",
    "\n",
    "<br>\n",
    "\n",
    "---"
   ]
  },
  {
   "cell_type": "markdown",
   "id": "1aa8323c-dd34-406a-83e9-4d4232cdecf5",
   "metadata": {
    "deletable": false,
    "editable": false,
    "slideshow": {
     "slide_type": ""
    },
    "tags": []
   },
   "source": [
    "<a class=\"anchor\" id=\"jn\"></a>\n",
    "\n",
    "## 3. What is a Jupyter Notebook?\n",
    "A *Jupyter Notebook* is an interactive document that is useful for sharing and running code. If you're looking at this during the course, then you are reading this text from a Jupyter Notebook inside a Jupyter Lab right now. Most of the work we actually do will be inside a notebook like this, so here we're going to cover some of the details. "
   ]
  },
  {
   "cell_type": "markdown",
   "id": "b95955a5-d5db-42ab-bdf1-b166034a9b40",
   "metadata": {
    "deletable": false,
    "editable": false,
    "slideshow": {
     "slide_type": ""
    },
    "tags": []
   },
   "source": [
    "<a class=\"anchor\" id=\"cells\"></a>\n",
    "\n",
    "### Cells\n",
    "A notebook is divided up into what are called *cells*, which are blocks that contain information like code, text, or images. Different types of cells in a notebook are used to indicate how the content of that cell should be treated, these are typically \"Markdown\" (useful for formatting webpages), \"Raw\" (just flat text), or \"Code\" (text we'd want to be executed as code). This particular cell is set to Markdown, so if we have this cell selected, we can see that this is a Markdown cell by looking at the menu bar at the top of the page:\n",
    "\n",
    "<br>\n",
    "\n",
    "![Markdown Cell](../images/markdown-cell.png)\n",
    "\n",
    "<br>\n",
    "\n"
   ]
  },
  {
   "cell_type": "markdown",
   "id": "dbccf886-5aed-4d4a-9efc-ee47aae8f2db",
   "metadata": {
    "deletable": false,
    "editable": false,
    "slideshow": {
     "slide_type": ""
    },
    "tags": []
   },
   "source": [
    "#### Running a cell\n",
    "Cells can be \"run\", or executed. If the cell is a \"Markdown\" cell, it will be rendered to look like a webpage when it is run. If it is a \"Raw\" cell, nothing will really change. And if it is a \"Code\" cell, it will run the code using a language set by the *kernel* (which we'll get to next).\n",
    "\n",
    "This next cell is a Code cell. If we select it, and then click the \"Run\" button, represented as a \"play\" icon in the bar at the top of the notebook ![play-icon.png](../images/play-icon.png) , it will execute the code and print the output.\n"
   ]
  },
  {
   "cell_type": "code",
   "execution_count": null,
   "id": "6da60095-7a92-4983-b236-a1673e201f3d",
   "metadata": {
    "deletable": false,
    "editable": false,
    "slideshow": {
     "slide_type": ""
    },
    "tags": []
   },
   "outputs": [],
   "source": [
    "5 + 5"
   ]
  },
  {
   "cell_type": "markdown",
   "id": "86609034-651e-4a93-a3e5-9de856558d3e",
   "metadata": {
    "deletable": false,
    "editable": false,
    "slideshow": {
     "slide_type": ""
    },
    "tags": []
   },
   "source": [
    "There are also handy shortcut keys we can use to run a cell. We still first need to select the cell(s) we want to run, then rather than clicking the \"play\" icon at the top of the notebook, we can use these shortcut keys:\n",
    "\n",
    "Run a cell and keep the same cell selected:\n",
    "- Mac:     `CMD + RETURN`\n",
    "- Windows: `CTRL + ENTER`  \n",
    "\n",
    "Run a cell and move to the next cell:\n",
    "- Mac:     `SHIFT + RETURN`\n",
    "- Windows: `SHIFT + ENTER`"
   ]
  },
  {
   "cell_type": "markdown",
   "id": "ca714b7e-585d-42b9-8a60-c7fc4a80a3a4",
   "metadata": {
    "deletable": false,
    "editable": false,
    "slideshow": {
     "slide_type": ""
    },
    "tags": []
   },
   "source": [
    "#### Adding a cell\n",
    "We can add, remove, or move around cells with various icons on the screen. For now, add a cell below this one by selecting this cell and then clicking the \"Plus\" icon in the bar menu at the top of the page. In the new cell you just added below, type in `4 + 6`, and then try running the cell with the shortcut keys appropriate for the computer you are using."
   ]
  },
  {
   "cell_type": "markdown",
   "id": "63710129-9d15-4613-978b-1e7f4a72ff66",
   "metadata": {
    "deletable": false,
    "editable": false,
    "slideshow": {
     "slide_type": ""
    },
    "tags": []
   },
   "source": [
    "If you did the step above, you should now see a cell above this one that has `4 + 6` in it with the answer printed below it. \n",
    "\n",
    "The default cell type for a new cell is \"Code\" as show in the image below:\n",
    "\n",
    "<br>\n",
    "\n",
    "![New Cell](../images/new-cell.png)\n",
    "\n",
    "<br>\n",
    "\n",
    "If we want a different cell type, we can click on the down arrow next to where it says \"Code\" in the menu bar, and a selection menu will appear:\n",
    "\n",
    "<br>\n",
    "\n",
    "![Cell Type Menu](../images/cell-type-menu.png)\n",
    "\n",
    "<br>\n",
    "\n",
    "Add another cell below by clicking the \"Plus\" icon in the bar at the top, change it to the type \"Markdown\", put in some text (anything), and then try running it either with the \"Run\" icon at the top, or with shortcut keys."
   ]
  },
  {
   "cell_type": "markdown",
   "id": "49cac91a-d13f-45e6-bb6f-b6cf9cb30b2d",
   "metadata": {
    "deletable": false,
    "editable": false,
    "slideshow": {
     "slide_type": ""
    },
    "tags": []
   },
   "source": [
    "If you did the step above, you should see a cell above this one with rendered text of whatever you put in. \"Markdown\" cells can be \"run\" also, they just change the raw text into a formatted version.\n",
    "\n",
    "<div class=\"alert alert-block alert-info\">\n",
    "<b>NOTE</b><br>\n",
    "As you work through the <a href=\"https://github.com/nasa/GeneLab-Training/tree/main/GL4U\">GL4U</a> module sets, feel free to add new cells wherever you'd like. You may want to add notes or questions somewhere, which are probably best suited as \"Markdown\" cells, or you might want to try additional things in new \"Code\" cells.\n",
    "</div>"
   ]
  },
  {
   "cell_type": "markdown",
   "id": "9e6a2d16-ae0c-4344-9148-cbbe7cf9ed0f",
   "metadata": {
    "deletable": false,
    "editable": false,
    "slideshow": {
     "slide_type": ""
    },
    "tags": []
   },
   "source": [
    "<a class=\"anchor\" id=\"kernels\"></a>\n",
    "\n",
    "### Kernels\n",
    "The \"Kernel\" is the language interpreter that is tied to a specific Notebook. It dictates what language the Notebook will use when trying to run \"Code\" cells. This particular Notebook is using a Python kernel, which we can see at the top right of the page:\n",
    "\n",
    "<br>\n",
    "\n",
    "![Kernel](../images/active_kernel.png)\n",
    "\n",
    "<br>\n",
    "\n",
    "If we tried to run code that didn't work in Python, we would get an error. When we want to use a different language, we will need to use a different kernel, which is what we'll be doing when we work in different notebooks throughout the GL4U module sets. We don't really need to worry about it, but it's good to keep in mind in case we are trying to do something that we think should work, but it isn't working. It might be because we are not in a notebook with the appropriate kernel set to understand the language we are trying to use.\n",
    "\n",
    "If we wanted to change the kernel for a specific notebook, we could click on the top-right where it displays the current kernel, and then use a dropdown menu to select a different one:\n",
    "\n",
    "<br>\n",
    "\n",
    "![Kernel Dropdown](../images/kernel-dropdown.png)\n",
    "\n",
    "<br>\n"
   ]
  },
  {
   "cell_type": "markdown",
   "id": "149296c2-4ed5-43ff-863b-19d5eba3c601",
   "metadata": {
    "deletable": false,
    "editable": false,
    "slideshow": {
     "slide_type": ""
    },
    "tags": []
   },
   "source": [
    "---\n",
    "\n",
    "That's all we really need to know to get started! Next we are going to move onto our [Unix introduction](02-unix-intro.ipynb)."
   ]
  },
  {
   "cell_type": "markdown",
   "id": "c5a945aa-c2ac-4b77-aa4b-1dddab5e6a7f",
   "metadata": {
    "deletable": false,
    "editable": false,
    "slideshow": {
     "slide_type": ""
    },
    "tags": []
   },
   "source": [
    "---\n",
    "---\n",
    "\n",
    "<div style=\"text-align: right\"><a href=\"02-unix-intro.ipynb\"><b>Next:</b> 2. Unix intro</a></div>\n"
   ]
  }
 ],
 "metadata": {
  "kernelspec": {
   "display_name": "Python 3 (ipykernel)",
   "language": "python",
   "name": "python3"
  },
  "language_info": {
   "codemirror_mode": {
    "name": "ipython",
    "version": 3
   },
   "file_extension": ".py",
   "mimetype": "text/x-python",
   "name": "python",
   "nbconvert_exporter": "python",
   "pygments_lexer": "ipython3",
   "version": "3.12.5"
  }
 },
 "nbformat": 4,
 "nbformat_minor": 5
}
