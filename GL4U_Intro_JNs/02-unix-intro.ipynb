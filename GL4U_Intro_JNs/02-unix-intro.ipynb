{
 "cells": [
  {
   "cell_type": "markdown",
   "id": "9078f46e-c866-43d5-a686-a359df70b96d",
   "metadata": {
    "deletable": false,
    "editable": false,
    "slideshow": {
     "slide_type": ""
    },
    "tags": []
   },
   "source": [
    "<hr style=\"height:0px; visibility:hidden;\" />\n",
    "\n",
    "<h1><center><b>GL4U: Introduction<b></center></h1>\n",
    "\n",
    "<h1><center>2. Unix Introduction</center></h1>\n",
    "\n",
    "<div class=\"alert alert-block alert-success\">\n",
    "\n",
    "<b>Unix is very likely the most foundational skillset we can develop for bioinformatics</b> (and much more than bioinformatics). Many of the most common and powerful bioinformatics approaches happen in this text-based environment, and having a solid foundation here can make everything we’re trying to learn and do much easier. Here we are only going to go over a very brief intro which is taken in part from a 5-module <a href=\"https://astrobiomike.github.io/unix/unix-intro\" target=\"_blank\">Unix introduction</a> at <a href=\"https://astrobiomike.github.io\" target=\"_blank\">Happy Belly Bioinformatics.</a>\n",
    "\n",
    "</div>\n",
    "    \n",
    "---\n",
    "\n",
    "<center>This is notebook 2\n",
    "of 4 of GL4U's Introduction Module Set. It is expected that the previous notebook has been completed already.</center>\n",
    "\n",
    "---\n",
    "\n",
    "[**Previous:** 1. Jupyter intro](01-jupyter-intro.ipynb)\n",
    "<br>\n",
    "\n",
    "<div style=\"text-align: right\"><a href=\"03-R-intro.ipynb\"><b>Next:</b> 3. R intro</a></div>\n",
    "\n",
    "---\n",
    "---\n",
    "\n",
    "# Table of Contents\n",
    "\n",
    "* [1. What is Unix?](#1.-What-is-Unix?) \n",
    "* [2. Why learn Unix?](#2.-Why-learn-Unix?) \n",
    "* [3. A few foundational rules](#3.-A-few-foundational-rules) \n",
    "* [4. Accessing example files](#4.-Accessing-example-files) \n",
    "* [5. Running commands](#5.-Running-commands) \n",
    "  * [date](#date) \n",
    "  * [head](#head) \n",
    "* [6. The Unix file-system structure](#6.-The-Unix-file-system-structure) \n",
    "  * [6a. Absolute vs relative path](#6a.-Absolute-vs-relative-path) \n",
    "* [7. Navigating in Unix](#7.-Navigating-in-Unix) \n",
    "  * [cd](#cd) \n",
    "  * [pwd](#pwd) \n",
    "  * [ls](#ls) \n",
    "* [8. Additional useful commands](#8.-Additional-useful-commands) \n",
    "  * [mkdir](#mkdir) \n",
    "  * [cp](#cp) \n",
    "  * [mv](#mv) \n",
    "  * [cat](#cat) \n",
    "* [9. Variables](#9.-Variables) \n",
    "* [10. The '*' wildcard](#10.-The-*-wildcard) \n",
    "* [11. Summary](#11.-Summary) \n",
    "\n",
    "<br>\n",
    "\n",
    "---\n",
    "---"
   ]
  },
  {
   "cell_type": "markdown",
   "id": "7f5ac129-2268-42a6-a190-f7a442404783",
   "metadata": {
    "deletable": false,
    "editable": false,
    "slideshow": {
     "slide_type": ""
    },
    "tags": []
   },
   "source": [
    "<a class=\"anchor\" id=\"what-is-unix\"></a>\n",
    "\n",
    "## 1. What is Unix?\n",
    "The term \"Unix\" encompasses a family of operating systems that share a common ancestor that was initially developed in the late 1960s. It was built based off a modular design philosophy, where relatively simple tools can be strung together seemlessly in order to accomplish more complicated tasks. In short, it has spread like crazy throughout the computational world over the past 5 decades. \n",
    "\n",
    "Many successful offshoots of Unix have been developed, which is why we might see the term \"Unix-like\" used in order to encompass all the systems that aren't technically \"Unix\". \n",
    "\n",
    "Here are some terms that are often used interchangeably: \n",
    "\n",
    "| Term     | Definition          |\n",
    "|:-------------|:------------------|\n",
    "| `shell` | what we use to talk to the computer; anything where we are pointing and clicking with a mouse is a **G**raphical **U**ser **I**nterface (**GUI**) shell; something with text only is a **C**ommand **L**ine **I**nterface (**CLI**) shell |  \n",
    "| `command line/terminal` | A text-based environment capable of taking input and providing output |  \n",
    "| `bash` | A common programming language used in a Unix CLI |  \n",
    "\n",
    "<hr style=\"height:0px; visibility:hidden;\" />"
   ]
  },
  {
   "cell_type": "markdown",
   "id": "86a0fec1-fbd8-47d6-b94e-5a9f77e5f20f",
   "metadata": {
    "deletable": false,
    "editable": false,
    "slideshow": {
     "slide_type": ""
    },
    "tags": []
   },
   "source": [
    "---"
   ]
  },
  {
   "cell_type": "markdown",
   "id": "01f9caff-218f-4e9f-8f89-93d02533bc4a",
   "metadata": {
    "deletable": false,
    "editable": false,
    "slideshow": {
     "slide_type": ""
    },
    "tags": []
   },
   "source": [
    "<a class=\"anchor\" id=\"why-learn-unix\"></a>\n",
    "\n",
    "## 2. Why learn Unix?\n",
    "Getting familiar with working at a Unix-like command-line is one of the most fundamental skillsets we can develop for bioinformatics, but also much, much more. As Brian Kerrigan (a team member of the original Unix team) puts it in his 2019 book [*Unix: A history and a memoir*](https://www.cs.princeton.edu/~bwk/memoir.html):\n",
    "\n",
    "> *Unix and its derivatives aren't widely known outside a particular technical community, but they are at the heart of any number of systems that are part of everyone's world. Google, Facebook, Amazon, and plenty of other services are powered by Unix-like operating systems. If you have a cell phone or a Mac, it runs on some version of Unix. If you have gadgets like Alexa at home or navigation software in your car, they're powered by Unix-like systems too.*\n",
    "\n",
    "Being the framework for so much of our world, learning to speak its language also gives us greater access to things like remote servers and cloud-computing. It can allow us to access and manipulate large datasets we otherwise couldn't, and use programs we otherwise couldn't.\n",
    "\n",
    "Which brings us back to it being foundational to bioinformatics. Many of the most common and powerful bioinformatics approaches happen in this text-based environment, and having a solid foundation here can make everything we’re trying to learn and do *much* easier. \n"
   ]
  },
  {
   "cell_type": "markdown",
   "id": "2bfb477c-ddd9-4e67-b504-e7f57c44734c",
   "metadata": {
    "editable": false,
    "slideshow": {
     "slide_type": ""
    },
    "tags": []
   },
   "source": [
    "**So, here are a few reasons why learning Unix is worth it:**  \n",
    "\n",
    "* It’s the foundation for most of bioinformatics (and much more)  \n",
    "* Enables the use of non-GUI (Graphical User Interface) tools  \n",
    "* Improves reproducibility (GUI's are super-convenient for lots of things, but they are typically not ideal when it comes to reproducibility)  \n",
    "* Enables things like quickly performing operations on large files (without needing to read them into memory)  \n",
    "* Can allow us to programmatically access data  \n",
    "* Helps automate repetitive tasks (e.g., need to rename 1,000 files?)  \n",
    "* Enables use of higher-powered computers elsewhere (servers/cloud-computing)  \n",
    "\n",
    "<hr style=\"height:0px; visibility:hidden;\" />\n",
    "\n",
    "<div class=\"alert alert-block alert-info\">\n",
    "As mentioned above, we are only going to go over a very brief intro here to give us enough background about the commands we will use to process data in the <a href=\"https://github.com/nasa/GeneLab-Training/tree/main/GL4U\">GL4U</a>  'omics-specific module sets. To learn more about Unix, check out the full 5-module <a href=\"https://astrobiomike.github.io/unix/unix-intro\" target=\"_blank\">Unix introduction</a> at <a href=\"https://astrobiomike.github.io\" target=\"_blank\">Happy Belly Bioinformatics.</a> 🙂\n",
    "</div>"
   ]
  },
  {
   "cell_type": "markdown",
   "id": "983e72aa-20dc-4515-a115-5d2a9534a1ac",
   "metadata": {
    "deletable": false,
    "editable": false,
    "slideshow": {
     "slide_type": ""
    },
    "tags": []
   },
   "source": [
    "---"
   ]
  },
  {
   "cell_type": "markdown",
   "id": "e1b66910-a61f-4218-bfbe-e4cb925e3136",
   "metadata": {
    "deletable": false,
    "editable": false,
    "slideshow": {
     "slide_type": ""
    },
    "tags": []
   },
   "source": [
    "<a class=\"anchor\" id=\"rules\"></a>\n",
    "\n",
    "## 3. A few foundational rules\n",
    "* **Spaces are special!** The command line uses spaces to know how to properly break things apart. This is why it's not ideal to have filenames that contain spaces, but rather it's better to use dashes (**`-`**) or underscores (**`_`**) to separete terms – e.g., \"draft-v3.txt\" is preferred over \"draft v3.txt\").  \n",
    "\n",
    "* The general syntax working at the command line goes like this: `command argument`.  \n",
    "\n",
    "* Arguments (which can also be referred to as \"flags\" or \"options\" or \"parameters\") can be **optional** or **required** based on the command being used.  "
   ]
  },
  {
   "cell_type": "markdown",
   "id": "22f30c42-cab5-4e9e-b294-dc800a2a41d7",
   "metadata": {
    "deletable": false,
    "editable": false,
    "slideshow": {
     "slide_type": ""
    },
    "tags": []
   },
   "source": [
    "### A reminder on running cells in a Jupyter notebook\n",
    "\n",
    "Remember, to run a cell we first need to select it, then we can either click the \"Run\" button, represented as a \"play\" icon, at the top of the notebook, or we can use shortcut keys. Here are a few:\n",
    "\n",
    "Run a cell and keep the same cell selected:\n",
    "- Mac:     `CMD + RETURN`\n",
    "- Windows: `CTRL + ENTER`  \n",
    "\n",
    "Run a cell and move to the next cell:\n",
    "- Mac:     `SHIFT + RETURN`\n",
    "- Windows: `SHIFT + ENTER`"
   ]
  },
  {
   "cell_type": "markdown",
   "id": "14a450d8-5b77-4e18-a490-3d74331a588e",
   "metadata": {
    "deletable": false,
    "editable": false,
    "slideshow": {
     "slide_type": ""
    },
    "tags": []
   },
   "source": [
    "---"
   ]
  },
  {
   "cell_type": "markdown",
   "id": "bdc50b85-3254-4b08-9488-3bf5a112c9dd",
   "metadata": {
    "deletable": false,
    "editable": false,
    "slideshow": {
     "slide_type": ""
    },
    "tags": []
   },
   "source": [
    "<a class=\"anchor\" id=\"files\"></a>\n",
    "\n",
    "## 4. Accessing example files\n",
    "\n",
    "Running this next code block will change your location to the folder containing the example files we will use in this JN. This will be the <b>only</b> time I would like you to blindly run a code block without necessarily understanding what it is doing 🙂\n",
    "\n",
    "So select the following code block, and run it either with shortcut keys as noted above, or by clicking the \"Run\" button at the top of the document. After doing so, you will see a path appear indicating where we are located within the GitPod environment we are using."
   ]
  },
  {
   "cell_type": "code",
   "execution_count": null,
   "id": "2d9fc6d9-1a42-4bce-a77b-535b54ceda17",
   "metadata": {
    "deletable": false,
    "editable": false,
    "slideshow": {
     "slide_type": ""
    },
    "tags": []
   },
   "outputs": [],
   "source": [
    "cd /workspace/GeneLab-Training/intro\n",
    "pwd"
   ]
  },
  {
   "cell_type": "markdown",
   "id": "e7765286-2ad0-4f54-b91c-2679825ff8a4",
   "metadata": {
    "deletable": false,
    "editable": false,
    "slideshow": {
     "slide_type": ""
    },
    "tags": []
   },
   "source": [
    "<br>\n",
    "<b><center>Great! Now let's get started!</center></b>"
   ]
  },
  {
   "cell_type": "markdown",
   "id": "17f01a45-f28b-4319-8337-d4068914bec7",
   "metadata": {
    "deletable": false,
    "editable": false,
    "slideshow": {
     "slide_type": ""
    },
    "tags": []
   },
   "source": [
    "---"
   ]
  },
  {
   "cell_type": "markdown",
   "id": "bf445ea5-32f4-48a0-a67c-235e7a832cb3",
   "metadata": {
    "deletable": false,
    "editable": false,
    "slideshow": {
     "slide_type": ""
    },
    "tags": []
   },
   "source": [
    "<a class=\"anchor\" id=\"running-commands\"></a>\n",
    "\n",
    "## 5. Running commands\n",
    "\n",
    "Using the foundational rules described above, we will begin running some commands.\n",
    "\n",
    "<a class=\"anchor\" id=\"date\"></a>\n",
    "\n",
    "### date\n",
    "\n",
    "\n",
    "`date` is a command that prints out the date and time. This particular command doesn't require any arguments:"
   ]
  },
  {
   "cell_type": "code",
   "execution_count": null,
   "id": "05571c90-d298-4bf1-935c-9393b1218546",
   "metadata": {
    "deletable": false,
    "editable": false,
    "slideshow": {
     "slide_type": ""
    },
    "tags": []
   },
   "outputs": [],
   "source": [
    "date"
   ]
  },
  {
   "cell_type": "markdown",
   "id": "0a253c60-5b35-46d9-914f-e791f869bd9c",
   "metadata": {
    "deletable": false,
    "editable": false,
    "slideshow": {
     "slide_type": ""
    },
    "tags": []
   },
   "source": [
    "When we run `date` with no arguments, it uses some default settings, like assuming we want to know the time in our computer's currently set time zone. But we can provide optional arguments to `date`. \n",
    "\n",
    "Optional arguments most often require putting a dash in front of them in order for the program to interpret them properly. \n",
    "\n",
    "Here, we are adding the `-u` argument to tell the `date` program to report UTC time instead of the local time – which will be the same if the computer we're using happens to be set to UTC time: "
   ]
  },
  {
   "cell_type": "code",
   "execution_count": null,
   "id": "a60a0f11-f305-4dd8-ae13-4762e1bfd618",
   "metadata": {
    "deletable": false,
    "editable": false,
    "slideshow": {
     "slide_type": ""
    },
    "tags": []
   },
   "outputs": [],
   "source": [
    "date -u"
   ]
  },
  {
   "cell_type": "markdown",
   "id": "21dab9f7-c5e5-4901-b3bf-9bf07e2c479a",
   "metadata": {
    "deletable": false,
    "editable": false,
    "slideshow": {
     "slide_type": ""
    },
    "tags": []
   },
   "source": [
    "Note that if we try to run the command above without the dash, we get an error (ignore the message that prints out highlighted in red, we wouldn't normally see that outside of a notebook):"
   ]
  },
  {
   "cell_type": "code",
   "execution_count": null,
   "id": "e202b328-97cd-46fd-abc4-1f4a4b6d5472",
   "metadata": {
    "deletable": false,
    "editable": false,
    "slideshow": {
     "slide_type": ""
    },
    "tags": []
   },
   "outputs": [],
   "source": [
    "date u"
   ]
  },
  {
   "cell_type": "markdown",
   "id": "8560818f-6283-48c5-9cf1-0b446129765a",
   "metadata": {
    "deletable": false,
    "editable": false,
    "slideshow": {
     "slide_type": ""
    },
    "tags": []
   },
   "source": [
    "<div class=\"alert alert-block alert-info\">\n",
    "<b>Note</b>\n",
    "<br>\n",
    "\n",
    "Notice that the error above comes from the program `date`. So the program we wanted to use *is* actually responding to us, but it doesn't seem to know what to do with the letter `u` we gave it. And this is because it wasn't prefixed with a dash, like `-u`.\n",
    "\n",
    "</div>\n",
    "\n",
    "Let's see what happens if we try to enter this without the \"space\" separating `date` and the optional argument `-u`, the computer won't know how to break apart the command and we get a different error (again, ignoring the red output):"
   ]
  },
  {
   "cell_type": "code",
   "execution_count": null,
   "id": "1b57e555-186f-4320-902a-6d715b8c6de1",
   "metadata": {
    "deletable": false,
    "editable": false,
    "slideshow": {
     "slide_type": ""
    },
    "tags": []
   },
   "outputs": [],
   "source": [
    "date-u"
   ]
  },
  {
   "cell_type": "markdown",
   "id": "00f31740-ad5a-4a37-9de2-bb4eb07f8bce",
   "metadata": {
    "deletable": false,
    "editable": false,
    "slideshow": {
     "slide_type": ""
    },
    "tags": []
   },
   "source": [
    "<div class=\"alert alert-block alert-info\">\n",
    "<b>Note</b>\n",
    "<br>\n",
    "\n",
    "Notice that unlike the first error we got with `date u`, this error is not coming from the `date` program, but instead the command line is telling us it can't find a command (or program) called \"date-u\". And it was looking for that because by missing the space in between the command `date` and the argument `-u`, we weren't telling it how to properly break things apart.\n",
    "\n",
    "</div>\n",
    "\n",
    "\n",
    "<div class=\"alert alert-block alert-warning\">\n",
    "<b>A note on error messages</b>\n",
    "<br>\n",
    "Error messages can often seem obtuse and just confusing (and sometimes they are), but in many cases they can also be helpful. Being able to interpret some of them is certainly an acquired skill, but it's always worth doing our best to try to pay attention to them if we're having trouble with something.\n",
    "</div>"
   ]
  },
  {
   "cell_type": "markdown",
   "id": "85b141f4-e6ee-40ec-8574-349baf1c682b",
   "metadata": {
    "deletable": false,
    "editable": false,
    "slideshow": {
     "slide_type": ""
    },
    "tags": []
   },
   "source": [
    "<a class=\"anchor\" id=\"head\"></a>\n",
    "\n",
    "### head\n",
    "\n",
    "Unlike `date`, most commands require arguments and won't work without them. `head` is a command that prints the first few lines of a file, so it **requires** us to provide the file we want it to act on. Run the code block below to print out the first few lines of a file called \"example.txt\" that we downloaded [above](#4.-Accessing-example-files): "
   ]
  },
  {
   "cell_type": "code",
   "execution_count": null,
   "id": "dd22e076-051f-4c81-ada4-4c5d840751d9",
   "metadata": {
    "editable": false,
    "slideshow": {
     "slide_type": ""
    },
    "tags": []
   },
   "outputs": [],
   "source": [
    "head example.txt"
   ]
  },
  {
   "cell_type": "markdown",
   "id": "62002b90-3ed2-4527-9525-361bfbc9dd78",
   "metadata": {
    "deletable": false,
    "editable": false,
    "slideshow": {
     "slide_type": ""
    },
    "tags": []
   },
   "source": [
    "Here \"example.txt\" is the **required** argument, and in this case it is also known as a **positional** argument (we'll see examples of what's *not* a \"positional\" arugment below). \n",
    "\n",
    "Whether things need to be provided as positional arguments or not depends on how the command or program we are using was written. Sometimes we need to specify the input file by putting something in front of it (e.g., some commands will use the `-i` flag, but it's often other things as well).\n",
    "\n",
    "There are also optional arguments for the `head` command. The default for `head` is to print the first 10 lines of a file. We can change that by specifying the `-n` flag followed by how many lines we want:"
   ]
  },
  {
   "cell_type": "code",
   "execution_count": null,
   "id": "540b8ac1-0394-4cf8-9712-a45034f62e74",
   "metadata": {
    "editable": false,
    "slideshow": {
     "slide_type": ""
    },
    "tags": []
   },
   "outputs": [],
   "source": [
    "head -n 5 example.txt"
   ]
  },
  {
   "cell_type": "markdown",
   "id": "8ca79eb2-0987-4b97-bfb6-51a7e1737041",
   "metadata": {
    "deletable": false,
    "editable": false,
    "slideshow": {
     "slide_type": ""
    },
    "tags": []
   },
   "source": [
    "How would we know we needed the `-n` flag for that? There are a few ways to find out. Many standard Unix commands and other programs will have built-in help menus that we can access by providing `-h` or `--help` as the only argument. Let's try `-h` first:"
   ]
  },
  {
   "cell_type": "code",
   "execution_count": null,
   "id": "f7160134-aa29-4aed-b170-fcd67f3a39b4",
   "metadata": {
    "editable": false,
    "slideshow": {
     "slide_type": ""
    },
    "tags": []
   },
   "outputs": [],
   "source": [
    "head -h"
   ]
  },
  {
   "cell_type": "markdown",
   "id": "d98cfb2f-116f-41f5-93c0-adae8a959d57",
   "metadata": {
    "deletable": false,
    "editable": false,
    "slideshow": {
     "slide_type": ""
    },
    "tags": []
   },
   "source": [
    "The error message above tells us that `-h` is an invalid option, and the tool version we are using kindly prints out how to access the help menu, so let's try with `--help`:"
   ]
  },
  {
   "cell_type": "code",
   "execution_count": null,
   "id": "ed5041ce-51de-4c79-adbc-400286f4c7dd",
   "metadata": {
    "editable": false,
    "slideshow": {
     "slide_type": ""
    },
    "tags": []
   },
   "outputs": [],
   "source": [
    "head --help"
   ]
  },
  {
   "cell_type": "markdown",
   "id": "8e44c0d0-36e5-4fa6-9d39-230a8bf18519",
   "metadata": {
    "deletable": false,
    "editable": false,
    "slideshow": {
     "slide_type": ""
    },
    "tags": []
   },
   "source": [
    "The `head --help` command spits out a lot of information (and `head` is a relatively simple command compared to many others), but somewhere in there we can see \"-n, --lines...\" (we could have used `--lines 5` instead of `-n 5` to get the same result), but even that can be confusing if we're not familiar with how this information is presented. \n",
    "\n",
    "The built-in help menu is a good place to start because it's often immediately accessible and might help. But if it's not working or if it's too confusing, quickly shifting to just do an internet search will often lead to a more easily understood answer. \n",
    "\n",
    "What options are available for a certain command, and how to specify them, are parts of this process that are not about memorization at all. We might remember a few flags or specific options if we happen to use them a lot, but searching for options and details when needed is definitely the norm!\n",
    "\n",
    "<div class=\"alert alert-block alert-info\">\n",
    "    What we've done so far already really is the framework for how almost all things work at the command line! Multiple commands can be strung together, and some commands can have many options, inputs, and outputs and can grow to be quite long, but this is the general framework that underlies it all.\n",
    "    <br>\n",
    "    <br>\n",
    "    <center><b>Becoming familiar with these baseline rules is important, memorizing particular commands and options is not!</b></center>\n",
    "</div>"
   ]
  },
  {
   "cell_type": "markdown",
   "id": "a90dd4c0-ad60-4aa0-8334-527029e45d1b",
   "metadata": {
    "deletable": false,
    "editable": false,
    "slideshow": {
     "slide_type": ""
    },
    "tags": []
   },
   "source": [
    "---"
   ]
  },
  {
   "attachments": {},
   "cell_type": "markdown",
   "id": "d68f4947-a6a1-402a-8de6-af0ac5581cb0",
   "metadata": {
    "deletable": false,
    "editable": false,
    "slideshow": {
     "slide_type": ""
    },
    "tags": []
   },
   "source": [
    "<a class=\"anchor\" id=\"file-system\"></a>\n",
    "\n",
    "## 6. The Unix file-system structure\n",
    "\n",
    "Computers store file locations in a hierarchical structure. We are typically already used to navigating through this stucture by clicking on various folders (known as directories in the Unix world) in a Windows Explorer window or a Mac Finder window. Just like we need to select the appropriate files in the appropriate locations there (in a Graphical User-Interface, or GUI), we need to do the same when working at a command-line interface. What this means in practice is that each file and directory has its own \"address\", and that address is called its \"**path**\". \n",
    "\n",
    "Additionally, there are two special locations in all Unix-based systems, so 2 more terms we should become familiar with: \n",
    "* the \"**root**\" location is where the address system of the computer starts\n",
    "* the \"**home**\" location is where the current user's location starts\n",
    "  "
   ]
  },
  {
   "cell_type": "markdown",
   "id": "9db2062c-25ad-4329-a6d3-8c10c4421324",
   "metadata": {
    "editable": false,
    "slideshow": {
     "slide_type": ""
    },
    "tags": []
   },
   "source": [
    "Here is an image of an example file-system structure. Let's take a peek at it. First imagine just \"clicking\" through folders (called \"directories\" in the Unix world) in a GUI in order to reach the file we want, \"processing_notes.txt\". Then we'll talk about it in terms of the \"path\" we could use to get to the same file at the command line.\n",
    "\n",
    "<br>\n",
    "\n",
    "![file_system_structure.png](../images/file_system_structure.png)\n",
    "\n",
    "<br>\n",
    "\n",
    "We tell the command line where files and directories are located by providing their address, their \"path\". If we use the `pwd` command (for **p**rint **w**orking **d**irectory), we can find out what the path is for the directory (folder) we are sitting in:"
   ]
  },
  {
   "cell_type": "code",
   "execution_count": null,
   "id": "78629ebd-4fe4-4a10-b5af-91fb9ee7fee4",
   "metadata": {
    "editable": false,
    "slideshow": {
     "slide_type": ""
    },
    "tags": []
   },
   "outputs": [],
   "source": [
    "pwd"
   ]
  },
  {
   "cell_type": "markdown",
   "id": "5f3b122e-ef70-4289-87a8-d2753f4c0c57",
   "metadata": {
    "deletable": false,
    "editable": false,
    "slideshow": {
     "slide_type": ""
    },
    "tags": []
   },
   "source": [
    "<div class=\"alert alert-block alert-info\">\n",
    "<b>Note</b>\n",
    "<br>\n",
    "\n",
    "The output of `pwd` provides the path starting from the special **root** location, because it begins with a leading `/`, which when in front like this is the special character that denotes the start of the address system.\n",
    "</div>\n",
    "\n",
    "\n",
    "Next, we'll use the `ls` command (for **l**i**s**t) to see what directories and files are in the current directory we are in:"
   ]
  },
  {
   "cell_type": "code",
   "execution_count": null,
   "id": "9bacdb85-9c8f-410f-bb6c-1620096802d7",
   "metadata": {
    "editable": false,
    "slideshow": {
     "slide_type": ""
    },
    "tags": []
   },
   "outputs": [],
   "source": [
    "ls"
   ]
  },
  {
   "cell_type": "markdown",
   "id": "1b33bf4c-512b-4332-9abe-ceff4d2e7af7",
   "metadata": {
    "deletable": false,
    "editable": false,
    "slideshow": {
     "slide_type": ""
    },
    "tags": []
   },
   "source": [
    "<a class=\"anchor\" id=\"path\"></a>\n",
    "\n",
    "### 6a. Absolute vs relative path\n",
    "\n",
    "There are two ways to specify the path (address in the computer) of the file we want to find or do something with:\n",
    "\n",
    "* An **absolute path** is an address that starts from one of those two special locations we mentioned above: either the \"root\" (specified with `/`) or the \"home\" (specified with `~/`) location. \n",
    "\n",
    "* A **relative path** is an address that starts from wherever we are currently sitting.\n",
    "\n",
    "These can sound a little more confusing at first than they are, so it's best to just look at some examples.\n",
    "\n",
    "Let's start by looking again at the **`head`** command we ran above:"
   ]
  },
  {
   "cell_type": "code",
   "execution_count": null,
   "id": "a01ef70f-607d-4bbd-b75d-c75884ed5cd3",
   "metadata": {
    "editable": false,
    "slideshow": {
     "slide_type": ""
    },
    "tags": []
   },
   "outputs": [],
   "source": [
    "head example.txt"
   ]
  },
  {
   "cell_type": "markdown",
   "id": "f0c8efe8-2213-45e3-ba4d-bea5261b46c3",
   "metadata": {
    "deletable": false,
    "editable": false,
    "slideshow": {
     "slide_type": ""
    },
    "tags": []
   },
   "source": [
    "**What we are actually doing here is using a *relative path* to specify where the \"example.txt\" file is located.** The command line automatically looks in the current working directory if we don't specify anything else about a file's location. So this works specifically because there is a file called \"example.txt\" in the current directory where we are running the command from.\n",
    "\n",
    "We can also run the same command on the same file, but specifying the file's location using an **absolute path**:"
   ]
  },
  {
   "cell_type": "code",
   "execution_count": null,
   "id": "05f217b8-d6f3-41c3-81df-f7aa13c462d7",
   "metadata": {
    "editable": false,
    "slideshow": {
     "slide_type": ""
    },
    "tags": []
   },
   "outputs": [],
   "source": [
    "head /workspace/GeneLab-Training/intro/example.txt"
   ]
  },
  {
   "cell_type": "markdown",
   "id": "96963b5f-472d-4498-b99e-562c0285a259",
   "metadata": {
    "deletable": false,
    "editable": false,
    "slideshow": {
     "slide_type": ""
    },
    "tags": []
   },
   "source": [
    "In the command above, we are using the absolute path to the `example.txt` file, which includes the full path to the directory that holds the file, starting from the root (`/`) location, then providing the name of the file. \n",
    "\n",
    "The previous two commands both point to the same exact file. But the first way, `head example.txt`, will only work if we are entering it while we are in the directory that holds that file, while the second way will work no matter \"where\" we happen to be in the computer.\n",
    "\n",
    "<div class=\"alert alert-block alert-info\">\n",
    "    <b>Note</b>\n",
    "    <br>\n",
    "    The address of a file, its \"path\", includes the name of the file also. It doesn't stop at the directory that holds it.\n",
    "</div>\n",
    "\n",
    "It is important to always think about *where* we are in the computer when working at the command line. **One of the most common errors/easiest mistakes to make is trying to do something to a file that isn't where we think it is.** \n",
    "\n",
    "Let's run `head` on the \"example.txt\" file again, using a relative path by just providing the name of the file, and then let's try it on another file, \"notes.txt\":"
   ]
  },
  {
   "cell_type": "code",
   "execution_count": null,
   "id": "15c9cefe-89ae-4ea3-8a77-5518ff152edd",
   "metadata": {
    "editable": false,
    "slideshow": {
     "slide_type": ""
    },
    "tags": []
   },
   "outputs": [],
   "source": [
    "head example.txt"
   ]
  },
  {
   "cell_type": "code",
   "execution_count": null,
   "id": "9bd68329-fbe0-4b5a-8a5c-44c505ffc10e",
   "metadata": {
    "editable": false,
    "slideshow": {
     "slide_type": ""
    },
    "tags": []
   },
   "outputs": [],
   "source": [
    "head notes.txt"
   ]
  },
  {
   "cell_type": "markdown",
   "id": "b69fbb6d-7cf0-42d0-bf43-92dbaa59b9f7",
   "metadata": {
    "deletable": false,
    "editable": false,
    "slideshow": {
     "slide_type": ""
    },
    "tags": []
   },
   "source": [
    "Here the `head` command works fine on \"example.txt\", but we get an error message when we call it on \"notes.txt\" that tells us \"no such file or directory\" (ignore the red highlighted line, we wouldn't see that if outside of the notebook). \n",
    "\n",
    "If we run the `ls` command to **l**i**s**t the contents of the current working directory, we can see the computer is absolutely right – spoiler alert: it usually is – and there is no file here named \"notes.txt\":"
   ]
  },
  {
   "cell_type": "code",
   "execution_count": null,
   "id": "8dcf7874-8614-413d-99f0-e30cf152023f",
   "metadata": {
    "editable": false,
    "slideshow": {
     "slide_type": ""
    },
    "tags": []
   },
   "outputs": [],
   "source": [
    "ls"
   ]
  },
  {
   "cell_type": "markdown",
   "id": "681f3874-85b6-42f0-9391-2d51065f7b02",
   "metadata": {
    "deletable": false,
    "editable": false,
    "slideshow": {
     "slide_type": ""
    },
    "tags": []
   },
   "source": [
    "The `ls` command by default operates on the current working directory if we don't specify any location, but we can tell it to list the contents of a different directory by providing the path to that directory as a positional argument. Here we are telling it to list the contents inside the \"experiment\" directory:"
   ]
  },
  {
   "cell_type": "code",
   "execution_count": null,
   "id": "f90eba07-937e-4494-a83a-21d1a4e474cb",
   "metadata": {
    "editable": false,
    "slideshow": {
     "slide_type": ""
    },
    "tags": []
   },
   "outputs": [],
   "source": [
    "ls experiment"
   ]
  },
  {
   "cell_type": "markdown",
   "id": "ec123bc1-4a7e-4193-b112-2d79b740c618",
   "metadata": {
    "deletable": false,
    "editable": false,
    "slideshow": {
     "slide_type": ""
    },
    "tags": []
   },
   "source": [
    "We can see the file we were looking for is located in this sub-directory called \"experiment\". Here is how we can run `head` on \"notes.txt\" by specifying an accurate **relative path** to that file:"
   ]
  },
  {
   "cell_type": "code",
   "execution_count": null,
   "id": "01c67c18-9747-4b06-bffe-35650b299c02",
   "metadata": {
    "editable": false,
    "slideshow": {
     "slide_type": ""
    },
    "tags": []
   },
   "outputs": [],
   "source": [
    "head experiment/notes.txt"
   ]
  },
  {
   "cell_type": "markdown",
   "id": "eb41791f-ad33-46e0-85ee-df160220ee51",
   "metadata": {
    "deletable": false,
    "editable": false,
    "slideshow": {
     "slide_type": ""
    },
    "tags": []
   },
   "source": [
    "---"
   ]
  },
  {
   "cell_type": "markdown",
   "id": "97b0f042-b8d3-4c31-81de-856d8223d8d0",
   "metadata": {
    "deletable": false,
    "editable": false,
    "slideshow": {
     "slide_type": ""
    },
    "tags": []
   },
   "source": [
    "<a class=\"anchor\" id=\"navigating\"></a>\n",
    "\n",
    "## 7. Navigating in Unix\n",
    "\n",
    "Next, we'll practice some commands that are useful when navigating within a unix file-system structure.\n",
    "\n",
    "<a class=\"anchor\" id=\"cd\"></a>\n",
    "\n",
    "### cd\n",
    "\n",
    "We can move into the directory containing the file we want to work with by using the `cd` command (**c**hange **d**irectory). This command takes a positional argument that is the path (or address) of the directory we want to change into. This can be a relative path or an absolute path. \n",
    "\n",
    "In the next cell, try using the `cd` command to change into the \"experiment\" directory, by providing that as a positional argument to the `cd` command:"
   ]
  },
  {
   "cell_type": "code",
   "execution_count": null,
   "id": "b7080ddf-70db-4ad1-9ddc-b73968a2078f",
   "metadata": {
    "editable": true,
    "slideshow": {
     "slide_type": ""
    },
    "tags": []
   },
   "outputs": [],
   "source": []
  },
  {
   "cell_type": "markdown",
   "id": "ea6d26da-fe08-4104-ba0e-7d9e960e9bf3",
   "metadata": {
    "deletable": false,
    "editable": false,
    "slideshow": {
     "slide_type": ""
    },
    "tags": []
   },
   "source": [
    "<div class=\"alert alert-block alert-success\">\n",
    "\n",
    "<details>\n",
    "<summary><b>Solution</b></summary>\n",
    "\n",
    "<br>\n",
    "This could be done with a <i>relative path</i> (if we are in the \"~/intro\" directory currently):<br><br>\n",
    "    \n",
    "`cd experiment`\n",
    "\n",
    "Or it could be done with an <i>absolute path</i> from anywhere in the computer:<br>\n",
    "\n",
    "`cd /workspace/GeneLab-Training/intro/experiment`\n",
    "\n",
    "</details>\n",
    "</div>\n"
   ]
  },
  {
   "cell_type": "markdown",
   "id": "a13b50e2-488e-4393-ac8d-3b5ce54a7529",
   "metadata": {
    "deletable": false,
    "editable": false,
    "slideshow": {
     "slide_type": ""
    },
    "tags": []
   },
   "source": [
    "<a class=\"anchor\" id=\"pwd\"></a>\n",
    "\n",
    "### pwd\n",
    "\n",
    "Now let's use `pwd` (**p**rint **w**orking **d**irectory) to see where we are:"
   ]
  },
  {
   "cell_type": "code",
   "execution_count": null,
   "id": "4358c704-4dbc-442c-a0db-21068a9f827f",
   "metadata": {
    "editable": false,
    "slideshow": {
     "slide_type": ""
    },
    "tags": []
   },
   "outputs": [],
   "source": [
    "pwd"
   ]
  },
  {
   "cell_type": "markdown",
   "id": "4b0558b9-b20e-46fb-97a1-8f337606ee97",
   "metadata": {
    "deletable": false,
    "editable": false,
    "slideshow": {
     "slide_type": ""
    },
    "tags": []
   },
   "source": [
    "And we can see we have successfully navigated to the \"experiment\" sub-directory.\n",
    "\n",
    "<a class=\"anchor\" id=\"ls\"></a>\n",
    "\n",
    "### ls\n",
    "\n",
    "Next, we'll use `ls` (for **l**i**s**t) to see what is in this directory:"
   ]
  },
  {
   "cell_type": "code",
   "execution_count": null,
   "id": "aa28b80a-301f-475c-a883-7f14331b1a3e",
   "metadata": {
    "editable": false,
    "slideshow": {
     "slide_type": ""
    },
    "tags": []
   },
   "outputs": [],
   "source": [
    "ls"
   ]
  },
  {
   "cell_type": "markdown",
   "id": "2ab293f1-361d-4025-97ca-1b8c488c2f70",
   "metadata": {
    "deletable": false,
    "editable": false,
    "slideshow": {
     "slide_type": ""
    },
    "tags": []
   },
   "source": [
    "The `ls` command by default operates on the current working directory if we don't specify any location.\n",
    "\n",
    "We can also explicitly specify the current working directory with the shortcut, `.`. So the command above can also be run as follows to list all contents in the current working directory: "
   ]
  },
  {
   "cell_type": "code",
   "execution_count": null,
   "id": "c3dc8389-a1cc-4765-a459-6a950b252651",
   "metadata": {
    "editable": false,
    "slideshow": {
     "slide_type": ""
    },
    "tags": []
   },
   "outputs": [],
   "source": [
    "ls ."
   ]
  },
  {
   "cell_type": "markdown",
   "id": "5fc6297d-dc24-4cad-b38d-b085a4fab51b",
   "metadata": {
    "deletable": false,
    "editable": false,
    "slideshow": {
     "slide_type": ""
    },
    "tags": []
   },
   "source": [
    "From the output of `ls` when we are in the \"experiment\" directory (our current working directory), we can see the \"notes.txt\" file is in there."
   ]
  },
  {
   "cell_type": "markdown",
   "id": "cee8f075-99f0-474b-a7f4-0deca3a45f80",
   "metadata": {
    "deletable": false,
    "editable": false,
    "slideshow": {
     "slide_type": ""
    },
    "tags": []
   },
   "source": [
    "Now try running `head` on the \"notes.txt\" file by just providing the file name \"notes.txt\" as the positional argument:"
   ]
  },
  {
   "cell_type": "code",
   "execution_count": null,
   "id": "7c40e98c-523b-4c5b-b7f0-c10d53e60211",
   "metadata": {
    "editable": true,
    "slideshow": {
     "slide_type": ""
    },
    "tags": []
   },
   "outputs": [],
   "source": []
  },
  {
   "cell_type": "markdown",
   "id": "305513ba-ca95-44f4-86f1-0cd440f58044",
   "metadata": {
    "deletable": false,
    "editable": false,
    "slideshow": {
     "slide_type": ""
    },
    "tags": []
   },
   "source": [
    "<div class=\"alert alert-block alert-success\">\n",
    "\n",
    "<details>\n",
    "<summary><b>Solution</b></summary>\n",
    "\n",
    "<br>\n",
    "\n",
    "`head notes.txt`\n",
    "\n",
    "</details>\n",
    "</div>\n"
   ]
  },
  {
   "cell_type": "markdown",
   "id": "1ab2e61b-1381-4adf-8add-3ebbae84c427",
   "metadata": {
    "deletable": false,
    "editable": false,
    "slideshow": {
     "slide_type": ""
    },
    "tags": []
   },
   "source": [
    "Great. But now how do we get back \"up\" to the directory above us? One way would be to provide an absolute path to the `cd` (**c**hange **d**irectory) command, like `cd /workspace/GeneLab-Training/intro`, but there is also a handy shortcut. \n",
    "\n",
    "`..` are special characters that act as a relative path specifying \"up\" one level – one directory/folder – from wherever we currently are. So we can provide that as the positional argument to `cd` to get back to where we started:"
   ]
  },
  {
   "cell_type": "code",
   "execution_count": null,
   "id": "30e836f0-1a70-48d5-8670-aa47f67dbb7d",
   "metadata": {
    "editable": false,
    "slideshow": {
     "slide_type": ""
    },
    "tags": []
   },
   "outputs": [],
   "source": [
    "cd .."
   ]
  },
  {
   "cell_type": "markdown",
   "id": "ad5043f9-5a0d-4fbe-86e5-395c124123ed",
   "metadata": {
    "deletable": false,
    "editable": false,
    "slideshow": {
     "slide_type": ""
    },
    "tags": []
   },
   "source": [
    "And we can check out where we are and what is here again with `pwd` and `ls` (having two commands like this one line after another will just run them one after the other and print the output of each command as it goes):"
   ]
  },
  {
   "cell_type": "code",
   "execution_count": null,
   "id": "639b5f9f-a5d8-4359-b991-1cf945c6edfc",
   "metadata": {
    "editable": false,
    "slideshow": {
     "slide_type": ""
    },
    "tags": []
   },
   "outputs": [],
   "source": [
    "pwd\n",
    "ls"
   ]
  },
  {
   "cell_type": "markdown",
   "id": "9f0c69d7-e505-439a-8b8a-382c33d13ca1",
   "metadata": {
    "deletable": false,
    "editable": false,
    "slideshow": {
     "slide_type": ""
    },
    "tags": []
   },
   "source": [
    "Notice that by default the items are listed left to right in addition to stacked. However, it is sometimes useful to list one item per line. Use the next code block to run the `ls` command again, but this time add `-1` as an optional argument to list the items one per line:"
   ]
  },
  {
   "cell_type": "code",
   "execution_count": null,
   "id": "96fe9ad0-bce2-4977-9265-6147b31e8208",
   "metadata": {
    "editable": true,
    "slideshow": {
     "slide_type": ""
    },
    "tags": []
   },
   "outputs": [],
   "source": []
  },
  {
   "cell_type": "markdown",
   "id": "bc524e2b-8acb-4f4b-a59a-d77d6f3c6dc1",
   "metadata": {
    "deletable": false,
    "editable": false,
    "slideshow": {
     "slide_type": ""
    },
    "tags": []
   },
   "source": [
    "<div class=\"alert alert-block alert-success\">\n",
    "\n",
    "<details>\n",
    "<summary><b>Solution</b></summary>\n",
    "\n",
    "<br>\n",
    "\n",
    "`ls -1`\n",
    "    \n",
    "Or it could be done by specifying the current working directory with the `.` shortcut:<br>\n",
    "\n",
    "`ls -1 .`\n",
    "\n",
    "</details>\n",
    "</div>\n",
    "\n",
    "\n",
    "If we didn't know we needed to add `-1`, what could we have done to view the possible `ls` arguments? Use the code block below to test your answer:"
   ]
  },
  {
   "cell_type": "code",
   "execution_count": null,
   "id": "e8379495-e010-4f4c-81f3-cabf42ed9632",
   "metadata": {
    "editable": true,
    "slideshow": {
     "slide_type": ""
    },
    "tags": []
   },
   "outputs": [],
   "source": []
  },
  {
   "cell_type": "markdown",
   "id": "4a0c5c40-f214-4f44-b99c-b304eaf189a7",
   "metadata": {
    "deletable": false,
    "editable": false,
    "slideshow": {
     "slide_type": ""
    },
    "tags": []
   },
   "source": [
    "<div class=\"alert alert-block alert-success\">\n",
    "\n",
    "<details>\n",
    "<summary><b>Solution</b></summary>\n",
    "\n",
    "<br>\n",
    "\n",
    "`ls --help`\n",
    "\n",
    "Notice that the `-1` argument is listed in the help menu and indicates that `-1` lists one file per line.\n",
    "\n",
    "</details>\n",
    "</div>"
   ]
  },
  {
   "cell_type": "markdown",
   "id": "3f90832c-769c-4d86-a109-e859745ce637",
   "metadata": {
    "deletable": false,
    "editable": false,
    "slideshow": {
     "slide_type": ""
    },
    "tags": []
   },
   "source": [
    "---"
   ]
  },
  {
   "cell_type": "markdown",
   "id": "39b5ed81-3f07-41cd-a679-e516ea6597b9",
   "metadata": {
    "deletable": false,
    "editable": false,
    "slideshow": {
     "slide_type": ""
    },
    "tags": []
   },
   "source": [
    "<a class=\"anchor\" id=\"additional-commands\"></a>\n",
    "\n",
    "## 8. Additional useful commands\n",
    "\n",
    "Here are a few of the other commands that we may come across during our work."
   ]
  },
  {
   "cell_type": "markdown",
   "id": "5a7492a3-6c7f-44e0-9b39-234b7d5fc02b",
   "metadata": {
    "deletable": false,
    "editable": false,
    "slideshow": {
     "slide_type": ""
    },
    "tags": []
   },
   "source": [
    "<a class=\"anchor\" id=\"mkdir\"></a>\n",
    "\n",
    "### mkdir\n",
    "\n",
    "\n",
    "`mkdir` (for **m**a**k**e **dir**ectory) is the command that allows us to create new folders/directories. It takes as a positional argument the name of the directory we want to create (it can also create multiple directories by providing multiple different directory names as positional arguments, each separated with a space).\n",
    "\n",
    "Here is how we would create a new directory called \"SolarSystem\":"
   ]
  },
  {
   "cell_type": "code",
   "execution_count": null,
   "id": "352eaed2-e016-47e8-aa06-9d8b4fcce6a6",
   "metadata": {
    "editable": false,
    "slideshow": {
     "slide_type": ""
    },
    "tags": []
   },
   "outputs": [],
   "source": [
    "mkdir SolarSystem"
   ]
  },
  {
   "cell_type": "markdown",
   "id": "6dedb9c1-c300-4c8f-bdbb-81b52570fcec",
   "metadata": {
    "deletable": false,
    "editable": false,
    "slideshow": {
     "slide_type": ""
    },
    "tags": []
   },
   "source": [
    "And now check that it exists with the `ls` command:"
   ]
  },
  {
   "cell_type": "code",
   "execution_count": null,
   "id": "666bf179-dbe4-4065-acfd-3bb703cd1ad0",
   "metadata": {
    "editable": true,
    "slideshow": {
     "slide_type": ""
    },
    "tags": []
   },
   "outputs": [],
   "source": []
  },
  {
   "cell_type": "markdown",
   "id": "b10e376d-23b7-4070-84a5-25c419641804",
   "metadata": {
    "deletable": false,
    "editable": false,
    "slideshow": {
     "slide_type": ""
    },
    "tags": []
   },
   "source": [
    "Notice that the \"SolarSystem\" directory was created in our current working directory. If you want to create a new directory somewhere other than your current working directory, you can do so by specifying either a relative or absolute path to where you want your new directory created. For example, if you wanted to create the \"SolarSystem\" directory in your home directory, you could do so by providing an absolute path to `mkdir` from any where in your computer as follows:\n",
    "\n",
    "`mkdir ~/SolarSystem`\n",
    "\n",
    "Let's look at the contents inside of the \"SolarSystem\" directory we made above with the `ls` command, but specifying the new directory as a positional argument:"
   ]
  },
  {
   "cell_type": "code",
   "execution_count": null,
   "id": "fd2f371a-afb5-4cb3-ba7b-3e595622cb85",
   "metadata": {
    "editable": true,
    "slideshow": {
     "slide_type": ""
    },
    "tags": []
   },
   "outputs": [],
   "source": []
  },
  {
   "cell_type": "markdown",
   "id": "ef980d3f-8200-4591-89a1-c8e0c842a64c",
   "metadata": {
    "deletable": false,
    "editable": false,
    "slideshow": {
     "slide_type": ""
    },
    "tags": []
   },
   "source": [
    "<div class=\"alert alert-block alert-success\">\n",
    "\n",
    "<details>\n",
    "<summary><b>Solution</b></summary>\n",
    "\n",
    "<br>\n",
    "\n",
    "This will list the contents of the current working directory by default:\n",
    "\n",
    "`ls`\n",
    "\n",
    "\n",
    "And this will list the contents of the \"SolarSystem\" directory (which is empty right now):\n",
    "\n",
    "`ls SolarSystem`\n",
    "\n",
    "</details>\n",
    "</div>\n"
   ]
  },
  {
   "cell_type": "markdown",
   "id": "0297261d-f2ea-41b8-8aae-d95420a6589f",
   "metadata": {
    "deletable": false,
    "editable": false,
    "slideshow": {
     "slide_type": ""
    },
    "tags": []
   },
   "source": [
    "Next, we'll learn about the **cp** and **mv** commands.\n",
    "\n",
    "<div class=\"alert alert-block alert-warning\">\n",
    "<b><center>WARNING</center></b>\n",
    "Using commands that do things like create, copy, and move files at the command line will overwrite files if they have the same name in the same location. And using commands that delete things will do so permanently. Use caution while getting used to things – and then forever after 🙂\n",
    "</div>"
   ]
  },
  {
   "cell_type": "markdown",
   "id": "68823a85-7585-4aaa-ad58-6cf33a13b969",
   "metadata": {
    "deletable": false,
    "editable": false,
    "slideshow": {
     "slide_type": ""
    },
    "tags": []
   },
   "source": [
    "<a class=\"anchor\" id=\"cp\"></a>\n",
    "\n",
    "### cp\n",
    "\n",
    "The `cp` (**c**o**p**y) command requires at least two positional arguments – the first is the file we want to act on, and the second is where we want it to go (which can include the name we want to give it). \n",
    "\n",
    "Here's how we can make a copy of \"example.txt\" and put it in the same directory just with a different name, while running `ls` before and after:"
   ]
  },
  {
   "cell_type": "code",
   "execution_count": null,
   "id": "e51ec8a1-044e-47e6-9836-7d19e054350d",
   "metadata": {
    "editable": false,
    "slideshow": {
     "slide_type": ""
    },
    "tags": []
   },
   "outputs": [],
   "source": [
    "ls"
   ]
  },
  {
   "cell_type": "code",
   "execution_count": null,
   "id": "e9960566-c9fb-4d23-ae82-c27c5ea339b8",
   "metadata": {
    "editable": false,
    "slideshow": {
     "slide_type": ""
    },
    "tags": []
   },
   "outputs": [],
   "source": [
    "cp example.txt example_copy.txt"
   ]
  },
  {
   "cell_type": "code",
   "execution_count": null,
   "id": "8395f6cc-3127-4ff4-855f-9e0adac0cbf1",
   "metadata": {
    "editable": false,
    "slideshow": {
     "slide_type": ""
    },
    "tags": []
   },
   "outputs": [],
   "source": [
    "ls"
   ]
  },
  {
   "cell_type": "markdown",
   "id": "63532784-ad96-45f6-804a-2dcc003799b4",
   "metadata": {
    "deletable": false,
    "editable": false,
    "slideshow": {
     "slide_type": ""
    },
    "tags": []
   },
   "source": [
    "Remember the file name by itself in those two positional arguments above is actually a *relative path* that is just starting from the directory we are sitting in. \n",
    "\n",
    "So if we wanted to make a copy of \"example.txt\" and put it in the \"SolarSystem\" directory we just created above, we would just need to modify the second positional argument above to be `SolarSystem/example_copy.txt`. Try that out here, and then check that the copied file ended up in the \"SolarSystem\" directory by running `ls` on that directory:"
   ]
  },
  {
   "cell_type": "code",
   "execution_count": null,
   "id": "0421725b-f8e6-45dd-a6a6-574c1739c6a6",
   "metadata": {
    "editable": true,
    "slideshow": {
     "slide_type": ""
    },
    "tags": []
   },
   "outputs": [],
   "source": []
  },
  {
   "cell_type": "code",
   "execution_count": null,
   "id": "ac1ae7b1-3d62-4688-8347-66f4d4963654",
   "metadata": {
    "editable": true,
    "slideshow": {
     "slide_type": ""
    },
    "tags": []
   },
   "outputs": [],
   "source": []
  },
  {
   "cell_type": "markdown",
   "id": "5d9c4122-33a0-4577-84c3-e4fc2ae20788",
   "metadata": {
    "deletable": false,
    "editable": false,
    "slideshow": {
     "slide_type": ""
    },
    "tags": []
   },
   "source": [
    "<div class=\"alert alert-block alert-success\">\n",
    "\n",
    "<details>\n",
    "<summary><b>Solution</b></summary>\n",
    "\n",
    "<br>\n",
    "\n",
    "This will copy the file into the directory, giving it the name being specified here:\n",
    "\n",
    "`cp example.txt SolarSystem/example_copy.txt`\n",
    "\n",
    "\n",
    "And this will list the contents of the \"SolarSystem\" directory:\n",
    "\n",
    "`ls SolarSystem`\n",
    "    \n",
    "If you are getting an error, it may be that the \"SolarSystem\" directory wasn't created in the above `mkdir` step.\n",
    "\n",
    "</details>\n",
    "</div>"
   ]
  },
  {
   "cell_type": "markdown",
   "id": "b96deb0a-2151-4e4a-b8c3-685ed880c010",
   "metadata": {
    "deletable": false,
    "editable": false,
    "slideshow": {
     "slide_type": ""
    },
    "tags": []
   },
   "source": [
    "If we want to copy (or move) something from a different directory into our current working directory, and keep the same original name of the file, we can use the special character of one period (`.`) as the second positional argument (as we saw above, the `.` is a shorthand for specifying the current working directory). \n",
    "\n",
    "Here is how we could copy a file from the \"data\" directory into our current working directory while keeping the original name:"
   ]
  },
  {
   "cell_type": "code",
   "execution_count": null,
   "id": "0e3618d3-a0fc-46ca-8b04-8b9197c44ebf",
   "metadata": {
    "deletable": false,
    "editable": false,
    "slideshow": {
     "slide_type": ""
    },
    "tags": []
   },
   "outputs": [],
   "source": [
    "cp data/example.csv ."
   ]
  },
  {
   "cell_type": "code",
   "execution_count": null,
   "id": "4025542f-2ee0-4bb9-bf08-db11ea5f9ee9",
   "metadata": {
    "editable": false,
    "slideshow": {
     "slide_type": ""
    },
    "tags": []
   },
   "outputs": [],
   "source": [
    "ls"
   ]
  },
  {
   "cell_type": "markdown",
   "id": "7b81103f-258e-4e38-987a-fe12c7e5627c",
   "metadata": {
    "deletable": false,
    "editable": false,
    "slideshow": {
     "slide_type": ""
    },
    "tags": []
   },
   "source": [
    "How could you change the command above if you wanted to copy the \"example.csv\" file to a directory one level up from your current working directory?\n",
    "\n",
    "<div class=\"alert alert-block alert-success\">\n",
    "\n",
    "<details>\n",
    "<summary><b>Solution</b></summary>\n",
    "\n",
    "<br>\n",
    "\n",
    "Here is one way:\n",
    "\n",
    "`cp data/example.csv ..`\n",
    "\n",
    "You don't need to create a cell and run that though.\n",
    "\n",
    "</details>\n",
    "</div>"
   ]
  },
  {
   "cell_type": "markdown",
   "id": "9c4c59a5-8429-45ef-adbe-56f2f0f54a96",
   "metadata": {
    "deletable": false,
    "editable": false,
    "slideshow": {
     "slide_type": ""
    },
    "tags": []
   },
   "source": [
    "<a class=\"anchor\" id=\"mv\"></a>\n",
    "\n",
    "### mv\n",
    "\n",
    "Like the `cp` command, the `mv` (**m**o**v**e) command has the same basic structure. It requires at least two positional arguments – the first is the file we want to act on, and the second is where we want it to go (which can include the name we want to give it). \n",
    "\n",
    "If we want to move (or copy) something and keep the same name, so long as it's going into a different directory than it's starting in, we can just leave the name off. For example, here is how we can move a file called \"example.csv\" from the \"data\" directory into the \"SolarSystem\" directory:"
   ]
  },
  {
   "cell_type": "code",
   "execution_count": null,
   "id": "797ffcf1-8e44-49a5-ba88-10a851e528f6",
   "metadata": {
    "editable": false,
    "slideshow": {
     "slide_type": ""
    },
    "tags": []
   },
   "outputs": [],
   "source": [
    "mv data/example.csv SolarSystem/"
   ]
  },
  {
   "cell_type": "code",
   "execution_count": null,
   "id": "3e19551c-0b16-4d3b-a10f-38c8ef05737e",
   "metadata": {
    "editable": false,
    "slideshow": {
     "slide_type": ""
    },
    "tags": []
   },
   "outputs": [],
   "source": [
    "ls SolarSystem/"
   ]
  },
  {
   "cell_type": "markdown",
   "id": "ad781813-046f-4fc2-b57f-385261aa15e1",
   "metadata": {
    "deletable": false,
    "editable": false,
    "slideshow": {
     "slide_type": ""
    },
    "tags": []
   },
   "source": [
    "Since SolarSystem is a directory, the above commands would both work the same whether we included the `/` (as in \"SolarSystem/\") or not (\"SolarSystem\").\n",
    "\n",
    "And since we *moved* the file that time, the original file no longer exists in the \"data\" directory:"
   ]
  },
  {
   "cell_type": "code",
   "execution_count": null,
   "id": "26e423ff-eba0-4f3b-8465-77b6ba25b82b",
   "metadata": {
    "editable": false,
    "slideshow": {
     "slide_type": ""
    },
    "tags": []
   },
   "outputs": [],
   "source": [
    "ls data/"
   ]
  },
  {
   "cell_type": "markdown",
   "id": "6a676898-7d60-4dba-95bb-5df745a2e2a8",
   "metadata": {
    "deletable": false,
    "editable": false,
    "slideshow": {
     "slide_type": ""
    },
    "tags": []
   },
   "source": [
    "<div class=\"alert alert-block alert-info\">\n",
    "<b>Note</b>\n",
    "<br>\n",
    "The <code>mv</code> command is also what is used to rename files. This may seem strange at first, but remember that the path (address) of a file actually includes its name too (otherwise everything in the same directory would have the same path).\n",
    "</div>\n",
    "\n",
    "Use the command block below to rename the \"example.csv\" file in the \"SolarSystem\" directory to \"example_original.csv\", keeping it in that same directory. Then look in the \"SolarSystem\" directory to see if you were successful:"
   ]
  },
  {
   "cell_type": "code",
   "execution_count": null,
   "id": "76ff78a2-4ef5-43fc-b375-395f32e19900",
   "metadata": {
    "editable": true,
    "slideshow": {
     "slide_type": ""
    },
    "tags": []
   },
   "outputs": [],
   "source": []
  },
  {
   "cell_type": "code",
   "execution_count": null,
   "id": "484af218-40be-4b53-80a2-4c9028ade272",
   "metadata": {
    "editable": true,
    "slideshow": {
     "slide_type": ""
    },
    "tags": []
   },
   "outputs": [],
   "source": []
  },
  {
   "cell_type": "markdown",
   "id": "444989e2-691b-4380-be78-1401b062520a",
   "metadata": {
    "deletable": false,
    "editable": false,
    "slideshow": {
     "slide_type": ""
    },
    "tags": []
   },
   "source": [
    "<div class=\"alert alert-block alert-success\">\n",
    "\n",
    "<details>\n",
    "<summary><b>Solution</b></summary>\n",
    "\n",
    "<br>\n",
    "\n",
    "`mv SolarSystem/example.csv SolarSystem/example_original.csv`  \n",
    "`ls SolarSystem`\n",
    "\n",
    "</details>\n",
    "</div>\n",
    "\n",
    "\n",
    "Next, use the command block below to make a copy of the \"example_original.csv\" file in the \"SolarSystem\" directory and name the copy \"example.csv\", keeping the copy in that same directory. Then look in the \"SolarSystem\" directory to see if you were successful:"
   ]
  },
  {
   "cell_type": "code",
   "execution_count": null,
   "id": "54d1da5d-e82a-4a14-8d67-46965018b2f5",
   "metadata": {
    "editable": true,
    "slideshow": {
     "slide_type": ""
    },
    "tags": []
   },
   "outputs": [],
   "source": []
  },
  {
   "cell_type": "code",
   "execution_count": null,
   "id": "abe09fd7-7835-4cf7-b7ad-e749c5695d02",
   "metadata": {
    "editable": true,
    "slideshow": {
     "slide_type": ""
    },
    "tags": []
   },
   "outputs": [],
   "source": []
  },
  {
   "cell_type": "markdown",
   "id": "3a380ccd-73c0-457e-8cb6-25d6123ea2d3",
   "metadata": {
    "editable": false,
    "slideshow": {
     "slide_type": ""
    },
    "tags": []
   },
   "source": [
    "<div class=\"alert alert-block alert-success\">\n",
    "\n",
    "<details>\n",
    "<summary><b>Solution</b></summary>\n",
    "\n",
    "<br>\n",
    "\n",
    "`cp SolarSystem/example_original.csv SolarSystem/example.csv`  \n",
    "`ls SolarSystem`\n",
    "\n",
    "</details>\n",
    "</div>"
   ]
  },
  {
   "cell_type": "markdown",
   "id": "a14c295e-1996-4c1e-bcbc-199934f2a22b",
   "metadata": {
    "deletable": false,
    "editable": false,
    "slideshow": {
     "slide_type": ""
    },
    "tags": []
   },
   "source": [
    "<a class=\"anchor\" id=\"cat\"></a>\n",
    "\n",
    "### cat\n",
    "\n",
    "The `cat` command (which stands for con**cat**enate) will print all the contents of the specified file(s) to the terminal. It requires one or more positional arguments that it will print out in order, so if we gave it more than one, it would be concatenating them together for us. Similar to the `head` program, here is how we can use it using a relative path to the \"notes.txt\" file:"
   ]
  },
  {
   "cell_type": "code",
   "execution_count": null,
   "id": "11894ede-6c09-47cf-9425-a550f2c2ea05",
   "metadata": {
    "editable": false,
    "slideshow": {
     "slide_type": ""
    },
    "tags": []
   },
   "outputs": [],
   "source": [
    "cat experiment/notes.txt"
   ]
  },
  {
   "cell_type": "markdown",
   "id": "657d53f3-3c04-46b4-a813-cb02daa3b659",
   "metadata": {
    "deletable": false,
    "editable": false,
    "slideshow": {
     "slide_type": ""
    },
    "tags": []
   },
   "source": [
    "Use the command block below to concatenate the \"notes.txt\" file followed by the \"example_original.csv\" file (that we renamed above):\n",
    "> Remember that the \"notes.txt\" file is in the \"experiment\" directory and the \"example_original.csv\" file is in the \"SolarSystem\" directory."
   ]
  },
  {
   "cell_type": "code",
   "execution_count": null,
   "id": "c408a530-f3aa-403c-b81d-91160a85aa92",
   "metadata": {
    "editable": true,
    "slideshow": {
     "slide_type": ""
    },
    "tags": []
   },
   "outputs": [],
   "source": []
  },
  {
   "cell_type": "markdown",
   "id": "7a15c149-2cc3-4368-977f-83c0ad71cfc4",
   "metadata": {
    "deletable": false,
    "editable": false,
    "slideshow": {
     "slide_type": ""
    },
    "tags": []
   },
   "source": [
    "<div class=\"alert alert-block alert-success\">\n",
    "\n",
    "<details>\n",
    "<summary><b>Solution</b></summary>\n",
    "\n",
    "<br>\n",
    "\n",
    "`cat experiment/notes.txt SolarSystem/example_original.csv`  \n",
    "\n",
    "</details>\n",
    "</div>\n",
    "\n",
    "\n",
    "As seen above, the contents of these files are printed to the terminal. However, if we wanted to save the output in a new file instead, we would need to use what's know as a **redirector**. We can re-direct the output from the `cat` command to a new file using the `>` symbol followed by the name of the new file as follows:"
   ]
  },
  {
   "cell_type": "code",
   "execution_count": null,
   "id": "284409db-a8a3-44ac-b337-bb4c1e24bdeb",
   "metadata": {
    "editable": false,
    "slideshow": {
     "slide_type": ""
    },
    "tags": []
   },
   "outputs": [],
   "source": [
    "cat experiment/notes.txt SolarSystem/example_original.csv > new_file.txt\n",
    "ls"
   ]
  },
  {
   "cell_type": "markdown",
   "id": "bd63d04a-6e27-4ab7-a6b5-2acaa919f244",
   "metadata": {
    "deletable": false,
    "editable": false,
    "slideshow": {
     "slide_type": ""
    },
    "tags": []
   },
   "source": [
    "<div class=\"alert alert-block alert-warning\">\n",
    "<b><center>WARNING</center></b>\n",
    "\n",
    "Using the `>` redirector will overwrite the file we specify if it exists already.\n",
    "\n",
    "</div>"
   ]
  },
  {
   "cell_type": "markdown",
   "id": "af7e059f-28a4-42e6-ae0b-6c484e9511b1",
   "metadata": {
    "deletable": false,
    "editable": false,
    "slideshow": {
     "slide_type": ""
    },
    "tags": []
   },
   "source": [
    "Use the code block below to run `cat` on the new file we just created to see if indeed it contains the contents of the \"notes.txt\" file followed by the \"example_original.csv\" file:"
   ]
  },
  {
   "cell_type": "code",
   "execution_count": null,
   "id": "76d96370-1b95-45f7-b405-0ad6ea5930c9",
   "metadata": {
    "editable": true,
    "slideshow": {
     "slide_type": ""
    },
    "tags": []
   },
   "outputs": [],
   "source": []
  },
  {
   "cell_type": "markdown",
   "id": "0053543b-2987-460c-a370-0b83de45e084",
   "metadata": {
    "deletable": false,
    "editable": false,
    "slideshow": {
     "slide_type": ""
    },
    "tags": []
   },
   "source": [
    "<div class=\"alert alert-block alert-success\">\n",
    "\n",
    "<details>\n",
    "<summary><b>Solution</b></summary>\n",
    "\n",
    "<br>\n",
    "\n",
    "`cat new_file.txt`  \n",
    "\n",
    "</details>\n",
    "</div>\n",
    "\n",
    "\n",
    "How could we change the `cat` command above where we created \"new_file.txt\" if we wanted to create it in our home directory?\n",
    "\n",
    "<div class=\"alert alert-block alert-success\">\n",
    "\n",
    "<details>\n",
    "<summary><b>Solution</b></summary>\n",
    "\n",
    "<br>\n",
    "\n",
    "Here is one way: \n",
    "\n",
    "`cat experiment/notes.txt SolarSystem/example_original.csv > ~/new_file.txt`  \n",
    "\n",
    "</details>\n",
    "</div>"
   ]
  },
  {
   "cell_type": "markdown",
   "id": "c9d12578-8a03-430d-af93-40f558c4f972",
   "metadata": {
    "deletable": false,
    "editable": false,
    "slideshow": {
     "slide_type": ""
    },
    "tags": []
   },
   "source": [
    "---"
   ]
  },
  {
   "cell_type": "markdown",
   "id": "25ece743-b648-44ea-bfa5-7dc062b67f7c",
   "metadata": {
    "deletable": false,
    "editable": false,
    "slideshow": {
     "slide_type": ""
    },
    "tags": []
   },
   "source": [
    "<a class=\"anchor\" id=\"variables\"></a>\n",
    "\n",
    "## 9. Variables\n",
    "\n",
    "A variable is a named object that holds data stored in memory. Variables can be helpful in making our code more readable and modifiable, and they are also inherently essential components of things like loops. \n",
    "\n",
    "To set a variable at a Unix-like command line, we need to provide the variable name we want, an equals sign, and then the value we want the variable to hold (with no spaces in between any of that). \n",
    "\n",
    "Here is an example:"
   ]
  },
  {
   "cell_type": "code",
   "execution_count": null,
   "id": "c84120cd-eedd-4d73-8005-13730950c71b",
   "metadata": {
    "deletable": false,
    "editable": false,
    "slideshow": {
     "slide_type": ""
    },
    "tags": []
   },
   "outputs": [],
   "source": [
    "my_var=Europa"
   ]
  },
  {
   "cell_type": "markdown",
   "id": "b3e81269-714b-4a56-a8db-d4da8aaeb132",
   "metadata": {
    "deletable": false,
    "editable": false,
    "slideshow": {
     "slide_type": ""
    },
    "tags": []
   },
   "source": [
    "Nothing prints out when the variable is set, but the value \"Europa\" has now been stored in the variable \"my_var\". \n",
    "\n",
    "To access what's been stored in a variable in a Unix-like environment, the variable name needs to be preceded by a `$` so the terminal knows to *evaluate* what follows, rather than just treating it as generic characters. \n",
    "\n",
    "To see this, we'll use the `echo` command. `echo` is a command that prints out whatever is provided to it (which turns out to be very useful in some places – like in a program, for example, to report information to the user). Here we'll use it to check what's being stored in our variable:"
   ]
  },
  {
   "cell_type": "code",
   "execution_count": null,
   "id": "bafb893b-b180-4004-b6f2-34adef3caaee",
   "metadata": {
    "deletable": false,
    "editable": false,
    "slideshow": {
     "slide_type": ""
    },
    "tags": []
   },
   "outputs": [],
   "source": [
    "echo $my_var"
   ]
  },
  {
   "cell_type": "markdown",
   "id": "7bf52bf2-fe41-4649-93d4-9aa84b322d57",
   "metadata": {
    "deletable": false,
    "editable": false,
    "slideshow": {
     "slide_type": ""
    },
    "tags": []
   },
   "source": [
    "In the next code block, try running `echo` on \"my_var\" without preceding it with the dollar sign:"
   ]
  },
  {
   "cell_type": "code",
   "execution_count": null,
   "id": "943d77e7-8d14-445c-b5ce-58a39fa3ca67",
   "metadata": {
    "editable": true,
    "slideshow": {
     "slide_type": ""
    },
    "tags": []
   },
   "outputs": [],
   "source": []
  },
  {
   "cell_type": "markdown",
   "id": "267aaa40-1094-40f2-a9ba-7e40e5daa193",
   "metadata": {
    "deletable": false,
    "editable": false,
    "slideshow": {
     "slide_type": ""
    },
    "tags": []
   },
   "source": [
    "<div class=\"alert alert-block alert-success\">\n",
    "\n",
    "<details>\n",
    "<summary><b>Solution</b></summary>\n",
    "\n",
    "<br>\n",
    "\n",
    "`echo my_var`\n",
    "\n",
    "If we don't tell the command line to evaluate \"my_var\" by preceding it with a dollar sign, it will just print that back to us.\n",
    "    \n",
    "</details>\n",
    "</div>"
   ]
  },
  {
   "cell_type": "markdown",
   "id": "4d17cf15-435b-4b48-97da-ae530d5c570e",
   "metadata": {
    "deletable": false,
    "editable": false,
    "slideshow": {
     "slide_type": ""
    },
    "tags": []
   },
   "source": [
    "Recall that spaces are special characters at the command line. If we wanted to set a variable that contained spaces, we would need to surround it in quotes to tell the command line that it should be considered as one thing:"
   ]
  },
  {
   "cell_type": "code",
   "execution_count": null,
   "id": "897e0bc8-032f-4902-b3fd-d7e5e28757db",
   "metadata": {
    "deletable": false,
    "editable": false,
    "slideshow": {
     "slide_type": ""
    },
    "tags": []
   },
   "outputs": [],
   "source": [
    "my_new_var=\"Europa is awesome.\""
   ]
  },
  {
   "cell_type": "markdown",
   "id": "4e6b07a2-8560-4c7f-816d-94e264fcb52a",
   "metadata": {
    "deletable": false,
    "editable": false,
    "slideshow": {
     "slide_type": ""
    },
    "tags": []
   },
   "source": [
    "Use `echo` again below to print out the contents of this new variable:"
   ]
  },
  {
   "cell_type": "code",
   "execution_count": null,
   "id": "5451ac5c-4163-493d-bda1-8ed6596f9c3b",
   "metadata": {
    "editable": true,
    "slideshow": {
     "slide_type": ""
    },
    "tags": []
   },
   "outputs": [],
   "source": []
  },
  {
   "cell_type": "markdown",
   "id": "c3c651b3-a007-48ce-ae8f-9c900998c773",
   "metadata": {
    "deletable": false,
    "editable": false,
    "slideshow": {
     "slide_type": ""
    },
    "tags": []
   },
   "source": [
    "<div class=\"alert alert-block alert-success\">\n",
    "\n",
    "<details>\n",
    "<summary><b>Solution</b></summary>\n",
    "\n",
    "<br>\n",
    "\n",
    "`echo $my_new_var`\n",
    "    \n",
    "</details>\n",
    "</div>"
   ]
  },
  {
   "cell_type": "markdown",
   "id": "f9536f3f-4729-4a2a-b68f-f0d48187425a",
   "metadata": {
    "deletable": false,
    "editable": false,
    "slideshow": {
     "slide_type": ""
    },
    "tags": []
   },
   "source": [
    "One last note about using variables at the Unix-like command line, it is generally good practice when trying to access our variable term to surround it with squiggly brackets `{}` after the dollar sign. This tells the command line specifically where our variable name starts and ends. Sometimes this doesn't matter, like in the cases above, but sometimes it does. \n",
    "\n",
    "For example, let's say we want to append the text \"\\_table\" to the end of our variable name. If we try to do that without the brackets, it won't work:"
   ]
  },
  {
   "cell_type": "code",
   "execution_count": null,
   "id": "801eceeb-2cc9-4732-a1e1-25374dd7d0c1",
   "metadata": {
    "deletable": false,
    "editable": false,
    "slideshow": {
     "slide_type": ""
    },
    "tags": []
   },
   "outputs": [],
   "source": [
    "echo $my_var_table"
   ]
  },
  {
   "cell_type": "markdown",
   "id": "33ff60f5-c9a2-4dd0-94dc-e85a037a8ccc",
   "metadata": {
    "deletable": false,
    "editable": false,
    "slideshow": {
     "slide_type": ""
    },
    "tags": []
   },
   "source": [
    "That prints back nothing, because the command line is looking for a variable called \"my_var_table\", which doesn't exist.\n",
    "\n",
    "But if we surround the variable in squiggly brackets following the dollar sign, the command line knows exactly which part to try to evaluate:"
   ]
  },
  {
   "cell_type": "code",
   "execution_count": null,
   "id": "a3b2ec25-252f-4fd0-96af-311725a6e0e6",
   "metadata": {
    "deletable": false,
    "editable": false,
    "slideshow": {
     "slide_type": ""
    },
    "tags": []
   },
   "outputs": [],
   "source": [
    "echo ${my_var}_table"
   ]
  },
  {
   "cell_type": "markdown",
   "id": "c5e09a2f-ba47-4d85-bd23-f539cbb6b9e7",
   "metadata": {
    "deletable": false,
    "editable": false,
    "slideshow": {
     "slide_type": ""
    },
    "tags": []
   },
   "source": [
    "And that will produce what we expect in this case, \"Europa_table\". As mentioned above, sometimes this doesn't matter, but it never hurts to use the squiggly brackets when trying to access a variable, so it's a good habit to form."
   ]
  },
  {
   "cell_type": "markdown",
   "id": "e4b70ebd-1e13-4f72-9de6-e5e7619876cd",
   "metadata": {
    "deletable": false,
    "editable": false,
    "slideshow": {
     "slide_type": ""
    },
    "tags": []
   },
   "source": [
    "---"
   ]
  },
  {
   "cell_type": "markdown",
   "id": "c252b81a-97ef-471d-89d1-7234a2ae1556",
   "metadata": {
    "deletable": false,
    "editable": false,
    "slideshow": {
     "slide_type": ""
    },
    "tags": []
   },
   "source": [
    "<a class=\"anchor\" id=\"wildcard\"></a>\n",
    "\n",
    "## 10. The `*` wildcard\n",
    "\n",
    "Wildcards as used at the command line are special characters that enable us to use pattern-matching expressions. The most commonly used is the `*`, which represents any character any number of times.\n",
    "\n",
    "As we've seen, running `ls` by itself lists the contents of the current working directory: "
   ]
  },
  {
   "cell_type": "code",
   "execution_count": null,
   "id": "85a7c784-7cfe-4a29-9835-9d1c450fcda2",
   "metadata": {
    "editable": false,
    "slideshow": {
     "slide_type": ""
    },
    "tags": []
   },
   "outputs": [],
   "source": [
    "ls"
   ]
  },
  {
   "cell_type": "markdown",
   "id": "3ab273d8-2ca0-4bbc-a769-76240c5839d4",
   "metadata": {
    "deletable": false,
    "editable": false,
    "slideshow": {
     "slide_type": ""
    },
    "tags": []
   },
   "source": [
    "By default it assumes we want everything. But we can be more specific about what we're interested in by giving it a positional argument that narrows things down. \n",
    "\n",
    "If we wanted to only list all the files that end with \".txt\", we could use the `*` wildcard like so:"
   ]
  },
  {
   "cell_type": "code",
   "execution_count": null,
   "id": "6eac55d7-4077-4c91-b5d9-a6c68b5a3516",
   "metadata": {
    "editable": false,
    "slideshow": {
     "slide_type": ""
    },
    "tags": []
   },
   "outputs": [],
   "source": [
    "ls *.txt"
   ]
  },
  {
   "cell_type": "markdown",
   "id": "537c521d-1f8b-4a75-ac5a-5a7068ab0a72",
   "metadata": {
    "deletable": false,
    "editable": false,
    "slideshow": {
     "slide_type": ""
    },
    "tags": []
   },
   "source": [
    "It's not just for `ls` that this works, but for many things, such as copying or moving files, or specifying what files to give a program. More on wildcards, and the also powerful redirectors, can be found [here](https://astrobiomike.github.io/unix/wild-redirectors)."
   ]
  },
  {
   "cell_type": "markdown",
   "id": "a4fc4916-606f-4b7e-857f-27cd8bce590c",
   "metadata": {
    "deletable": false,
    "editable": false,
    "slideshow": {
     "slide_type": ""
    },
    "tags": []
   },
   "source": [
    "---"
   ]
  },
  {
   "cell_type": "markdown",
   "id": "eaca4bd8-bc11-4595-a615-ff161cc2ff83",
   "metadata": {
    "deletable": false,
    "editable": false,
    "slideshow": {
     "slide_type": ""
    },
    "tags": []
   },
   "source": [
    "<a class=\"anchor\" id=\"summary\"></a>\n",
    "\n",
    "## 11. Summary\n",
    "\n",
    "The information above is the foundation needed to start utilizing the Unix-like command line – which then gives us the capability to use lots of tools that only work at a command line, manipulate large files rapidly, access and work with remote computers, and more. This is all we will be covering as our foundation for the commands we will use to process data in the <a href=\"https://github.com/nasa/GeneLab-Training/tree/main/GL4U\">GL4U</a>  'omics-specific module sets. To learn more about Unix, we recommend going through the full 5-part <a href=\"https://astrobiomike.github.io/unix/unix-intro\" target=\"_blank\">Unix introduction</a> at <a href=\"https://astrobiomike.github.io\" target=\"_blank\">Happy Belly Bioinformatics</a> if you plan to spend more time doing general bioinformatics work.\n",
    "\n",
    "---\n",
    "\n",
    "Next, we are going to move on to a brief [introduction to R](03-R-intro.ipynb).\n",
    "\n",
    "---\n"
   ]
  },
  {
   "cell_type": "markdown",
   "id": "ff35870e-5d7f-47c1-ba59-9d1328081a0e",
   "metadata": {
    "editable": false,
    "slideshow": {
     "slide_type": ""
    },
    "tags": []
   },
   "source": [
    "**Terms introduced:**\n",
    "\n",
    "| Term     | Definition          |\n",
    "|:----------:|------------------|\n",
    "| `path` | the address system the computer uses to keep track of files and directories |\n",
    "| `root` | where the address system of the computer starts, `/` |\n",
    "| `home` | where the current user's location starts, `~/` |\n",
    "| `absolute path` | an address that starts from a specified location, i.e. root, or home |\n",
    "| `relative path` | an address that starts from wherever we are |\n",
    "\n",
    "\n",
    "<br>\n",
    "\n",
    "**Commands introduced:**\n",
    "\n",
    "|Command     |Function          |\n",
    "|:----------:|------------------|\n",
    "|`date`| prints out information about the current date and time |\n",
    "|`head`| prints out the first lines of a file |\n",
    "|`pwd` | prints out where we are in the computer (print working directory) |\n",
    "|`ls`  | lists contents of a directory (list) |\n",
    "|`cd`| change directories |\n",
    "|`echo`  | print out whatever we tell it |\n",
    "|`cp`  | copy a file or directory |\n",
    "|`mv`  | move/rename a file or directory |\n",
    "|`cat`  | print out contents of one or more files |\n",
    "\n",
    "\n",
    "<br>\n",
    "\n",
    "**Special characters introduced:**\n",
    "\n",
    "|Characters     | Meaning          |\n",
    "|:----------:|------------------|\n",
    "| `/` | the computer's root location |\n",
    "| `~/` | the user's home location |\n",
    "| `./` or `.` | specifies the current working directory |\n",
    "| `../` or `..` | specifies a directory one level \"above\" the current working directory |\n",
    "| `>` | re-directs the output to a new file |\n",
    "| `*` | a wildcard that represents any character, any number of times |\n",
    "\n",
    "---\n",
    "\n",
    "Next, we are going to move on to a brief [introduction to R](03-R-intro.ipynb).\n"
   ]
  },
  {
   "cell_type": "markdown",
   "id": "158f92ea-53fa-4607-803c-f16ec13ab389",
   "metadata": {
    "deletable": false,
    "editable": false,
    "slideshow": {
     "slide_type": ""
    },
    "tags": []
   },
   "source": [
    "---\n",
    "---\n",
    "\n",
    "[**Previous:** 1. Jupyter intro](01-jupyter-intro.ipynb)\n",
    "<br>\n",
    "\n",
    "<div style=\"text-align: right\"><a href=\"03-R-intro.ipynb\"><b>Next:</b> 3. R intro</a></div>\n"
   ]
  }
 ],
 "metadata": {
  "kernelspec": {
   "display_name": "Bash",
   "language": "bash",
   "name": "bash"
  },
  "language_info": {
   "codemirror_mode": "shell",
   "file_extension": ".sh",
   "mimetype": "text/x-sh",
   "name": "bash"
  }
 },
 "nbformat": 4,
 "nbformat_minor": 5
}
