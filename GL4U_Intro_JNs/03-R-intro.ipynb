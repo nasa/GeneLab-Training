{
 "cells": [
  {
   "cell_type": "markdown",
   "metadata": {
    "deletable": false,
    "editable": false,
    "slideshow": {
     "slide_type": ""
    },
    "tags": []
   },
   "source": [
    "<hr style=\"height:0px; visibility:hidden;\" />\n",
    "\n",
    "<h1><center><b>GL4U: Introduction<b></center></h1>\n",
    "\n",
    "<h1><center>3. R Introduction</center></h1>\n",
    "\n",
    "<div class=\"alert alert-block alert-success\">\n",
    "There are several commonly used bioinformatics programs built in R, including the tools we will use to process data in the <a href=\"https://github.com/nasa/GeneLab-Training/tree/main/GL4U\">GL4U</a>  'omics-specific module sets. So here we are going to develop a little foundation for working in R. Just like with Unix, none of this is about memorization. R in particular can become a little messy looking if we aren't yet used to it, so don't worry if things seem a little confusing. This is just about exposure for now. 🙂\n",
    "</div>\n",
    "\n",
    "---\n",
    "\n",
    "<center>This is notebook 3\n",
    "of 4 of GL4U's Introduction Module Set. It is expected that the previous notebooks have been completed already.</center>\n",
    "\n",
    "---\n",
    "\n",
    "[**Previous:** 2. Unix intro](02-unix-intro.ipynb)\n",
    "<br>\n",
    "\n",
    "<div style=\"text-align: right\"><a href=\"04-sequencing-data-QC.ipynb\"><b>Next:</b> 4. Sequencing data QC</a></div>\n",
    "\n",
    "---\n",
    "---"
   ]
  },
  {
   "cell_type": "markdown",
   "metadata": {
    "deletable": false,
    "editable": false,
    "slideshow": {
     "slide_type": ""
    },
    "tags": []
   },
   "source": [
    "# Table of Contents\n",
    "\n",
    "* [0. What is R?](#0.-What-is-R?) \n",
    "* [1. Introduction to programming in R](#1.-Introduction-to-programming-in-R) \n",
    "  * [1a. Installing and loading packages/libraries in R](#1a.-Installing-and-loading-packages/libraries-in-R) \n",
    "  * [1b. Defining locations and assigning variables in R](#1b.-Defining-locations-and-assigning-variables-in-R) \n",
    "  * [1c. Loading and viewing a data file in R](#1c.-Loading-and-viewing-a-data-file-in-R) \n",
    "    * [help()](#help()) \n",
    "    * [read.table()](#read.table()) \n",
    "    * [head()](#head()) \n",
    "    * [dim()](#dim()) \n",
    "    * [summary()](#summary()) \n",
    "  * [1d. Data frame manipulations](#1d.-Data-frame-manipulations) \n",
    "    * [Add a value to all cells](#Add-a-value-to-all-cells) \n",
    "    * [Take the log of all cells](#Take-the-log-of-all-cells) \n",
    "    * [Convert data frame to contain only integers](#Convert-data-frame-to-contain-only-integers) \n",
    "    * [Slice a data frame column](#Slice-a-data-frame-column) \n",
    "    * [Slice a data frame row](#Slice-a-data-frame-row) \n",
    "    * [Filter data in a data frame](#Filter-data-in-a-data-frame) \n",
    "    * [Add columns to a data frame](#Add-columns-to-a-data-frame) \n",
    "    * [Combine data frames](#Combine-data-frames) \n",
    "  * [1e. Export data from R](#1e.-Export-data-from-R) \n",
    "  * [1f. Visualizations](#1f.-Visualizations) \n",
    "* [2. Using the Tidyverse](#2.-Using-the-Tidyverse) \n",
    "* [3. Final thought](#3.-Final-thought) \n",
    "\n",
    "<br>\n",
    "\n",
    "---\n",
    "---"
   ]
  },
  {
   "cell_type": "markdown",
   "metadata": {
    "deletable": false,
    "editable": false,
    "slideshow": {
     "slide_type": ""
    },
    "tags": []
   },
   "source": [
    "<a class=\"anchor\" id=\"zeroR\"></a>\n",
    "\n",
    "# 0. What is R?\n",
    "\n",
    "R is a programming language designed specifically for statistical analysis and computing. R has many bioinformatic libraries (bundles of code made for performing specific tasks) for statistical analysis, as well as for data visualization. What really adds to the power of R is that it is a completely free and open-source project, and there is an enormous community of people all over the world that create these libraries of code for all of us to use."
   ]
  },
  {
   "cell_type": "markdown",
   "metadata": {
    "deletable": false,
    "editable": false,
    "slideshow": {
     "slide_type": ""
    },
    "tags": []
   },
   "source": [
    "---"
   ]
  },
  {
   "cell_type": "markdown",
   "metadata": {
    "deletable": false,
    "editable": false,
    "slideshow": {
     "slide_type": ""
    },
    "tags": []
   },
   "source": [
    "<a class=\"anchor\" id=\"oneR\"></a>\n",
    "\n",
    "# 1. Introduction to programming in R\n",
    "\n",
    "Commands are more commonly called functions in R. The syntax of how these generally work in R looks like this: \n",
    "\n",
    "`function(arguments)`\n",
    "\n",
    "Where the function name comes first and is followed by parentheses which would contain any arguments if they were needed. \n",
    "\n",
    "Even for functions that don't require any arguments, the function name still typically needs to be followed by parentheses so R knows to execute it. So running a function that doesn't need any arguments would look like this:\n",
    "\n",
    "`function()`"
   ]
  },
  {
   "cell_type": "markdown",
   "metadata": {
    "deletable": false,
    "editable": false,
    "slideshow": {
     "slide_type": ""
    },
    "tags": []
   },
   "source": [
    "<a class=\"anchor\" id=\"lib\"></a>\n",
    "\n",
    "## 1a. Installing and loading packages/libraries in R\n",
    "\n",
    "An R library, or package, is a collection of functions, compiled code, and sometimes data. Some R packages are installed automatically with the base R installation, but there are tens of thousands that are not. The most prominent repositories for R packages are the [Comprehensive R Archive Network (CRAN)](https://cran.r-project.org/web/packages/) and [Bioconductor](https://www.bioconductor.org/). \n",
    "\n",
    "If we want to use a package, we first may need to install it if we don't have it already. The typical way to install a package from the CRAN repository is with the `install.packages()` function. For example, the following is the syntax to install the BiocManager package, which is then itself used to install any package from the [Bioconductor](https://www.bioconductor.org/) suite.\n",
    "\n",
    "`install.packages(\"BiocManager\")`\n",
    "\n",
    "<div class=\"alert alert-block alert-info\">\n",
    "    <b>Note</b>\n",
    "    <br>\n",
    "    You don't need to run any of the commands from this 1a section, they are just here as examples.\n",
    "</div>\n"
   ]
  },
  {
   "cell_type": "markdown",
   "metadata": {
    "editable": false,
    "slideshow": {
     "slide_type": ""
    },
    "tags": []
   },
   "source": [
    "[Bioconductor](https://www.bioconductor.org/) packages including [DESeq2](https://www.bioconductor.org/packages/release/bioc/html/DESeq2.html), a leading program for differential gene-expression analysis, are installed using the BiocManager `install()` function (instead of the `install.packages()` function). Here is how we would install DESeq2:\n",
    "\n",
    "`BiocManager::install(\"DESeq2\")`\n",
    "\n",
    "\n",
    "After a package is installed, we can access a function in it by starting with the package name, followed by 2 colons, and then using the function we want (as is done directly above). And sometimes we may want to do that in order to be explicit because sometimes different functions in different packages can actually have the same name. But often when we will be using many of the functions within a package it can be more convenient to load the package. We do this with the `library()` function as shown in the example below:\n",
    "\n",
    "`library(DESeq2)`\n",
    "\n",
    "And then we can just type out the function names without needing the package name in front of them."
   ]
  },
  {
   "cell_type": "markdown",
   "metadata": {
    "deletable": false,
    "editable": false,
    "slideshow": {
     "slide_type": ""
    },
    "tags": []
   },
   "source": [
    "---"
   ]
  },
  {
   "cell_type": "markdown",
   "metadata": {
    "deletable": false,
    "editable": false,
    "slideshow": {
     "slide_type": ""
    },
    "tags": []
   },
   "source": [
    "<a class=\"anchor\" id=\"variable\"></a>\n",
    "\n",
    "## 1b. Defining locations and assigning variables in R\n",
    "\n",
    "#### getwd(), list.files(), and setwd()\n",
    "\n",
    "The `getwd()` function in R stands for \"get working directory\". This function lists the current working directory, and is similar to the `pwd` command in Unix. \n",
    "\n",
    "The `list.files()` function is similar to the `ls` command in Unix. It will list the contents of the directory we provide, or the current working directory by default.\n",
    "\n",
    "The `setwd()` function in R stands for \"set working directory\". This function allows us to change the current working directory, similar to the `cd` command in Unix.\n",
    "\n",
    "Let's run `getwd()` in the next cell to print the current working directory. This particular function doesn't require any arguments."
   ]
  },
  {
   "cell_type": "code",
   "execution_count": null,
   "metadata": {
    "editable": false,
    "slideshow": {
     "slide_type": ""
    },
    "tags": []
   },
   "outputs": [],
   "source": [
    "getwd()"
   ]
  },
  {
   "cell_type": "markdown",
   "metadata": {
    "deletable": false,
    "editable": false,
    "slideshow": {
     "slide_type": ""
    },
    "tags": []
   },
   "source": [
    "Notice that the output of `getwd()` has quotation marks around it. That is because R is treating the path as a **string**, which is a one-dimensional array of characters that only represents the textual information contained between the quotation marks.\n",
    "\n",
    "For example, 'Sally Ride was the first female American astronaut to go into space on June 18, 1983' is a string. \n",
    "\n",
    "In the next cell, try running `setwd()` to change the current working directory to the `/workspace/GeneLab-Training/intro/R_intro` directory we made in the Unix Intro. Then, run `getwd()` to check if you were successful. \n",
    "\n",
    "<div class=\"alert alert-block alert-info\">\n",
    "    <b>Note</b>\n",
    "    <br>\n",
    "    Remember that R expects paths as <b>strings</b>, so be sure to pass your path to <code>setwd()</code> as a string.\n",
    "</div>\n",
    " "
   ]
  },
  {
   "cell_type": "code",
   "execution_count": null,
   "metadata": {
    "editable": true,
    "slideshow": {
     "slide_type": ""
    },
    "tags": []
   },
   "outputs": [],
   "source": []
  },
  {
   "cell_type": "code",
   "execution_count": null,
   "metadata": {
    "editable": true,
    "slideshow": {
     "slide_type": ""
    },
    "tags": []
   },
   "outputs": [],
   "source": []
  },
  {
   "cell_type": "markdown",
   "metadata": {
    "deletable": false,
    "editable": false,
    "slideshow": {
     "slide_type": ""
    },
    "tags": []
   },
   "source": [
    "<div class=\"alert alert-block alert-success\">\n",
    "\n",
    "<details>\n",
    "<summary><b>Solution</b></summary>\n",
    "\n",
    "<br>\n",
    "\n",
    "This will set the current working directory using an *absolute path* (which will work no matter where we are, so long as the directory exists):\n",
    "    \n",
    "`setwd(\"/workspace/GeneLab-Training/intro/R_intro\")`\n",
    "\n",
    "And this prints our current working directory:\n",
    "\n",
    "`getwd()`\n",
    "\n",
    "</details>\n",
    "</div>"
   ]
  },
  {
   "cell_type": "markdown",
   "metadata": {
    "deletable": false,
    "editable": false,
    "slideshow": {
     "slide_type": ""
    },
    "tags": []
   },
   "source": [
    "#### Assigning variables in R\n",
    "\n",
    "In most programming languages, including R, we use **variables** to store information. Variables are named objects which refer to data stored in memory. In R, we use the `<-` operator to assign information to a variable. Remember that it is very important to choose informative, memorable, and short variable names.\n",
    "\n",
    "For example, in the next cell, we are going to use the variable `x` to refer to the result of the equation `2 + 4`."
   ]
  },
  {
   "cell_type": "code",
   "execution_count": null,
   "metadata": {
    "editable": false,
    "slideshow": {
     "slide_type": ""
    },
    "tags": []
   },
   "outputs": [],
   "source": [
    "x <- 2 + 4"
   ]
  },
  {
   "cell_type": "markdown",
   "metadata": {
    "deletable": false,
    "editable": false,
    "slideshow": {
     "slide_type": ""
    },
    "tags": []
   },
   "source": [
    "We can access the data stored in the variable `x` by executing the variable name by itself:"
   ]
  },
  {
   "cell_type": "code",
   "execution_count": null,
   "metadata": {
    "editable": false,
    "slideshow": {
     "slide_type": ""
    },
    "tags": []
   },
   "outputs": [],
   "source": [
    "x"
   ]
  },
  {
   "cell_type": "markdown",
   "metadata": {
    "deletable": false,
    "editable": false,
    "slideshow": {
     "slide_type": ""
    },
    "tags": []
   },
   "source": [
    "We can use variables to hold paths to locations so that we don't have to type out the path every time. Run the cell below to assign the path to the R_intro directory to the `workDir` variable. We chose the `workDir` variable as a short representation of the phrase \"working directory\"."
   ]
  },
  {
   "cell_type": "code",
   "execution_count": null,
   "metadata": {
    "editable": false,
    "slideshow": {
     "slide_type": ""
    },
    "tags": []
   },
   "outputs": [],
   "source": [
    "workDir <- '/workspace/GeneLab-Training/intro/R_intro'"
   ]
  },
  {
   "cell_type": "markdown",
   "metadata": {
    "deletable": false,
    "editable": false,
    "slideshow": {
     "slide_type": ""
    },
    "tags": []
   },
   "source": [
    "Use the next cell to print the content of the `workDir` variable. Did you assign your variable successfully?"
   ]
  },
  {
   "cell_type": "code",
   "execution_count": null,
   "metadata": {
    "editable": true,
    "slideshow": {
     "slide_type": ""
    },
    "tags": []
   },
   "outputs": [],
   "source": []
  },
  {
   "cell_type": "markdown",
   "metadata": {
    "deletable": false,
    "editable": false,
    "slideshow": {
     "slide_type": ""
    },
    "tags": []
   },
   "source": [
    "<div class=\"alert alert-block alert-success\">\n",
    "\n",
    "<details>\n",
    "<summary><b>Solution</b></summary>\n",
    "\n",
    "<br>\n",
    "\n",
    "Running just the variable name will print out its contents:\n",
    "\n",
    "`workDir`\n",
    "\n",
    "</details>\n",
    "</div>"
   ]
  },
  {
   "cell_type": "markdown",
   "metadata": {
    "deletable": false,
    "editable": false,
    "slideshow": {
     "slide_type": ""
    },
    "tags": []
   },
   "source": [
    "We can also use variables to store large amounts of data, such as assigning data within a matrix to a variable as you'll see in the next section.\n",
    "\n",
    "<div class=\"alert alert-block alert-warning\">\n",
    "<center><b>WARNING</b></center>\n",
    "Never name your variable after a common function or a built-in variable in R. For a list of built-in R functions and variables, see \"Appendix D Function and variable index\" of the <a href=\"https://cran.r-project.org/doc/manuals/r-release/R-intro.pdf\">R manual (pdf)</a>.\n",
    "</div>\n",
    "\n"
   ]
  },
  {
   "cell_type": "markdown",
   "metadata": {
    "deletable": false,
    "editable": false,
    "slideshow": {
     "slide_type": ""
    },
    "tags": []
   },
   "source": [
    "---"
   ]
  },
  {
   "attachments": {
    "ace93f5a-4337-4c8d-a9fd-eb690bf2b063.png": {
     "image/png": "[encoded data removed]"
    }
   },
   "cell_type": "markdown",
   "metadata": {
    "deletable": false,
    "editable": false,
    "slideshow": {
     "slide_type": ""
    },
    "tags": []
   },
   "source": [
    "<a class=\"anchor\" id=\"file\"></a>\n",
    "\n",
    "## 1c. Loading and viewing a data file in R\n",
    "\n",
    "To begin working with a data file in R, we first have to load (aka read in) the file. How we load in a data file will depend on the file type and how the data are structured within it. R has several built-in functions for reading in common file types, including .csv (comma-separated values) files and .tsv (tab-separated-values) files.\n",
    "\n",
    "In this tutorial, we are going to read in a .csv file.\n",
    "\n",
    "Here is what our \"example.csv\" file looks like in plain-text, where we can see it has comma-separated values:\n",
    "\n",
    "<center><img src=\"attachment:ace93f5a-4337-4c8d-a9fd-eb690bf2b063.png\" width=\"30%\"></center>\n",
    "<br>\n"
   ]
  },
  {
   "attachments": {
    "579f3730-e0ca-47fa-9444-7a71a44791c5.png": {
     "image/png": "[encoded data removed]"
    }
   },
   "cell_type": "markdown",
   "metadata": {
    "editable": false,
    "slideshow": {
     "slide_type": ""
    },
    "tags": []
   },
   "source": [
    "And here it is in spreadsheet form, where we can also more clearly see it has column names (a header) and row names:\n",
    "\n",
    "<center><img src=\"attachment:579f3730-e0ca-47fa-9444-7a71a44791c5.png\" width=\"40%\"></center>\n",
    "\n",
    "<br>\n",
    "\n",
    "To read this file into R, we will use a function called `read.table()`. This function will create a data frame, which is a very common data structure in R that is similar to a matrix. "
   ]
  },
  {
   "cell_type": "markdown",
   "metadata": {
    "deletable": false,
    "editable": false,
    "slideshow": {
     "slide_type": ""
    },
    "tags": []
   },
   "source": [
    "<a class=\"anchor\" id=\"help\"></a>\n",
    "#### help()\n",
    "\n",
    "Before reading in the .csv file, we'll use the `help()` function in R to look at the arguments available for the `read.table()` function. This is similar to the `--help` option that's available in many Unix commands.\n",
    "\n",
    "<div class=\"alert alert-block alert-info\">\n",
    "<b>Note</b>\n",
    "<br>\n",
    "    \n",
    "There is a lot of information in the output from the following <code>help()</code> menu. Often reading data into R is something we will try with the settings we think are appropriate, then check what was read in, then try again as we figure out exactly which arguments are needed for our particular data to be read in properly.\n",
    "\n",
    "After running the following cell, scan through the help menu and pay particular attention to `header`, `sep`, and `row.names`, as those are relevant to the example data we are going to use. But don't worry about reading *everything* in there.\n",
    "\n",
    "After looking at the help information, since it is so long we may want to collapse it when we aren't looking at it. To collapse it, you can select the output block, and then click the vertical blue bar to its left. It will shrink to 3 dots, which can then be clicked to re-open it.\n",
    "\n",
    "</div>\n"
   ]
  },
  {
   "cell_type": "code",
   "execution_count": null,
   "metadata": {
    "editable": false,
    "slideshow": {
     "slide_type": ""
    },
    "tags": []
   },
   "outputs": [],
   "source": [
    "help(read.table)"
   ]
  },
  {
   "cell_type": "markdown",
   "metadata": {
    "editable": false,
    "slideshow": {
     "slide_type": ""
    },
    "tags": []
   },
   "source": [
    "**?COMMAND**\n",
    "\n",
    "In addition to the help() function, you can also pull up the help menu for a command or function in R by typing a `?` followed by the command or function. Run the code block below to bring up the help menu for the `read.table()` function again, but this time using the `?`:"
   ]
  },
  {
   "cell_type": "code",
   "execution_count": null,
   "metadata": {
    "editable": false,
    "slideshow": {
     "slide_type": ""
    },
    "tags": []
   },
   "outputs": [],
   "source": [
    "?read.table"
   ]
  },
  {
   "cell_type": "markdown",
   "metadata": {
    "deletable": false,
    "editable": false,
    "slideshow": {
     "slide_type": ""
    },
    "tags": []
   },
   "source": [
    "<a class=\"anchor\" id=\"read\"></a>\n",
    "#### read.table()\n",
    "\n",
    "Typically, the default settings of `read.table()` will not all be suited to the particular file we are reading in, and we'll have to provide the function with a set of arguments that suit our data. Each possible argument within a function is separated by a `,`. The default arguments for `read.table()` are specified right near the top of the help menu, under \"Usage\", and include things like `header = FALSE` and `sep = \"\"` – two things we already know aren't correct for our use here based on looking at the images of our \"example.csv\" file above.\n",
    "\n",
    "But let's see anyway what things look like if we just try to read the file in without any arguments other than specifying the file name (which is a required argument). We'll store it in a variable called `myDF` (short for my data frame) by using the assignment operator (`<-`) just like when we've previously created variables:"
   ]
  },
  {
   "cell_type": "code",
   "execution_count": null,
   "metadata": {
    "editable": false,
    "slideshow": {
     "slide_type": ""
    },
    "tags": []
   },
   "outputs": [],
   "source": [
    "myDF <- read.table(\"example.csv\")"
   ]
  },
  {
   "cell_type": "markdown",
   "metadata": {
    "deletable": false,
    "editable": false,
    "slideshow": {
     "slide_type": ""
    },
    "tags": []
   },
   "source": [
    "And then we will print out the contents by running just the variable name:"
   ]
  },
  {
   "cell_type": "code",
   "execution_count": null,
   "metadata": {
    "editable": false,
    "slideshow": {
     "slide_type": ""
    },
    "tags": []
   },
   "outputs": [],
   "source": [
    "myDF"
   ]
  },
  {
   "cell_type": "markdown",
   "metadata": {
    "deletable": false,
    "editable": false,
    "slideshow": {
     "slide_type": ""
    },
    "tags": []
   },
   "source": [
    "So that doesn't look right. Everything is all in one column, with no row names, and our column names are in the first row of data (R will add column names if it thinks there are none, like \"V1\" above).\n",
    "\n",
    "Looking at the `help()` menu output above, under the \"Arguments\" section, here is what it notes for \"sep\":\n",
    "\n",
    "\n",
    "> | | | \n",
    "> |---:|---|\n",
    "> | `sep` | the field separator character. Values on each line of the file are separated by this character. If `sep = \"\"` (the default for `read.table`) the separator is ‘white space’, that is one or more spaces, tabs, newlines or carriage returns. |\n",
    "\n",
    "So right now, it is trying to break apart the columns based on \"white space\".\n",
    "\n",
    "Since we know our \"example.csv\" file has comma-separated values, let's add an argument for that, explicitly saying the separator is a comma, and then see how things look:"
   ]
  },
  {
   "cell_type": "code",
   "execution_count": null,
   "metadata": {
    "editable": false,
    "slideshow": {
     "slide_type": ""
    },
    "tags": []
   },
   "outputs": [],
   "source": [
    "myDF <- read.table(\"example.csv\", sep = \",\")"
   ]
  },
  {
   "cell_type": "code",
   "execution_count": null,
   "metadata": {
    "editable": false,
    "slideshow": {
     "slide_type": ""
    },
    "tags": []
   },
   "outputs": [],
   "source": [
    "myDF"
   ]
  },
  {
   "cell_type": "markdown",
   "metadata": {
    "deletable": false,
    "editable": false,
    "slideshow": {
     "slide_type": ""
    },
    "tags": []
   },
   "source": [
    "Getting better. Now at least our columns are split apart properly. But our row names and columns names are currently not being treated as such, since alternate column names were added and the first one starts over our actual row names.\n",
    "\n",
    "Here is part of what is noted for \"row.names\" under the \"Arguments\" section of the `help()` menu:\n",
    "\n",
    "> | | | \n",
    "> |---:|---|\n",
    "> | `row.names` | a vector of row names. This can be a vector giving the actual row names, or *a single number giving the column of the table which contains the row names*, or character string giving the name of the table column containing the row names. |\n",
    "\n",
    "That may be a bit confusing if we're not used to reading these yet, but the key part is italicized above. \n",
    "\n",
    "What we want as row names is the first column in our file. Try modifying our last line (in the following cell) by adding the `row.names` argument specifying which column we want to be used as the row names (note that numbers should **not** be quoted like we do with \"strings\"):"
   ]
  },
  {
   "cell_type": "code",
   "execution_count": null,
   "metadata": {
    "editable": true,
    "slideshow": {
     "slide_type": ""
    },
    "tags": []
   },
   "outputs": [],
   "source": [
    "myDF <- read.table(\"example.csv\", sep = \",\",)"
   ]
  },
  {
   "cell_type": "code",
   "execution_count": null,
   "metadata": {
    "editable": false,
    "slideshow": {
     "slide_type": ""
    },
    "tags": []
   },
   "outputs": [],
   "source": [
    "myDF"
   ]
  },
  {
   "cell_type": "markdown",
   "metadata": {
    "deletable": false,
    "editable": false,
    "slideshow": {
     "slide_type": ""
    },
    "tags": []
   },
   "source": [
    "<div class=\"alert alert-block alert-success\">\n",
    "\n",
    "<details>\n",
    "<summary><b>Solution</b></summary>\n",
    "\n",
    "<br>\n",
    "\n",
    "In this case, since the column number that holds the row names we want is the first column, we can add `row.names = 1` to our comma-separated list of arguments inside the function parentheses:\n",
    "    \n",
    "`myDF <- read.table(\"example.csv\", sep = \",\", row.names = 1)`\n",
    "\n",
    "Then we can print it out to see what it looks like:\n",
    "\n",
    "`myDF`\n",
    "\n",
    "</details>\n",
    "</div>\n"
   ]
  },
  {
   "cell_type": "markdown",
   "metadata": {
    "deletable": false,
    "editable": false,
    "slideshow": {
     "slide_type": ""
    },
    "tags": []
   },
   "source": [
    "Once we add that, all that seems left is our column names are still not being used as the header. Here is part of what the `help()` menu says about \"header\" under the \"Arguments\" section:\n",
    "\n",
    "> | | | \n",
    "> |---:|---|\n",
    "> | `header` | a logical value indicating whether the file contains the names of the variables as its first line. |\n",
    "\n",
    "A \"logical value\" means `TRUE` or `FALSE` (all caps, and deliberately **not** quoted like \"strings\" are, as these are special values in R). \n",
    "\n",
    "So here we are adding in the argument telling the program our input file does contain a header:"
   ]
  },
  {
   "cell_type": "code",
   "execution_count": null,
   "metadata": {
    "editable": false,
    "slideshow": {
     "slide_type": ""
    },
    "tags": []
   },
   "outputs": [],
   "source": [
    "myDF <- read.table(\"example.csv\", sep = \",\", row.names = 1, header = TRUE)"
   ]
  },
  {
   "cell_type": "code",
   "execution_count": null,
   "metadata": {
    "editable": false,
    "slideshow": {
     "slide_type": ""
    },
    "tags": []
   },
   "outputs": [],
   "source": [
    "myDF"
   ]
  },
  {
   "attachments": {
    "21d62986-2754-40ae-8dd7-e4ba965b906c.png": {
     "image/png": "[encoded data removed]"
    }
   },
   "cell_type": "markdown",
   "metadata": {
    "deletable": false,
    "editable": false,
    "slideshow": {
     "slide_type": ""
    },
    "tags": []
   },
   "source": [
    "And now our table in R looks similar to what we expect:\n",
    "\n",
    "<center><img src=\"attachment:21d62986-2754-40ae-8dd7-e4ba965b906c.png\" width=\"40%\"></center>\n",
    "<br>\n",
    "\n",
    "Summarizing the arguments we added:\n",
    "- `example.csv` - the path to the file we want to read in (which is just its name here because it is in our current working directory)\n",
    "- `sep = \",\"` - specifying that a comma is what separates our columns\n",
    "- `row.names = 1` – specifying that the first column of the file should serve as the row names \n",
    "- `header = TRUE` – specifying that the first line of the file is a header, or column names\n",
    "\n",
    "It is common to do a little trial-and-error like this when reading in and writing out files in R and other languages. \n",
    "\n",
    "One more note on the input file location. As mentioned, since the `example.csv` file is in our current working directory, we were able to just provide the file name as the relative path for the computer to find it, like this:\n",
    "\n",
    "`myDF <- read.table(\"example.csv\", sep = \",\", row.names = 1, header = TRUE)`\n",
    "\n",
    "However, if the file were located in a directory other than the current working directory, we would have to explicitly convey the path to the directory that holds it. \n",
    "\n",
    "<a class=\"anchor\" id=\"nest\"></a>\n",
    "#### Nest R functions\n",
    "\n",
    "If the directory location of the file is held in a variable (as with the `workDir` variable we set in [section 1b](#1b.-Defining-locations-and-assigning-variables-in-R)), we could also use the function `file.path()` to construct the path to the file by combining the directory variable and the file name. The `file.path()` function will stick multiple arguments together, adding in the appropriate separator (like `/` for Unix or Mac systems, or `\\` for Windows systems). \n",
    "\n",
    "For example, we could have read the same file in like this:\n",
    "\n",
    "`myDF <- read.table(file.path(workDir, \"example.csv\"), sep = \",\", row.names = 1, header = TRUE)`\n",
    "\n",
    "We can run the cell below to see what the output of `file.path(workDir, \"example.csv\")` is producing:"
   ]
  },
  {
   "cell_type": "code",
   "execution_count": null,
   "metadata": {
    "editable": false,
    "slideshow": {
     "slide_type": ""
    },
    "tags": []
   },
   "outputs": [],
   "source": [
    "file.path(workDir, \"example.csv\")"
   ]
  },
  {
   "cell_type": "markdown",
   "metadata": {
    "deletable": false,
    "editable": false,
    "slideshow": {
     "slide_type": ""
    },
    "tags": []
   },
   "source": [
    "So putting `file.path(...)` like in the above cell where the input file argument goes to the `read.table()` function is the same as typing out that full path ourselves and putting it there.\n",
    "\n",
    "It's not uncommon to \"nest\" functions like this in R, where here the `file.path()` function is being called inside the `read.table()` function.\n",
    "\n",
    "Let's run the following cell and start looking at our `myDF` object now."
   ]
  },
  {
   "cell_type": "code",
   "execution_count": null,
   "metadata": {
    "editable": false,
    "slideshow": {
     "slide_type": ""
    },
    "tags": []
   },
   "outputs": [],
   "source": [
    "myDF"
   ]
  },
  {
   "cell_type": "markdown",
   "metadata": {
    "deletable": false,
    "editable": false,
    "slideshow": {
     "slide_type": ""
    },
    "tags": []
   },
   "source": [
    "\n",
    "\n",
    "How many columns are in the `myDF` data frame?\n",
    "\n",
    "How many rows?\n",
    "\n",
    "<div class=\"alert alert-block alert-success\">\n",
    "\n",
    "<details>\n",
    "<summary><b>Solution</b></summary>\n",
    "<br>\n",
    "\n",
    "There are 3 columns and 10 rows.\n",
    "\n",
    "</details>\n",
    "</div>"
   ]
  },
  {
   "cell_type": "markdown",
   "metadata": {
    "deletable": false,
    "editable": false,
    "slideshow": {
     "slide_type": ""
    },
    "tags": []
   },
   "source": [
    "<a class=\"anchor\" id=\"headR\"></a>\n",
    "#### head()\n",
    "\n",
    "Although in this example there is a manageable amount of data in `myDF`, in many cases viewing all the data may be unfeasible. Thus, similar to the `head` command in Unix, R also has a built-in function to view only a certain number of rows of a data frame or matrix, called `head()`. \n",
    "\n",
    "In the next cell, run `head()` and provide only one argument, the data frame variable."
   ]
  },
  {
   "cell_type": "code",
   "execution_count": null,
   "metadata": {
    "editable": true,
    "slideshow": {
     "slide_type": ""
    },
    "tags": []
   },
   "outputs": [],
   "source": []
  },
  {
   "cell_type": "markdown",
   "metadata": {
    "deletable": false,
    "editable": false,
    "slideshow": {
     "slide_type": ""
    },
    "tags": []
   },
   "source": [
    "<div class=\"alert alert-block alert-success\">\n",
    "\n",
    "<details>\n",
    "<summary><b>Solution</b></summary>\n",
    "\n",
    "<br>\n",
    "\n",
    "`head(myDF)`\n",
    "\n",
    "</details>\n",
    "</div>"
   ]
  },
  {
   "cell_type": "markdown",
   "metadata": {
    "deletable": false,
    "editable": false,
    "slideshow": {
     "slide_type": ""
    },
    "tags": []
   },
   "source": [
    "How many lines are given by default with the `head()` command in R? Is this different from the number of lines given by default with the `head` command in Unix? \n",
    "\n",
    "<div class=\"alert alert-block alert-success\">\n",
    "\n",
    "<details>\n",
    "<summary><b>Solution</b></summary>\n",
    "\n",
    "<br>\n",
    "\n",
    "`head()` in R prints out 6 lines by default\n",
    "    \n",
    "Yes, the `head` command in Unix prints out 10 by default\n",
    "\n",
    "</details>\n",
    "</div>\n",
    "\n",
    "\n",
    "We can also specify the number of lines we want to view by providing `head()` with another argument, e.g., `n = 3`:"
   ]
  },
  {
   "cell_type": "code",
   "execution_count": null,
   "metadata": {
    "editable": false,
    "slideshow": {
     "slide_type": ""
    },
    "tags": []
   },
   "outputs": [],
   "source": [
    "head(myDF, n = 3)"
   ]
  },
  {
   "cell_type": "markdown",
   "metadata": {
    "deletable": false,
    "editable": false,
    "slideshow": {
     "slide_type": ""
    },
    "tags": []
   },
   "source": [
    "Use the next cell to print the first 8 rows of the `myDF` data frame."
   ]
  },
  {
   "cell_type": "code",
   "execution_count": null,
   "metadata": {
    "editable": true,
    "slideshow": {
     "slide_type": ""
    },
    "tags": []
   },
   "outputs": [],
   "source": []
  },
  {
   "cell_type": "markdown",
   "metadata": {
    "deletable": false,
    "editable": false,
    "slideshow": {
     "slide_type": ""
    },
    "tags": []
   },
   "source": [
    "<div class=\"alert alert-block alert-success\">\n",
    "\n",
    "<details>\n",
    "<summary><b>Solution</b></summary>\n",
    "\n",
    "<br>\n",
    "\n",
    "`head(myDF, n = 8)`\n",
    "    \n",
    "</details>\n",
    "</div>"
   ]
  },
  {
   "cell_type": "markdown",
   "metadata": {
    "deletable": false,
    "editable": false,
    "slideshow": {
     "slide_type": ""
    },
    "tags": []
   },
   "source": [
    "<a class=\"anchor\" id=\"dim\"></a>\n",
    "#### dim()\n",
    "\n",
    "R also has a function called `dim()` that will allow us to print the dimensions of the data frame without having to print any lines. \n",
    "\n",
    "In the next cell, use the `dim()` function to report the *dimensions*, or number of rows and columns, of the `myDF` data frame. "
   ]
  },
  {
   "cell_type": "code",
   "execution_count": null,
   "metadata": {
    "editable": false,
    "slideshow": {
     "slide_type": ""
    },
    "tags": []
   },
   "outputs": [],
   "source": [
    "dim(myDF)"
   ]
  },
  {
   "cell_type": "markdown",
   "metadata": {
    "deletable": false,
    "editable": false,
    "slideshow": {
     "slide_type": ""
    },
    "tags": []
   },
   "source": [
    "Is the row or column dimension reported first?\n",
    "\n",
    "How many rows does `myDF` have? How many columns? "
   ]
  },
  {
   "cell_type": "markdown",
   "metadata": {
    "deletable": false,
    "editable": false,
    "slideshow": {
     "slide_type": ""
    },
    "tags": []
   },
   "source": [
    "<div class=\"alert alert-block alert-success\">\n",
    "\n",
    "<details>\n",
    "<summary><b>Solution</b></summary>\n",
    "\n",
    "<br>\n",
    "The number of rows is reported first.  \n",
    "\n",
    "<br>\n",
    "\n",
    "It reports 10 rows and 3 columns.\n",
    "\n",
    "</details>\n",
    "</div>"
   ]
  },
  {
   "cell_type": "markdown",
   "metadata": {
    "deletable": false,
    "editable": false,
    "slideshow": {
     "slide_type": ""
    },
    "tags": []
   },
   "source": [
    "<a class=\"anchor\" id=\"sumry\"></a>\n",
    "#### summary()\n",
    "\n",
    "To get more information about a loaded data frame without having to print the entire thing, we can use the `summary()` function in R to print a mathematical summary. \n",
    "\n",
    "<div class=\"alert alert-block alert-info\">\n",
    "<b>Note</b>\n",
    "<br>\n",
    "\n",
    "`summary()` can also be used on many non-data frame objects.\n",
    "</div>\n",
    "\n",
    "Run the `summary()` function in the next cell to view a mathematical summary of the `myDF` data frame."
   ]
  },
  {
   "cell_type": "code",
   "execution_count": null,
   "metadata": {
    "editable": true,
    "slideshow": {
     "slide_type": ""
    },
    "tags": []
   },
   "outputs": [],
   "source": []
  },
  {
   "cell_type": "markdown",
   "metadata": {
    "deletable": false,
    "editable": false,
    "slideshow": {
     "slide_type": ""
    },
    "tags": []
   },
   "source": [
    "<div class=\"alert alert-block alert-success\">\n",
    "\n",
    "<details>\n",
    "<summary><b>Solution</b></summary>\n",
    "\n",
    "<br>\n",
    "\n",
    "`summary(myDF)`\n",
    "\n",
    "</details>\n",
    "</div>\n"
   ]
  },
  {
   "cell_type": "markdown",
   "metadata": {
    "deletable": false,
    "editable": false,
    "slideshow": {
     "slide_type": ""
    },
    "tags": []
   },
   "source": [
    "Which column contains the highest median value in the data frame, `myDF`? \n",
    "\n",
    "Which column contains the highest overall value?\n",
    "\n",
    "<div class=\"alert alert-block alert-success\">\n",
    "\n",
    "<details>\n",
    "<summary><b>Solution</b></summary>\n",
    "\n",
    "Column 3 contains the highest median value and the highest overall value.\n",
    "\n",
    "</details>\n",
    "</div>\n"
   ]
  },
  {
   "cell_type": "markdown",
   "metadata": {
    "deletable": false,
    "editable": false,
    "slideshow": {
     "slide_type": ""
    },
    "tags": []
   },
   "source": [
    "---"
   ]
  },
  {
   "cell_type": "markdown",
   "metadata": {
    "deletable": false,
    "editable": false,
    "slideshow": {
     "slide_type": ""
    },
    "tags": []
   },
   "source": [
    "<a class=\"anchor\" id=\"df\"></a>\n",
    "\n",
    "## 1d. Data frame manipulations\n",
    "\n",
    "Much of the data we work with in bioinformatics is in the data frame or matrix format. For example, gene expression data is usually held in matrix format, with samples as columns and genes as rows, where each entry (or cell) in the matrix contains the expression of a particular gene in a particular sample. \n",
    "\n",
    "When analyzing numerical data in table format, it can be useful to be able to perform mathematical functions on all cells in a data frame, such as adding a value to all cells or taking the log of all cells. Fortunately, R makes that easy for us to do. \n",
    "\n",
    "Below are some examples of common mathematical manipulations we often perform on data frames in bioinformatics.  "
   ]
  },
  {
   "cell_type": "markdown",
   "metadata": {
    "deletable": false,
    "editable": false,
    "slideshow": {
     "slide_type": ""
    },
    "tags": []
   },
   "source": [
    "<a class=\"anchor\" id=\"dfadd\"></a>\n",
    "#### Add a value to all cells\n",
    "\n",
    "In R, you can add, subtract, multiply, or divide the number in every cell of a data frame by a specific value very easily. Run the command in the next cell to add `1` to every value in your `myDF` data frame."
   ]
  },
  {
   "cell_type": "code",
   "execution_count": null,
   "metadata": {
    "editable": false,
    "slideshow": {
     "slide_type": ""
    },
    "tags": []
   },
   "outputs": [],
   "source": [
    "myDF + 1"
   ]
  },
  {
   "cell_type": "markdown",
   "metadata": {
    "deletable": false,
    "editable": false,
    "slideshow": {
     "slide_type": ""
    },
    "tags": []
   },
   "source": [
    "Use the next cell to subtract 2 from all values in your `myDF` data frame."
   ]
  },
  {
   "cell_type": "code",
   "execution_count": null,
   "metadata": {
    "editable": true,
    "slideshow": {
     "slide_type": ""
    },
    "tags": []
   },
   "outputs": [],
   "source": []
  },
  {
   "cell_type": "markdown",
   "metadata": {
    "deletable": false,
    "editable": false,
    "slideshow": {
     "slide_type": ""
    },
    "tags": []
   },
   "source": [
    "<div class=\"alert alert-block alert-success\">\n",
    "\n",
    "<details>\n",
    "<summary><b>Solution</b></summary>\n",
    "\n",
    "<br>\n",
    "\n",
    "`myDF - 2`\n",
    "\n",
    "</details>\n",
    "</div>"
   ]
  },
  {
   "cell_type": "markdown",
   "metadata": {
    "deletable": false,
    "editable": false,
    "slideshow": {
     "slide_type": ""
    },
    "tags": []
   },
   "source": [
    "<a class=\"anchor\" id=\"dflog\"></a>\n",
    "#### Take the log of all cells\n",
    "\n",
    "R also has a `log()` function that will allow you to take the log of all values in a data frame. By default, the `log()` function will calculate the [natural log](https://en.wikipedia.org/wiki/Natural_logarithm). However, you can specify which base you want to use by providing an optional argument, such as `base = 3`. There are also shortcut functions for commonly used bases, e.g.:\n",
    "\n",
    "`log10()` will compute the common logarithm (base 10)\n",
    "\n",
    "`log2()` will compute the binary logarithm (base 2)\n",
    "\n",
    "Run the next cell to compute the natural logarithm of all values in your `myDF` data frame."
   ]
  },
  {
   "cell_type": "code",
   "execution_count": null,
   "metadata": {
    "editable": false,
    "slideshow": {
     "slide_type": ""
    },
    "tags": []
   },
   "outputs": [],
   "source": [
    "log(myDF)"
   ]
  },
  {
   "cell_type": "markdown",
   "metadata": {
    "deletable": false,
    "editable": false,
    "slideshow": {
     "slide_type": ""
    },
    "tags": []
   },
   "source": [
    "Use the next cell to compute the binary logarithm of all values in your `myDF` data frame."
   ]
  },
  {
   "cell_type": "code",
   "execution_count": null,
   "metadata": {
    "editable": true,
    "slideshow": {
     "slide_type": ""
    },
    "tags": []
   },
   "outputs": [],
   "source": []
  },
  {
   "cell_type": "markdown",
   "metadata": {
    "deletable": false,
    "editable": false,
    "slideshow": {
     "slide_type": ""
    },
    "tags": []
   },
   "source": [
    "<div class=\"alert alert-block alert-success\">\n",
    "\n",
    "<details>\n",
    "<summary><b>Solution</b></summary>\n",
    "\n",
    "<br>\n",
    "This could be done with the shortcut function:<br><br>\n",
    "\n",
    "`log2(myDF)`\n",
    "\n",
    "Or:<br>\n",
    "\n",
    "`log(myDF, base = 2)`\n",
    "\n",
    "</details>\n",
    "</div>\n"
   ]
  },
  {
   "cell_type": "markdown",
   "metadata": {
    "deletable": false,
    "editable": false,
    "slideshow": {
     "slide_type": ""
    },
    "tags": []
   },
   "source": [
    "<a class=\"anchor\" id=\"dfint\"></a>\n",
    "#### Convert data frame to contain only integers\n",
    "\n",
    "Some bioinformatics applications, such as DESeq2 which is commonly used for differential gene expression analysis, require that the input data contain only integers. There is a function in R called `ceiling()` that will round decimal values up to the nearest integer. \n",
    "\n",
    "Run the next cell to test the `ceiling()` function."
   ]
  },
  {
   "cell_type": "code",
   "execution_count": null,
   "metadata": {
    "editable": false,
    "slideshow": {
     "slide_type": ""
    },
    "tags": []
   },
   "outputs": [],
   "source": [
    "ceiling(1.2)"
   ]
  },
  {
   "cell_type": "markdown",
   "metadata": {
    "deletable": false,
    "editable": false,
    "slideshow": {
     "slide_type": ""
    },
    "tags": []
   },
   "source": [
    "Before we test this function on a data frame, we first have to create a data frame that contains decimal values. Note that although we did things like using the `log()` function to print the natural logarithm of all values in the `myDF` data frame above, those calculations were not saved in the `myDF` variable or anywhere else, we were just printing them out.\n",
    "\n",
    "We can see the `myDF` variable still hasn't changed:\n"
   ]
  },
  {
   "cell_type": "code",
   "execution_count": null,
   "metadata": {
    "editable": false,
    "slideshow": {
     "slide_type": ""
    },
    "tags": []
   },
   "outputs": [],
   "source": [
    "myDF"
   ]
  },
  {
   "cell_type": "markdown",
   "metadata": {
    "deletable": false,
    "editable": false,
    "slideshow": {
     "slide_type": ""
    },
    "tags": []
   },
   "source": [
    "To save these changes, we can assign them to a new variable. In the following cell, we will subtract 0.3 from all values in the `myDF` data frame and assign the new object to the variable `myDFsub`:"
   ]
  },
  {
   "cell_type": "code",
   "execution_count": null,
   "metadata": {
    "editable": false,
    "slideshow": {
     "slide_type": ""
    },
    "tags": []
   },
   "outputs": [],
   "source": [
    "myDFsub <- myDF - 0.3"
   ]
  },
  {
   "cell_type": "code",
   "execution_count": null,
   "metadata": {
    "editable": false,
    "slideshow": {
     "slide_type": ""
    },
    "tags": []
   },
   "outputs": [],
   "source": [
    "myDFsub"
   ]
  },
  {
   "cell_type": "markdown",
   "metadata": {
    "deletable": false,
    "editable": false,
    "slideshow": {
     "slide_type": ""
    },
    "tags": []
   },
   "source": [
    "Now that we have a `myDFsub` data frame which contains decimal values, use the `ceiling()` function to round all the values in `myDFsub` up to the nearest integer, and assign it to a new variable called `myDFceil` in the cell below:"
   ]
  },
  {
   "cell_type": "code",
   "execution_count": null,
   "metadata": {
    "editable": true,
    "slideshow": {
     "slide_type": ""
    },
    "tags": []
   },
   "outputs": [],
   "source": []
  },
  {
   "cell_type": "markdown",
   "metadata": {
    "deletable": false,
    "editable": false,
    "slideshow": {
     "slide_type": ""
    },
    "tags": []
   },
   "source": [
    "<div class=\"alert alert-block alert-success\">\n",
    "\n",
    "<details>\n",
    "<summary><b>Solution</b></summary>\n",
    "\n",
    "<br>\n",
    "\n",
    "`myDFceil <- ceiling(myDFsub)`\n",
    "\n",
    "</details>\n",
    "</div>\n"
   ]
  },
  {
   "cell_type": "markdown",
   "metadata": {
    "deletable": false,
    "editable": false,
    "slideshow": {
     "slide_type": ""
    },
    "tags": []
   },
   "source": [
    "In the next cell, print the data held in the `myDFceil` variable. How have the data changed from what's in the `myDFsub` variable?"
   ]
  },
  {
   "cell_type": "code",
   "execution_count": null,
   "metadata": {
    "editable": true,
    "slideshow": {
     "slide_type": ""
    },
    "tags": []
   },
   "outputs": [],
   "source": []
  },
  {
   "cell_type": "markdown",
   "metadata": {
    "deletable": false,
    "editable": false,
    "slideshow": {
     "slide_type": ""
    },
    "tags": []
   },
   "source": [
    "<div class=\"alert alert-block alert-success\">\n",
    "\n",
    "<details>\n",
    "<summary><b>Solution</b></summary>\n",
    "\n",
    "<br>\n",
    "    \n",
    "`myDFceil`\n",
    "\n",
    "They have all been rounded up to the nearest integer.\n",
    "\n",
    "</details>\n",
    "</div>\n"
   ]
  },
  {
   "cell_type": "markdown",
   "metadata": {
    "deletable": false,
    "editable": false,
    "slideshow": {
     "slide_type": ""
    },
    "tags": []
   },
   "source": [
    "<a class=\"anchor\" id=\"dfcol\"></a>\n",
    "#### Slice a data frame column\n",
    "\n",
    "When analyzing bioinformatics data, you may need to extract only one column from a data frame. One way we can subset a data frame based on column names is to use the bracket `[` operator. This type of operation is also referred to as \"slicing\" the data frame. \n",
    "\n",
    "Run the cell below to slice `column1` of the `myDFceil` data frame."
   ]
  },
  {
   "cell_type": "code",
   "execution_count": null,
   "metadata": {
    "editable": false,
    "slideshow": {
     "slide_type": ""
    },
    "tags": []
   },
   "outputs": [],
   "source": [
    "myDFceil['column1']"
   ]
  },
  {
   "cell_type": "markdown",
   "metadata": {
    "deletable": false,
    "editable": false,
    "slideshow": {
     "slide_type": ""
    },
    "tags": []
   },
   "source": [
    "**Challenge:** In the next cell, try subsetting `myDFceil` to \"column2\", but only view the first 3 rows of the output using `head()` (*Hint*: Recall we can \"nest\" functions in R like we went over [above](#Nest-R-functions))."
   ]
  },
  {
   "cell_type": "code",
   "execution_count": null,
   "metadata": {
    "editable": true,
    "slideshow": {
     "slide_type": ""
    },
    "tags": []
   },
   "outputs": [],
   "source": []
  },
  {
   "cell_type": "markdown",
   "metadata": {
    "deletable": false,
    "editable": false,
    "slideshow": {
     "slide_type": ""
    },
    "tags": []
   },
   "source": [
    "<div class=\"alert alert-block alert-success\">\n",
    "\n",
    "<details>\n",
    "<summary><b>Solution</b></summary>\n",
    "\n",
    "<br>\n",
    "    \n",
    "`head(myDFceil['column2'], n = 3)`\n",
    "\n",
    "</details>\n",
    "</div>"
   ]
  },
  {
   "cell_type": "markdown",
   "metadata": {
    "deletable": false,
    "editable": false,
    "slideshow": {
     "slide_type": ""
    },
    "tags": []
   },
   "source": [
    "<a class=\"anchor\" id=\"dfrow\"></a>\n",
    "#### Slice a data frame row\n",
    "\n",
    "To subset a data frame based on row names, we again use the bracket `[` operator, but we need to add a comma after the row we want (explained next).\n",
    "\n",
    "Run the cell below to slice `row1` of the `myDFceil` data frame:"
   ]
  },
  {
   "cell_type": "code",
   "execution_count": null,
   "metadata": {
    "editable": false,
    "slideshow": {
     "slide_type": ""
    },
    "tags": []
   },
   "outputs": [],
   "source": [
    "myDFceil['row1', ]"
   ]
  },
  {
   "cell_type": "markdown",
   "metadata": {
    "deletable": false,
    "editable": false,
    "slideshow": {
     "slide_type": ""
    },
    "tags": []
   },
   "source": [
    "Within those `[]` brackets following a 2-dimentional object like the data frame we are using here, if we specify just **one** thing like we did above when providing a column name:\n",
    "\n",
    "`myDFceil['column1']`\n",
    "\n",
    "R will use that one piece of information and act on columns.\n",
    "\n",
    "If we provide a comma in the subsetting brackets, such that we are specifying **two** things, it expects the **value preceding the comma to specify the rows** we want (like we did above with 'row1'), and the **value after the comma to specify the columns** we want. \n",
    "\n",
    "So within the subsetting brackets we are specifying `[ rows, columns ]`.\n",
    "\n",
    "When we leave one of those blank, like in this example leaving the columns entry empty:\n",
    "\n",
    "`myDFceil['row1', ]`\n",
    "\n",
    "R will assume we want all of the columns.\n",
    "\n",
    "There are multiple ways we can specify which rows or columns we want, including by name like we did above, but we can also pass TRUE/FALSE vectors, as we'll see next."
   ]
  },
  {
   "cell_type": "markdown",
   "metadata": {
    "deletable": false,
    "editable": false,
    "slideshow": {
     "slide_type": ""
    },
    "tags": []
   },
   "source": [
    "<a class=\"anchor\" id=\"dffilter\"></a>\n",
    "#### Filter data in a data frame \n",
    "\n",
    "When analyzing bioinformatics data, we often need to filter the data to reduce noise. A common filtering method is to remove rows that have all zero values. To do this, we will remove all rows whose values sum to zero using a function called `rowSums()` inside our subsetting brackets `[]`.\n",
    "\n",
    "First let's calculate the sum of each row in the `myDFceil` data frame using the `rowSums()` function:"
   ]
  },
  {
   "cell_type": "code",
   "execution_count": null,
   "metadata": {
    "editable": false,
    "slideshow": {
     "slide_type": ""
    },
    "tags": []
   },
   "outputs": [],
   "source": [
    "rowSums(myDFceil)"
   ]
  },
  {
   "cell_type": "markdown",
   "metadata": {
    "deletable": false,
    "editable": false,
    "slideshow": {
     "slide_type": ""
    },
    "tags": []
   },
   "source": [
    "Next, we'll use the greater than mathematical operator, `>`, to identify which rows have sums greater than zero:"
   ]
  },
  {
   "cell_type": "code",
   "execution_count": null,
   "metadata": {
    "editable": false,
    "slideshow": {
     "slide_type": ""
    },
    "tags": []
   },
   "outputs": [],
   "source": [
    "rowSums(myDFceil) > 0"
   ]
  },
  {
   "cell_type": "markdown",
   "metadata": {
    "deletable": false,
    "editable": false,
    "slideshow": {
     "slide_type": ""
    },
    "tags": []
   },
   "source": [
    "This is what's known as a \"named logical vector\", which is just a list of TRUE/FALSE values that happen to have names associated with them from the row names of the table.\n",
    "\n",
    "We can see this by wrapping that in the `str()` function, which is a function that tells us some information about an object:"
   ]
  },
  {
   "cell_type": "code",
   "execution_count": null,
   "metadata": {
    "editable": false,
    "slideshow": {
     "slide_type": ""
    },
    "tags": []
   },
   "outputs": [],
   "source": [
    "str(rowSums(myDFceil) > 0)"
   ]
  },
  {
   "cell_type": "markdown",
   "metadata": {
    "deletable": false,
    "editable": false,
    "slideshow": {
     "slide_type": ""
    },
    "tags": []
   },
   "source": [
    "As mentioned above, when specifying which rows or columns we want inside our subsetting brackets `[]`, we can provide a list of TRUE/FALSE values (a vector), and wherever there is a FALSE, that row will be removed.\n",
    "\n",
    "So we can put the expression `rowSums(myDFceil) > 0` in the bracket `[]` location that specifies which rows we want (remember the position in front of the comma is for rows, and the position after the comma is for columns), and it will filter out the rows where that expression resolves to FALSE: "
   ]
  },
  {
   "cell_type": "code",
   "execution_count": null,
   "metadata": {
    "editable": false,
    "slideshow": {
     "slide_type": ""
    },
    "tags": []
   },
   "outputs": [],
   "source": [
    "myDFceil[rowSums(myDFceil) > 0, ]"
   ]
  },
  {
   "cell_type": "markdown",
   "metadata": {
    "deletable": false,
    "editable": false,
    "slideshow": {
     "slide_type": ""
    },
    "tags": []
   },
   "source": [
    "R is converting the expression `rowSums(myDFceil) > 0` into a TRUE/FALSE vector, and then only returning the rows where the vector holds a value of TRUE (which here is everything except row10, which was dropped)."
   ]
  },
  {
   "cell_type": "markdown",
   "metadata": {
    "deletable": false,
    "editable": false,
    "slideshow": {
     "slide_type": ""
    },
    "tags": []
   },
   "source": [
    "In the next cell, use what you've just learned to remove all rows in `myDFceil` whose sum is less than 20:"
   ]
  },
  {
   "cell_type": "code",
   "execution_count": null,
   "metadata": {
    "editable": true,
    "slideshow": {
     "slide_type": ""
    },
    "tags": []
   },
   "outputs": [],
   "source": []
  },
  {
   "cell_type": "markdown",
   "metadata": {
    "deletable": false,
    "editable": false,
    "slideshow": {
     "slide_type": ""
    },
    "tags": []
   },
   "source": [
    "<div class=\"alert alert-block alert-success\">\n",
    "\n",
    "<details>\n",
    "<summary><b>Solution</b></summary>\n",
    "\n",
    "<br>\n",
    "\n",
    "`myDFceil[ rowSums(myDFceil) < 20, ]`\n",
    "\n",
    "</details>\n",
    "</div>\n"
   ]
  },
  {
   "cell_type": "markdown",
   "metadata": {
    "deletable": false,
    "editable": false,
    "slideshow": {
     "slide_type": ""
    },
    "tags": []
   },
   "source": [
    "Which rows remain after filtering by those whose row sums are less than 20?\n",
    "\n",
    "<div class=\"alert alert-block alert-success\">\n",
    "\n",
    "<details>\n",
    "<summary><b>Solution</b></summary>\n",
    "\n",
    "<br>\n",
    "\n",
    "Rows 1, 2, and 10.\n",
    "\n",
    "</details>\n",
    "</div>"
   ]
  },
  {
   "cell_type": "markdown",
   "metadata": {
    "deletable": false,
    "editable": false,
    "slideshow": {
     "slide_type": ""
    },
    "tags": []
   },
   "source": [
    "<a class=\"anchor\" id=\"dfmore\"></a>\n",
    "#### Add columns to a data frame\n",
    "\n",
    "When working with data frames, it may sometimes be useful to add a column. To add a column to a data frame, we use the `[` bracket operator to specify the column we want to add or access, and use the assignment operator (`<-`) to assign new values there. If the column exists, it will change it. If it doesn't exist, it will create it.\n",
    "\n",
    "To create a list of values in R, we use the `c()` function, which is a method that combines all its arguments to form a vector, or list.\n",
    "\n",
    "Run the next cell to add a 4th column to your `myDFceil` data frame, then print the revised data frame, `myDFceil` (*note*: When there are two lines in a cell like below, they will just run one after another)."
   ]
  },
  {
   "cell_type": "code",
   "execution_count": null,
   "metadata": {
    "editable": false,
    "slideshow": {
     "slide_type": ""
    },
    "tags": []
   },
   "outputs": [],
   "source": [
    "myDFceil['column4'] <- c(1,2,3,4,5,6,7,8,9,10)\n",
    "myDFceil"
   ]
  },
  {
   "cell_type": "markdown",
   "metadata": {
    "deletable": false,
    "editable": false,
    "slideshow": {
     "slide_type": ""
    },
    "tags": []
   },
   "source": [
    "Use the next cell to add a 5th column of numbers to the `myDFceil` data frame, then print the modified data frame. Note that not just any vector will work. It needs to either be the same length as the number of rows in the data frame, 10 here, or it needs to have a length that is a multiple of the number of rows, like 2 or 5 here – in which case it will be duplicated to fill all rows."
   ]
  },
  {
   "cell_type": "code",
   "execution_count": null,
   "metadata": {
    "editable": true,
    "slideshow": {
     "slide_type": ""
    },
    "tags": []
   },
   "outputs": [],
   "source": []
  },
  {
   "cell_type": "code",
   "execution_count": null,
   "metadata": {
    "editable": true,
    "slideshow": {
     "slide_type": ""
    },
    "tags": []
   },
   "outputs": [],
   "source": []
  },
  {
   "cell_type": "markdown",
   "metadata": {
    "deletable": false,
    "editable": false,
    "slideshow": {
     "slide_type": ""
    },
    "tags": []
   },
   "source": [
    "<div class=\"alert alert-block alert-success\">\n",
    "\n",
    "<details>\n",
    "<summary><b>Solution</b></summary>\n",
    "\n",
    "<br>\n",
    "\n",
    "Here is one way this could be done:\n",
    "\n",
    "`myDFceil['column5'] <- c(2,4,6,8,10,12,14,16,18,20)`\n",
    "\n",
    "Another could be:\n",
    "\n",
    "`myDFceil['column5'] <- c(1,2)`\n",
    "\n",
    "\n",
    "    \n",
    "</details>\n",
    "</div>"
   ]
  },
  {
   "cell_type": "markdown",
   "metadata": {
    "deletable": false,
    "editable": false,
    "slideshow": {
     "slide_type": ""
    },
    "tags": []
   },
   "source": [
    "<a class=\"anchor\" id=\"dfcombine\"></a>\n",
    "#### Combine data frames\n",
    "\n",
    "Sometimes in bioinformatics, we have two (or more) data frames that we want to combine into one data frame. One way we can do this is with the R function `cbind()`. `cbind()` requires at least two arguments: the names of the two data frames that need to be combined.\n",
    "\n",
    "Here we'll combine the original `myDF` with `myDFceil`:"
   ]
  },
  {
   "cell_type": "code",
   "execution_count": null,
   "metadata": {
    "editable": false,
    "slideshow": {
     "slide_type": ""
    },
    "tags": []
   },
   "outputs": [],
   "source": [
    "cbind(myDF, myDFceil)"
   ]
  },
  {
   "cell_type": "markdown",
   "metadata": {
    "deletable": false,
    "editable": false,
    "slideshow": {
     "slide_type": ""
    },
    "tags": []
   },
   "source": [
    "<div class=\"alert alert-block alert-info\">\n",
    "<b>Note</b>\n",
    "<br>\n",
    "Notice that there is no check that column names will remain unique when using <code>cbind()</code>.\n",
    "</div>\n",
    "\n",
    "Now, instead of merely printing the combined data frame, use the next cell to create a variable called `combinedDF` that holds the combined data frame (remember the assignment operator, `<-`). We suggest `combinedDF` as a short representation of the phrase \"combined data frame\"."
   ]
  },
  {
   "cell_type": "code",
   "execution_count": null,
   "metadata": {
    "editable": true,
    "slideshow": {
     "slide_type": ""
    },
    "tags": []
   },
   "outputs": [],
   "source": []
  },
  {
   "cell_type": "markdown",
   "metadata": {
    "deletable": false,
    "editable": false,
    "slideshow": {
     "slide_type": ""
    },
    "tags": []
   },
   "source": [
    "<div class=\"alert alert-block alert-success\">\n",
    "\n",
    "<details>\n",
    "<summary><b>Solution</b></summary>\n",
    "\n",
    "<br>\n",
    "\n",
    "`combinedDF <- cbind(myDF, myDFceil)`\n",
    "\n",
    "</details>\n",
    "</div>"
   ]
  },
  {
   "cell_type": "markdown",
   "metadata": {
    "deletable": false,
    "editable": false,
    "slideshow": {
     "slide_type": ""
    },
    "tags": []
   },
   "source": [
    "What are the dimensions of the `combinedDF` data frame? *Hint*: use the `dim()` function in the cell below."
   ]
  },
  {
   "cell_type": "code",
   "execution_count": null,
   "metadata": {
    "editable": true,
    "slideshow": {
     "slide_type": ""
    },
    "tags": []
   },
   "outputs": [],
   "source": []
  },
  {
   "cell_type": "markdown",
   "metadata": {
    "deletable": false,
    "editable": false,
    "slideshow": {
     "slide_type": ""
    },
    "tags": []
   },
   "source": [
    "<div class=\"alert alert-block alert-success\">\n",
    "\n",
    "<details>\n",
    "<summary><b>Solution</b></summary>\n",
    "\n",
    "<br>\n",
    "\n",
    "`dim(combinedDF)`\n",
    "    \n",
    "The dimensions will likely be 10 rows and 8 columns, but they might be different if anything above changed while trying things, and that's okay!\n",
    "\n",
    "</details>\n",
    "</div>"
   ]
  },
  {
   "cell_type": "markdown",
   "metadata": {
    "deletable": false,
    "editable": false,
    "slideshow": {
     "slide_type": ""
    },
    "tags": []
   },
   "source": [
    "Did `cbind()` merge these data frames on the row dimension or the column dimension? Why do you think that is? *Hint*: you can take a look at the `cbind()` documentation using the `help()` function."
   ]
  },
  {
   "cell_type": "markdown",
   "metadata": {
    "deletable": false,
    "editable": false,
    "slideshow": {
     "slide_type": ""
    },
    "tags": []
   },
   "source": [
    "<div class=\"alert alert-block alert-success\">\n",
    "\n",
    "<details>\n",
    "<summary><b>Solution</b></summary>\n",
    "\n",
    "<br>\n",
    "\n",
    "We can view the help menu for `cbind()` with:\n",
    "\n",
    "`help(cbind)`\n",
    "\n",
    "`cbind()` stands for \"column\" bind, and it joined the data frames on the column dimension.\n",
    "\n",
    "</details>\n",
    "</div>"
   ]
  },
  {
   "cell_type": "markdown",
   "metadata": {
    "deletable": false,
    "editable": false,
    "slideshow": {
     "slide_type": ""
    },
    "tags": []
   },
   "source": [
    "---"
   ]
  },
  {
   "cell_type": "markdown",
   "metadata": {
    "deletable": false,
    "editable": false,
    "slideshow": {
     "slide_type": ""
    },
    "tags": []
   },
   "source": [
    "<a class=\"anchor\" id=\"export\"></a>\n",
    "\n",
    "## 1e. Export data from R"
   ]
  },
  {
   "cell_type": "markdown",
   "metadata": {
    "deletable": false,
    "editable": false,
    "slideshow": {
     "slide_type": ""
    },
    "tags": []
   },
   "source": [
    "<a class=\"anchor\" id=\"write\"></a>\n",
    "\n",
    "#### write.csv()\n",
    "\n",
    "Thus far, we have manipulated data frame variables in R, but the altered data is only stored in memory until we export it. Just like we used `read.table()` with specific arguments to read in the file the way we expected, `write.table()` is a common function for writing out data frames, where we could specify things like what we want the separator to be between columns. \n",
    "\n",
    "There is also a helper function, `write.csv()` with default settings that are more suitable when we know we want to create a .csv, as is the case here. So we will use that.\n",
    "\n",
    "The following arguments are needed (in this order) to execute the `write.csv()` function: \n",
    "\n",
    "* the data frame we want to write out\n",
    "* the file name we want to write to\n",
    "\n",
    "In the next cell, you will use `write.csv()` to export the `combinedDF` data frame to a file called `combinedDF.csv`."
   ]
  },
  {
   "cell_type": "code",
   "execution_count": null,
   "metadata": {
    "editable": false,
    "slideshow": {
     "slide_type": ""
    },
    "tags": []
   },
   "outputs": [],
   "source": [
    "write.csv(combinedDF, 'combinedDF.csv')"
   ]
  },
  {
   "cell_type": "markdown",
   "metadata": {
    "deletable": false,
    "editable": false,
    "slideshow": {
     "slide_type": ""
    },
    "tags": []
   },
   "source": [
    "List all files in your current directory using the `list.files()` function:"
   ]
  },
  {
   "cell_type": "code",
   "execution_count": null,
   "metadata": {
    "editable": false,
    "slideshow": {
     "slide_type": ""
    },
    "tags": []
   },
   "outputs": [],
   "source": [
    "list.files()"
   ]
  },
  {
   "cell_type": "markdown",
   "metadata": {
    "deletable": false,
    "editable": false,
    "slideshow": {
     "slide_type": ""
    },
    "tags": []
   },
   "source": [
    "Do you see your `combinedDF.csv` file in your current directory?"
   ]
  },
  {
   "cell_type": "markdown",
   "metadata": {
    "deletable": false,
    "editable": false,
    "slideshow": {
     "slide_type": ""
    },
    "tags": []
   },
   "source": [
    "---"
   ]
  },
  {
   "cell_type": "markdown",
   "metadata": {
    "deletable": false,
    "editable": false,
    "slideshow": {
     "slide_type": ""
    },
    "tags": []
   },
   "source": [
    "<a class=\"anchor\" id=\"viz\"></a>\n",
    "\n",
    "## 1f. Visualizations"
   ]
  },
  {
   "cell_type": "markdown",
   "metadata": {
    "deletable": false,
    "editable": false,
    "slideshow": {
     "slide_type": ""
    },
    "tags": []
   },
   "source": [
    "<a class=\"anchor\" id=\"plot\"></a>\n",
    "\n",
    "#### plot()\n",
    "\n",
    "R has a basic built-in function for many common plot types called `plot()`. \n",
    "\n",
    "At its most basic, the function call is: `plot(x, y)`, where x and y are numeric vectors containing the (x,y) points for the plot.\n",
    "\n",
    "Let's call `plot()` with the following parameters: \n",
    "\n",
    "* x = the values from myDF, column 1\n",
    "* y = the values from myDF, column 3\n",
    "\n",
    "\n",
    "We saw before that we can use the following syntax to extract just one column from a dataframe: \n",
    "`myDF['column1']`.  But recall that this produces a subset dataframe, not a vector of numbers. "
   ]
  },
  {
   "cell_type": "code",
   "execution_count": null,
   "metadata": {
    "editable": false,
    "slideshow": {
     "slide_type": ""
    },
    "tags": []
   },
   "outputs": [],
   "source": [
    "myDF['column1']"
   ]
  },
  {
   "cell_type": "markdown",
   "metadata": {
    "deletable": false,
    "editable": false,
    "slideshow": {
     "slide_type": ""
    },
    "tags": []
   },
   "source": [
    "If we need just the values from a column as a vector of numbers, we can use the following syntax: \n",
    "\n",
    "`myDF$column1`\n",
    "\n",
    "<div class=\"alert alert-block alert-info\">\n",
    "<b>Note</b>\n",
    "<br>\n",
    "\n",
    "Note that the `$` needs to precede the column name we want as done above, in order to tell R which column to find in the `myDF` object.\n",
    "\n",
    "</div>\n",
    "\n"
   ]
  },
  {
   "cell_type": "code",
   "execution_count": null,
   "metadata": {
    "editable": false,
    "slideshow": {
     "slide_type": ""
    },
    "tags": []
   },
   "outputs": [],
   "source": [
    "myDF$column1"
   ]
  },
  {
   "cell_type": "markdown",
   "metadata": {
    "deletable": false,
    "editable": false,
    "slideshow": {
     "slide_type": ""
    },
    "tags": []
   },
   "source": [
    "Use this `$` syntax to specify \"column1\" and \"column3\" to be the two input arguments (e.g. x and y, respectively) to the `plot()` function:"
   ]
  },
  {
   "cell_type": "code",
   "execution_count": null,
   "metadata": {
    "editable": true,
    "slideshow": {
     "slide_type": ""
    },
    "tags": []
   },
   "outputs": [],
   "source": []
  },
  {
   "cell_type": "markdown",
   "metadata": {
    "deletable": false,
    "editable": false,
    "slideshow": {
     "slide_type": ""
    },
    "tags": []
   },
   "source": [
    "<div class=\"alert alert-block alert-success\">\n",
    "\n",
    "<details>\n",
    "<summary><b>Solution</b></summary>\n",
    "\n",
    "<br>\n",
    "\n",
    "`plot(myDF$column1, myDF$column3)`\n",
    "\n",
    "</details>\n",
    "</div>"
   ]
  },
  {
   "cell_type": "markdown",
   "metadata": {
    "deletable": false,
    "editable": false,
    "slideshow": {
     "slide_type": ""
    },
    "tags": []
   },
   "source": [
    "Let's see if we can make this plot more interesting. Let's look at the parameters for `plot()`:"
   ]
  },
  {
   "cell_type": "code",
   "execution_count": null,
   "metadata": {
    "editable": false,
    "slideshow": {
     "slide_type": ""
    },
    "tags": []
   },
   "outputs": [],
   "source": [
    "help(plot)"
   ]
  },
  {
   "cell_type": "markdown",
   "metadata": {
    "deletable": false,
    "editable": false,
    "slideshow": {
     "slide_type": ""
    },
    "tags": []
   },
   "source": [
    "In the next few cells, recreate this plot but pass different values to the following 2 parameters: `type` and `col`. \n",
    "\n",
    "**Challenge:** Can you create a plot with both points and lines, colored purple? "
   ]
  },
  {
   "cell_type": "code",
   "execution_count": null,
   "metadata": {
    "editable": true,
    "slideshow": {
     "slide_type": ""
    },
    "tags": []
   },
   "outputs": [],
   "source": []
  },
  {
   "cell_type": "code",
   "execution_count": null,
   "metadata": {
    "editable": true,
    "slideshow": {
     "slide_type": ""
    },
    "tags": []
   },
   "outputs": [],
   "source": []
  },
  {
   "cell_type": "code",
   "execution_count": null,
   "metadata": {
    "tags": []
   },
   "outputs": [],
   "source": []
  },
  {
   "cell_type": "code",
   "execution_count": null,
   "metadata": {
    "tags": []
   },
   "outputs": [],
   "source": []
  },
  {
   "cell_type": "markdown",
   "metadata": {
    "deletable": false,
    "editable": false,
    "slideshow": {
     "slide_type": ""
    },
    "tags": []
   },
   "source": [
    "<div class=\"alert alert-block alert-success\">\n",
    "\n",
    "<details>\n",
    "<summary><b>Solution</b></summary>\n",
    "\n",
    "<br>\n",
    "\n",
    "`col = \"purple\"` will set the color to be purple and `type = \"b\"` sets the plotting type to be both points and lines.\n",
    "\n",
    "`plot(myDF$column1, myDF$column3, type = \"b\", col = \"purple\")`\n",
    "\n",
    "</details>\n",
    "</div>"
   ]
  },
  {
   "cell_type": "markdown",
   "metadata": {
    "deletable": false,
    "editable": false,
    "slideshow": {
     "slide_type": ""
    },
    "tags": []
   },
   "source": [
    "---"
   ]
  },
  {
   "cell_type": "markdown",
   "metadata": {
    "deletable": false,
    "editable": false,
    "slideshow": {
     "slide_type": ""
    },
    "tags": []
   },
   "source": [
    "<a class=\"anchor\" id=\"tidyverse\"></a>\n",
    "\n",
    "# 2. Using the Tidyverse"
   ]
  },
  {
   "cell_type": "markdown",
   "metadata": {
    "deletable": false,
    "editable": false,
    "slideshow": {
     "slide_type": ""
    },
    "tags": []
   },
   "source": [
    "The [tidyverse](https://www.tidyverse.org/) is a collection of R packages for data science. It groups together several incredibly useful packages into just one for us to install and load. There is lots [to learn](https://www.tidyverse.org/learn/) about the tidyverse, but here we are just going to look at two things: how we can “pipe” commands together, and how we can filter or subset tables in a way that's often more intuitive for some people than the base-R implementation we started with above.\n",
    "\n",
    "If we needed to install the tidyverse package, we could do so with the following command:\n",
    "\n",
    "`install.packages(\"tidyverse\")`\n",
    "\n",
    "And we need to load it by running this cell: \n",
    "> _Note: You will likely see a warning message regarding conflicting packages. You can ignore these._"
   ]
  },
  {
   "cell_type": "code",
   "execution_count": null,
   "metadata": {
    "editable": false,
    "slideshow": {
     "slide_type": ""
    },
    "tags": []
   },
   "outputs": [],
   "source": [
    "library(tidyverse)"
   ]
  },
  {
   "cell_type": "markdown",
   "metadata": {
    "deletable": false,
    "editable": false,
    "slideshow": {
     "slide_type": ""
    },
    "tags": []
   },
   "source": [
    "We’ll be using an example dataset that comes built-in with R, stored in an object called `iris`. This is a data frame that contains various measurements of 3 different species of flowers. Let's look at it with some of our exploratory functions like we've seen above, starting with `head()` here:"
   ]
  },
  {
   "cell_type": "code",
   "execution_count": null,
   "metadata": {
    "editable": false,
    "slideshow": {
     "slide_type": ""
    },
    "tags": []
   },
   "outputs": [],
   "source": [
    "head(iris)"
   ]
  },
  {
   "cell_type": "markdown",
   "metadata": {
    "deletable": false,
    "editable": false,
    "slideshow": {
     "slide_type": ""
    },
    "tags": []
   },
   "source": [
    "In the next two cells, try running `dim()` and `summary()` on the `iris` object:"
   ]
  },
  {
   "cell_type": "code",
   "execution_count": null,
   "metadata": {
    "editable": true,
    "slideshow": {
     "slide_type": ""
    },
    "tags": []
   },
   "outputs": [],
   "source": []
  },
  {
   "cell_type": "code",
   "execution_count": null,
   "metadata": {
    "editable": true,
    "slideshow": {
     "slide_type": ""
    },
    "tags": []
   },
   "outputs": [],
   "source": []
  },
  {
   "cell_type": "markdown",
   "metadata": {
    "deletable": false,
    "editable": false,
    "slideshow": {
     "slide_type": ""
    },
    "tags": []
   },
   "source": [
    "<div class=\"alert alert-block alert-success\">\n",
    "\n",
    "<details>\n",
    "<summary><b>Solution</b></summary>\n",
    "\n",
    "<br>\n",
    "\n",
    "`dim(iris)`\n",
    "\n",
    "`summary(iris)`\n",
    "\n",
    "</details>\n",
    "</div>"
   ]
  },
  {
   "cell_type": "markdown",
   "metadata": {
    "deletable": false,
    "editable": false,
    "slideshow": {
     "slide_type": ""
    },
    "tags": []
   },
   "source": [
    "From the output of the `summary()` function, how many of each species are there in the table?"
   ]
  },
  {
   "cell_type": "markdown",
   "metadata": {
    "deletable": false,
    "editable": false,
    "slideshow": {
     "slide_type": ""
    },
    "tags": []
   },
   "source": [
    "<div class=\"alert alert-block alert-success\">\n",
    "\n",
    "<details>\n",
    "<summary><b>Solution</b></summary>\n",
    "\n",
    "<br>\n",
    "\n",
    "There are 50 of each species.\n",
    "\n",
    "</details>\n",
    "</div>"
   ]
  },
  {
   "cell_type": "markdown",
   "metadata": {
    "deletable": false,
    "editable": false,
    "slideshow": {
     "slide_type": ""
    },
    "tags": []
   },
   "source": [
    "Let’s say we wanted to subset down to only include rows where the Sepal.Length was fewer than 4.5 (these measurements are in centimeters). One way we could do this with base R, like we covered above, would be this:"
   ]
  },
  {
   "cell_type": "code",
   "execution_count": null,
   "metadata": {
    "editable": false,
    "slideshow": {
     "slide_type": ""
    },
    "tags": []
   },
   "outputs": [],
   "source": [
    "iris[iris[\"Sepal.Length\"] < 4.5, ]"
   ]
  },
  {
   "cell_type": "markdown",
   "metadata": {
    "deletable": false,
    "editable": false,
    "slideshow": {
     "slide_type": ""
    },
    "tags": []
   },
   "source": [
    "As a reminder of what is happening here:\n",
    "- our starting object is `iris`, followed by our subsetting brackets `[]`\n",
    "- the first position of the subsetting brackets (which is where we declare what rows we want) contains `iris[\"Sepal.Length\"] < 4.5`, which will become a TRUE/FALSE vector, and only the rows that resolve to TRUE will be kept\n",
    "- after the comma, at the second position of the subsetting brackets (where we specify which columns we want), we have nothing, which is how we indicate we want all columns\n",
    "\n",
    "This is all fine, and it gets the job done. but it can be a little tricky to read, and it's the simplest case of how we might want to filter. If we want to filter in multiple ways, that method can become pretty messy looking.\n",
    "\n",
    "Here is how we can do the same filtering using tidyverse methods:"
   ]
  },
  {
   "cell_type": "code",
   "execution_count": null,
   "metadata": {
    "editable": false,
    "slideshow": {
     "slide_type": ""
    },
    "tags": []
   },
   "outputs": [],
   "source": [
    "iris %>% filter(Sepal.Length < 4.5)"
   ]
  },
  {
   "cell_type": "markdown",
   "metadata": {
    "deletable": false,
    "editable": false,
    "slideshow": {
     "slide_type": ""
    },
    "tags": []
   },
   "source": [
    "That could be read as something like \"send the `iris` object into the `filter()` function, and filter based on this expression\".\n",
    "\n",
    "We've introduced two new concepts there:\n",
    "1. the \"pipe\" `%>%` operator, which works similar to the Unix pipe `|` and allows us to stick objects and functions together in a linear, often more intuitive fashion \n",
    "2. the `filter()` function that comes packaged with tidyverse \n",
    "\n",
    "If we want to filter on multiple columns, we can provide them as a list separated by commas within the `filter()` function. \n",
    "\n",
    "Here is if we want to filter based on Sepal.Length > 6 and Species being \"versicolor\"."
   ]
  },
  {
   "cell_type": "code",
   "execution_count": null,
   "metadata": {
    "editable": false,
    "slideshow": {
     "slide_type": ""
    },
    "tags": []
   },
   "outputs": [],
   "source": [
    "iris %>% filter(Sepal.Length > 6, Species == \"versicolor\")"
   ]
  },
  {
   "cell_type": "markdown",
   "metadata": {
    "deletable": false,
    "editable": false,
    "slideshow": {
     "slide_type": ""
    },
    "tags": []
   },
   "source": [
    "<div class=\"alert alert-block alert-info\">\n",
    "<b>Note</b>\n",
    "<br>\n",
    "Notice that when we want a column value to equal something in order to be retained, we need to use two equal signs, <code>==</code>. In R, one equal sign is used for assigning values and setting argument values, while two equal signs are used for checking equality.\n",
    "</div>\n",
    "\n",
    "In the next cell, modify our line from above by adding another filtering parameter into the `filter()` function to also filter by `Petal.Length >= 4.8`:"
   ]
  },
  {
   "cell_type": "code",
   "execution_count": null,
   "metadata": {
    "editable": true,
    "slideshow": {
     "slide_type": ""
    },
    "tags": []
   },
   "outputs": [],
   "source": [
    "iris %>% filter(Sepal.Length > 6, Species == \"versicolor\")"
   ]
  },
  {
   "cell_type": "markdown",
   "metadata": {
    "deletable": false,
    "editable": false,
    "slideshow": {
     "slide_type": ""
    },
    "tags": []
   },
   "source": [
    "<div class=\"alert alert-block alert-success\">\n",
    "\n",
    "<details>\n",
    "<summary><b>Solution</b></summary>\n",
    "\n",
    "<br>\n",
    "\n",
    "`iris %>% filter(Sepal.Length > 6, Species == \"versicolor\", Petal.Length >= 4.8)`\n",
    "\n",
    "</details>\n",
    "</div>\n",
    "\n",
    "How many rows are left after filtering on those 3 criteria?\n",
    "\n",
    "<div class=\"alert alert-block alert-success\">\n",
    "\n",
    "<details>\n",
    "<summary><b>Solution</b></summary>\n",
    "\n",
    "<br>\n",
    "\n",
    "4\n",
    "\n",
    "</details>\n",
    "</div>\n"
   ]
  },
  {
   "cell_type": "markdown",
   "metadata": {
    "deletable": false,
    "editable": false,
    "slideshow": {
     "slide_type": ""
    },
    "tags": []
   },
   "source": [
    "Here's one of the ways that would be done with base R:"
   ]
  },
  {
   "cell_type": "code",
   "execution_count": null,
   "metadata": {
    "editable": false,
    "slideshow": {
     "slide_type": ""
    },
    "tags": []
   },
   "outputs": [],
   "source": [
    "iris[iris[\"Sepal.Length\"] > 6 & iris[\"Species\"] == \"versicolor\" & iris[\"Petal.Length\"] >= 4.8, ]"
   ]
  },
  {
   "cell_type": "markdown",
   "metadata": {
    "deletable": false,
    "editable": false,
    "slideshow": {
     "slide_type": ""
    },
    "tags": []
   },
   "source": [
    "And that's before adding in filtering out based on any columns we may want!\n",
    "\n",
    "The `select()` function let's us choose which columns we want. To use it, we put the name(s) of the column(s) we want to keep inside it (not quoted).\n",
    "\n",
    "Here is an example just selecting the Sepal.Length and Species columns (\"piped\" into head to keep the output to only the first 6 rows):"
   ]
  },
  {
   "cell_type": "code",
   "execution_count": null,
   "metadata": {
    "editable": false,
    "slideshow": {
     "slide_type": ""
    },
    "tags": []
   },
   "outputs": [],
   "source": [
    "iris %>% select(Sepal.Length, Species) %>% head()"
   ]
  },
  {
   "cell_type": "markdown",
   "metadata": {
    "deletable": false,
    "editable": false,
    "slideshow": {
     "slide_type": ""
    },
    "tags": []
   },
   "source": [
    "Based on what we covered above, in the next cell, try to use the `%>%` operator and the `filter()` and `select()` functions to filter the `iris` dataset based on:\n",
    "- Sepal.Width being greater or equal to 3.5\n",
    "- Petal.Width being greater than 2\n",
    "- only keep the columns Sepal.Width and Species"
   ]
  },
  {
   "cell_type": "code",
   "execution_count": null,
   "metadata": {
    "editable": true,
    "slideshow": {
     "slide_type": ""
    },
    "tags": []
   },
   "outputs": [],
   "source": []
  },
  {
   "cell_type": "markdown",
   "metadata": {
    "deletable": false,
    "editable": false,
    "slideshow": {
     "slide_type": ""
    },
    "tags": []
   },
   "source": [
    "<div class=\"alert alert-block alert-success\">\n",
    "\n",
    "<details>\n",
    "<summary><b>Solution</b></summary>\n",
    "\n",
    "<br>\n",
    "\n",
    "This is one way to do it:\n",
    "\n",
    "`iris %>% filter(Sepal.Width >= 3.5, Petal.Width > 2) %>% select(Sepal.Width, Species)`\n",
    "\n",
    "</details>\n",
    "</div>\n",
    "\n"
   ]
  },
  {
   "cell_type": "markdown",
   "metadata": {
    "deletable": false,
    "editable": false,
    "slideshow": {
     "slide_type": ""
    },
    "tags": []
   },
   "source": [
    "How many rows are left based on those criteria? \n",
    "\n",
    "<div class=\"alert alert-block alert-success\">\n",
    "\n",
    "<details>\n",
    "<summary><b>Solution</b></summary>\n",
    "\n",
    "<br>\n",
    "\n",
    "2\n",
    "\n",
    "</details>\n",
    "</div>\n"
   ]
  },
  {
   "cell_type": "markdown",
   "metadata": {
    "deletable": false,
    "editable": false,
    "slideshow": {
     "slide_type": ""
    },
    "tags": []
   },
   "source": [
    "As with above, we are not changing the `iris` object when we do these operations. If we wanted to store the output to a new object, we would put the desired name of the new variable in front, followed by the assignment operator `<-`, like so:"
   ]
  },
  {
   "cell_type": "code",
   "execution_count": null,
   "metadata": {
    "editable": false,
    "slideshow": {
     "slide_type": ""
    },
    "tags": []
   },
   "outputs": [],
   "source": [
    "filtered_iris <- iris %>% filter(Sepal.Length > 7.6)"
   ]
  },
  {
   "cell_type": "code",
   "execution_count": null,
   "metadata": {
    "editable": false,
    "slideshow": {
     "slide_type": ""
    },
    "tags": []
   },
   "outputs": [],
   "source": [
    "filtered_iris"
   ]
  },
  {
   "cell_type": "markdown",
   "metadata": {
    "deletable": false,
    "editable": false,
    "slideshow": {
     "slide_type": ""
    },
    "tags": []
   },
   "source": [
    "---"
   ]
  },
  {
   "cell_type": "markdown",
   "metadata": {
    "deletable": false,
    "editable": false,
    "slideshow": {
     "slide_type": ""
    },
    "tags": []
   },
   "source": [
    "<a class=\"anchor\" id=\"final-thought\"></a>\n",
    "\n",
    "# 3. Final thought\n",
    "\n",
    "This was a very foundational introduction to R. R in particular can be a little confusing and not all that intuitive at first. Don't be intimidated if some code or a large codeblock looks like it makes no sense to you at first. That is common even for folks who use R regularly! It often takes breaking things down piece-by-piece to figure out what they are doing, and then putting them together slowly to do what we'd like. And many of us start with code from somewhere else first (whether it's from a previous project of our own, examples from a tutorial, or somewhere else), and then modify that code to eventually get it to do what we want. That is a typical process for many data scientists. 🙂"
   ]
  },
  {
   "cell_type": "markdown",
   "metadata": {
    "deletable": false,
    "editable": false,
    "slideshow": {
     "slide_type": ""
    },
    "tags": []
   },
   "source": [
    "---\n",
    "---\n",
    "\n",
    "[**Previous:** 2. Unix intro](02-unix-intro.ipynb)\n",
    "<br>\n",
    "\n",
    "<div style=\"text-align: right\"><a href=\"04-sequencing-data-QC.ipynb\"><b>Next:</b> 4. Sequencing data QC</a></div>"
   ]
  }
 ],
 "metadata": {
  "kernelspec": {
   "display_name": "R",
   "language": "R",
   "name": "ir"
  },
  "language_info": {
   "codemirror_mode": "r",
   "file_extension": ".r",
   "mimetype": "text/x-r-source",
   "name": "R",
   "pygments_lexer": "r",
   "version": "4.4.1"
  },
  "toc": {
   "base_numbering": 1,
   "nav_menu": {},
   "number_sections": false,
   "sideBar": true,
   "skip_h1_title": false,
   "title_cell": "Table of Contents",
   "title_sidebar": "Contents",
   "toc_cell": false,
   "toc_position": {
    "height": "calc(100% - 180px)",
    "left": "10px",
    "top": "150px",
    "width": "165px"
   },
   "toc_section_display": true,
   "toc_window_display": true
  }
 },
 "nbformat": 4,
 "nbformat_minor": 4
}
