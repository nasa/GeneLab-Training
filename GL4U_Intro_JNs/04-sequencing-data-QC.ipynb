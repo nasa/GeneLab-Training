{
 "cells": [
  {
   "cell_type": "markdown",
   "id": "72030809-0cca-406b-acce-34dd71d9bddb",
   "metadata": {
    "deletable": false,
    "editable": false,
    "slideshow": {
     "slide_type": ""
    },
    "tags": []
   },
   "source": [
    "<hr style=\"height:0px; visibility:hidden;\" />\n",
    "\n",
    "<h1><center><b>GL4U: Introduction<b></center></h1>\n",
    "\n",
    "<h1><center>4. Sequencing Data QC</center></h1>\n",
    "\n",
    "<div class=\"alert alert-block alert-success\">\n",
    "Sequencing data QC (quality control) is an essential step in virtually all <a href=\"https://github.com/nasa/GeneLab-Training/tree/main/GL4U\">GL4U</a> 'omics-specific module sets. So here we are going to quickly introduce the two most common sequencing formats and one of the most widely used tools for assessing and summarizing sequence quality. 🙂\n",
    "</div>\n",
    "\n",
    "---\n",
    "\n",
    "<center>This is notebook 4\n",
    "of 4 of GL4U's Introduction Module Set. It is expected that the previous notebooks have been completed already.</center>\n",
    "\n",
    "---\n",
    "\n",
    "[**Previous:** 3. R intro](03-R-intro.ipynb)\n",
    "<br>\n",
    "\n",
    "<div style=\"text-align: right\"><a href=\"01-jupyter-intro.ipynb\"><b>Back to:</b> 1. Jupyter intro</a></div>\n",
    "\n",
    "---\n",
    "---"
   ]
  },
  {
   "cell_type": "markdown",
   "id": "a7fadab2-2dba-4130-b02f-385f71c6759b",
   "metadata": {
    "deletable": false,
    "editable": false,
    "slideshow": {
     "slide_type": ""
    },
    "tags": []
   },
   "source": [
    "# Table of Contents\n",
    "\n",
    "* [1. Common sequencing file formats](#1.-Common-sequencing-file-formats) \n",
    "    * [Fasta format](#Fasta-format) \n",
    "    * [Fastq format](#Fastq-format) \n",
    "* [2. FastQC](#2.-FastQC) \n",
    "\n",
    "---\n",
    "---"
   ]
  },
  {
   "cell_type": "markdown",
   "id": "80b9379c-c046-4ca2-a2e1-173d580e229d",
   "metadata": {
    "deletable": false,
    "editable": false,
    "slideshow": {
     "slide_type": ""
    },
    "tags": []
   },
   "source": [
    "<a class=\"anchor\" id=\"common-sequencing-formats\"></a>\n",
    "\n",
    "# 1. Common sequencing file formats\n",
    "\n",
    "Two of the most common file formats for storing sequence information are fasta and fastq.\n",
    "\n",
    "<a class=\"anchor\" id=\"fasta\"></a>\n",
    "\n",
    "## Fasta format\n",
    "\n",
    "*Fasta* is a format that holds sequencing data. It commonly has the extensions \".fasta\" or \".fa\" for nucleotide sequences, and usually \".faa\" for amino-acid sequences. \n",
    "\n",
    "By definition, each sequence (or entry) in a fasta file needs to have 2 lines, where:\n",
    "\n",
    "1. **Line 1** must begin with a \">\" character followed by a unique identifier.\n",
    "2. **Line 2** contains the sequence.\n",
    "\n",
    "Here is an example of a nucleotide fasta file showing 2 entries:\n",
    "\n",
    "> ```\n",
    "> >seq_1\n",
    "> ATGCGACCTCAAGCTACGAGGCTACTATAGTCATGCTGC\n",
    "> >seq_2\n",
    "> TCCGACTTCAAGCTAATGCTACCTACGAGGATTAA\n",
    "> ```\n",
    "\n",
    "<br>\n",
    "\n",
    "<a class=\"anchor\" id=\"fastq\"></a>\n",
    "\n",
    "## Fastq format\n",
    "\n",
    "*Fastq* is a format that holds nucleotide sequencing data and their associated quality scores (described below). Fastq formatted files typically have the extensions \".fastq\" or \".fq\". This is the format raw reads from a sequencer are typically stored in, often holding millions of reads.\n",
    "\n",
    "In fastq format, by definition each entry is referred to as a read and each read is comprised of 4 lines:\n",
    "\n",
    "1. **Line 1** Must begin with an '@' character followed by a unique identifier, and if these are reads from a sequencer, this identifier will typically include information about the sequencing run such as the sequencing platform, run number, flow cell ID and cluster location, read number (forward/reverse), the sample index, and/or other information.  \n",
    "2. **Line 2** Contains the sequence, written as base calls (A, T, C, G, or possibly an N representing any base if the base is uncertain). The sequence length will depend on how the sequencing run was set up.   \n",
    "3. **Line 3** A separater line that always begins with a '+' character and can contain additional information, but usually doesn't.  \n",
    "4. **Line 4** Contains the quality scores corresponding to each base in line 2, and there should always be one quality score for each base in the sequence. The quality score of a base is referred to as a Phred score and is encoded using ASCII characters as described [below](#Quality-scores-in-fastq-format).   \n",
    "\n",
    "Here is an example of a single entry in a fastq file (here a read from an Illumina sequencer):\n",
    "\n",
    "> ```\n",
    "> @J00113:162:H7W32BBXX:1:1101:9658:1947 1:N:0:GGTGCG\n",
    "> GTCAGTATCATGCTGCGGCTTCAAATCCGAAGTGATGTTTTGATGTGAAGTGAA\n",
    "> +\n",
    "> AAFFFJJJAAAAFAFFAFJAAAFJJJJJFFFJFFFJJFFJJJJJJJJJJJJJJJ\n",
    "> ```\n",
    "\n",
    "<br>\n",
    "\n",
    "<a class=\"anchor\" id=\"phred\"></a>\n",
    "\n",
    "### Quality scores in fastq format\n",
    "\n",
    "When sequencers attempt to read the \"sequence\" of DNA bases, for each base they read, information about the confidence of that base being correct is captured in a quality score. These are known as [Phred quality scores](https://en.wikipedia.org/wiki/Phred_quality_score) or \"Q\" scores. \n",
    "\n",
    "These scores typically range from 0-42, with higher values meaning greater confidence that the base is correct. This is a logarithmic scale, such that, for example, if a base has an associated quality score of 20, there is an estimated 1 in 100 chance that it is incorrect (i.e., a 99% confidence that it is correct); if it has a quality score of 30, there is an estimated 1 in 1,000 chance it is incorrect (i.e., a 99.9% confidence that it is correct). Here is a summary table from the [Phred quality score wiki](https://en.wikipedia.org/wiki/Phred_quality_score):\n",
    "\n",
    "<br>\n",
    "\n",
    "![phred-quality-scores](../images/phred-quality-scores.png)\n",
    "\n",
    "<br>\n",
    "\n",
    "To save space, in a fastq file, these numeric scores are encoded as single [ASCII](https://en.wikipedia.org/wiki/ASCII) characters, converted as described [here](http://drive5.com/usearch/manual/quality_score.html). "
   ]
  },
  {
   "cell_type": "markdown",
   "id": "82598362-8b13-41a4-b575-e036055a3c6c",
   "metadata": {
    "deletable": false,
    "editable": false,
    "slideshow": {
     "slide_type": ""
    },
    "tags": []
   },
   "source": [
    "<a class=\"anchor\" id=\"fastqc\"></a>\n",
    "\n",
    "# 2. FastQC\n",
    "\n",
    "Assessing the quality of fastq data is typically an essential step in the processing of sequencing data. For instance, when working with raw reads, it is important for determining if and how the reads need to be quality filtered and trimmed.\n",
    "\n",
    "[FastQC](https://www.bioinformatics.babraham.ac.uk/projects/fastqc/) is a widely used program for the assessment of fastq data. It checks and summarizes several different aspects of our data (which it refers to as modules), with the documentation for each linked on [this page](https://www.bioinformatics.babraham.ac.uk/projects/fastqc/Help/3%20Analysis%20Modules/) and summarized below with some example figures from different read datasets. We'll touch on this as we go, but these modules are assessing things assuming a completely random and diverse set of sequences, which isn't always expected to be the case depending on what type of sequencing was done. So it's important to interpret these summary results in the context of what type of data we have."
   ]
  },
  {
   "cell_type": "markdown",
   "id": "76107dd6-3ba2-43a9-8ff3-d739e5653a8c",
   "metadata": {
    "deletable": false,
    "editable": false,
    "slideshow": {
     "slide_type": ""
    },
    "tags": []
   },
   "source": [
    "- [**Basic statistics**](https://www.bioinformatics.babraham.ac.uk/projects/fastqc/Help/3%20Analysis%20Modules/1%20Basic%20Statistics.html)\n",
    "  - This section includes general information including total sequences, sequence length, and %GC.\n",
    "\n",
    "<br>\n",
    "\n",
    "![basic-statistics](../images/basic-statistics.png)\n",
    "\n",
    "<br>\n",
    "\n",
    "**Looking at the basic statistics above:**\n",
    "\n",
    "1. What is the read depth (i.e., total number of reads) for this sample?\n",
    "\n",
    "2. What is the sequence length of the reads in this sample? Do all reads have the same sequence length (it's okay to take a guess)?\n",
    "\n",
    "<div class=\"alert alert-block alert-success\">\n",
    "<details>\n",
    "<summary><b>Q1 Solution</b></summary>\n",
    "\n",
    "<br>\n",
    "29,886 \n",
    "    \n",
    "This is the value indicated for the \"Total Sequences\" measure. \n",
    "\n",
    "</details>\n",
    "</div>\n",
    "\n",
    "\n",
    "<div class=\"alert alert-block alert-success\">\n",
    "<details>\n",
    "<summary><b>Q2 Solution</b></summary>\n",
    "\n",
    "<br>\n",
    "153 as indicated by the \"Sequence length\" measure. \n",
    "    \n",
    "Yes, all reads have the same sequence length here. If there were different sequence lengths, this value would be presented as a range (e.g., 49 - 153). \n",
    "\n",
    "</details>\n",
    "</div>\n",
    "\n",
    "<br>\n",
    "\n",
    "---"
   ]
  },
  {
   "cell_type": "markdown",
   "id": "d212c31f-f7cc-4129-aa23-3c581632a21a",
   "metadata": {
    "deletable": false,
    "editable": false,
    "slideshow": {
     "slide_type": ""
    },
    "tags": []
   },
   "source": [
    "- [**Per base sequence quality**](https://www.bioinformatics.babraham.ac.uk/projects/fastqc/Help/3%20Analysis%20Modules/2%20Per%20Base%20Sequence%20Quality.html)\n",
    "  - This is an overview of all quality scores plotted as boxplots across the length of the reads.\n",
    "    - The x-axis is the position in the reads, the y-axis is the quality score, red lines are the median values, and the blue line is the mean.\n",
    "\n",
    "<br>\n",
    "  \n",
    "![per-base-sequence-quality](../images/per-base-sequence-quality.png)\n",
    "\n",
    "<br>\n",
    "\n",
    "**Looking at the quality score plot above:**\n",
    "\n",
    "1. What is roughly the average quality score at base position 20?\n",
    "\n",
    "2. What do you notice about the quality of the reads at the start vs at the end?\n",
    "\n",
    "3. It is hard to know if we aren't used to seeing what quality profiles typically look like yet, but do you think these reads are of high quality? If not, do you think quality filtering can help?\n",
    "\n",
    "<div class=\"alert alert-block alert-success\">\n",
    "<details>\n",
    "<summary><b>Q1 Solution</b></summary>\n",
    "\n",
    "<br>\n",
    "The blue line indicates the mean, which is around 27 at base position 20.\n",
    "\n",
    "</details>\n",
    "</div>\n",
    "\n",
    "\n",
    "<div class=\"alert alert-block alert-success\">\n",
    "<details>\n",
    "<summary><b>Q2 Solution</b></summary>\n",
    "\n",
    "<br>\n",
    "Read quality decreases towards the end. This is typical for Illumina sequencing data.\n",
    "\n",
    "</details>\n",
    "</div>\n",
    "\n",
    "\n",
    "<div class=\"alert alert-block alert-success\">\n",
    "<details>\n",
    "<summary><b>Q3 Solution</b></summary>\n",
    "\n",
    "<br>\n",
    "They are not great currently, as the ends of the reads have many low-quality bases as indicated by the boxplots extending down so far. However, the median values are pretty high (indicated by the red bars inside the box plots), being up around 30 (which is a 1 in 1,000 probability of being wrong). This tells us that there is a good amount of high-quality data in there we can retain after filtering out the poor-quality bases. \n",
    "\n",
    "</details>\n",
    "</div>\n",
    "\n",
    "<br>\n",
    "\n",
    "---"
   ]
  },
  {
   "attachments": {
    "3ac606b1-bff0-4167-97c7-6a4d1cffac9f.png": {
     "image/png": "[encoded data removed]"
    }
   },
   "cell_type": "markdown",
   "id": "0570d2de-02df-46a2-bf8a-4325efde9754",
   "metadata": {
    "deletable": false,
    "editable": false,
    "slideshow": {
     "slide_type": ""
    },
    "tags": []
   },
   "source": [
    "- [**Per tile sequence quality**](https://www.bioinformatics.babraham.ac.uk/projects/fastqc/Help/3%20Analysis%20Modules/12%20Per%20Tile%20Sequence%20Quality.html)\n",
    "  - If the data are reads from an Illumina sequencer, with the required sequencer information in the fastq file, this plot will show a heatmap of quality scores across the reads relative to tiles in an Illumina flow cell. This may be particularly helpful to folks who maintain and run the sequencer as a way to monitor the health of the equipment.\n",
    "\n",
    "![image.png](attachment:3ac606b1-bff0-4167-97c7-6a4d1cffac9f.png)\n",
    "<br>\n",
    "\n",
    "---"
   ]
  },
  {
   "cell_type": "markdown",
   "id": "259e13de-2003-487b-9491-609a1570ff44",
   "metadata": {
    "deletable": false,
    "editable": false,
    "slideshow": {
     "slide_type": ""
    },
    "tags": []
   },
   "source": [
    "- [**Per base sequence content**](https://www.bioinformatics.babraham.ac.uk/projects/fastqc/Help/3%20Analysis%20Modules/4%20Per%20Base%20Sequence%20Content.html)\n",
    "  - This depicts a line graph showing the proportion of each base at each position across the sequences.\n",
    "    - The x-axis is position in the sequences, and the y-axis is the percent each base was observed out of all bases in that location for all sequences. \n",
    "\n",
    "<center><img src=\"attachment:4c6c1614-1cf5-4c3f-b8b8-63656e7161e1.png\"/ width=\"75%\"></center>\n",
    "<br>\n",
    "\n",
    "In a non-biased library of sequences, we wouldn't expect any particular position in the sequence to have a greater proportion of any one base than any other position has for that base. In those scenarios, we expect these lines to run relatively parallel across the length of the sequences. But some data types, like amplicon sequencing (which is when we amplify and sequence multiple versions or copies of some portion of a target gene) will have base-proportions that vary wildly across the sequence. \n",
    "\n",
    "Here is an example from an amplicon dataset:\n",
    "\n",
    "<center><img src=\"attachment:bb52953d-c08b-4612-a7f0-209ad0258223.png\"/ width=\"75%\"></center>\n",
    "<br>\n",
    "\n",
    "And for whole-genome sequencing, typically there will be 2 sets of very clean parallel lines, with their position on the y-axis corresponding to the GC/AT-content of the genome that was sequenced:\n",
    "\n",
    "<center><img src=\"attachment:f715b60f-65e3-4362-9d75-b49c98449a55.png\"/ width=\"75%\"></center>\n",
    "<br>\n",
    "\n",
    "For several data types, it is common for raw reads to have a biased sequence composition at the start of the reads like seen here (where the lines are a little more erratic at the start before stabilizing). As described in the [Per base sequence content documentation](https://www.bioinformatics.babraham.ac.uk/projects/fastqc/Help/3%20Analysis%20Modules/4%20Per%20Base%20Sequence%20Content.html), this is typically because when we perform commonly used library preparation steps like random-primer amplification or transposase-mediated fragmentation, even though these are designed to be as random as possible, they can still introduce a slight technical bias. For some types of sequencing data, these biases generally are not trimmed off because they are derived from true biological sequences and they don't tend to negatively affect some types of analyses, like RNAseq.\n",
    "> Note that biases like this can impact other types of analyses such as single nucleotide polymorphism (SNP) or Methyl Sequencing, so it is important to consider the type of sequence data you are working with when setting trimming parameters.\n",
    "\n",
    "**Looking at this last plot of whole-genome sequencing data:**\n",
    "\n",
    "1. A genome's GC-content is the percentage of bases that are G or C. What would you estimate the GC-content is of the genome that was used for this example?\n",
    "\n",
    "<div class=\"alert alert-block alert-success\">\n",
    "<details>\n",
    "<summary><b>Q1 Solution</b></summary>\n",
    "\n",
    "<br>\n",
    "The G (black) and C (blue) lines are stable at roughly 16 or 17%. So the GC-content of the source genome is likely to be around 32-34%.\n",
    "\n",
    "</details>\n",
    "</div>\n",
    "\n",
    "<br>\n",
    "\n",
    "---"
   ]
  },
  {
   "cell_type": "markdown",
   "id": "65ea12c1-0e53-4155-a1a3-053ae19497f7",
   "metadata": {
    "deletable": false,
    "editable": false,
    "slideshow": {
     "slide_type": ""
    },
    "tags": []
   },
   "source": [
    "- [**Per sequence GC content**](https://www.bioinformatics.babraham.ac.uk/projects/fastqc/Help/3%20Analysis%20Modules/5%20Per%20Sequence%20GC%20Content.html)\n",
    "  - This plots comparison curves of a modeled normal distribution of GC content (in blue) and what was observed in the data (in red).\n",
    "    - The x-axis is mean GC content, and the y-axis is number of reads.\n",
    "\n",
    "<center><img src=\"attachment:127282f1-500c-4c4a-acf1-e104bb2b5504.png\"/ width=\"75%\"></center>\n",
    "<br>\n",
    "\n",
    "Many types of sequencing will produce a generally normal distribution when plotting the mean GC-content of all reads, which is what this module is checking for. But certain types of sequencing, like amplicon sequencing (which is when we amplify and sequence multiple versions or copies of the same portion of target DNA), may present as a bimodal or multi-modal distribution just based on the sequence composition of what was targeted. So as with many, a \"warning\" or \"failure\" needs to be evaluated in the context of the data type being assessed.\n",
    "\n",
    "When a normal distribution is expected, or largely shown like above, if a spike is observed in the actual data that is outside of the theoretical distribution, it could indicate a contaminant is present.\n",
    "\n",
    "<br>\n",
    "\n",
    "---"
   ]
  },
  {
   "cell_type": "markdown",
   "id": "166313bd-dc04-4049-a315-3739f71b249e",
   "metadata": {
    "deletable": false,
    "editable": false,
    "slideshow": {
     "slide_type": ""
    },
    "tags": []
   },
   "source": [
    "- [**Per base N content**](https://www.bioinformatics.babraham.ac.uk/projects/fastqc/Help/3%20Analysis%20Modules/6%20Per%20Base%20N%20Content.html)\n",
    "  - This is a plot depicting the frequency and location of Ns throughout the length of the sequences (which can be assigned when a base-call is uncertain). \n",
    "\n",
    "<center><img src=\"attachment:dff96d03-a2d4-40d0-977f-dd97dcc72090.png\"/ width=\"75%\"></center>\n",
    "<br>\n",
    "\n",
    "**Looking at the per base N content plot above:**\n",
    "\n",
    "1. Does it look like some sequences have Ns in them for these data?\n",
    "\n",
    "<div class=\"alert alert-block alert-success\">\n",
    "<details>\n",
    "<summary><b>Q1 Solution</b></summary>\n",
    "\n",
    "<br>\n",
    "Yes, from this example there appear to be a concentration of Ns in a small proportion of reads (< 10%) around positions 25-31, and then a little around position 38. \n",
    "\n",
    "</details>\n",
    "</div>\n",
    "\n",
    "<br>\n",
    "\n",
    "---"
   ]
  },
  {
   "cell_type": "markdown",
   "id": "17e14602-cb85-4703-9000-0f99c8570065",
   "metadata": {
    "deletable": false,
    "editable": false,
    "slideshow": {
     "slide_type": ""
    },
    "tags": []
   },
   "source": [
    "- [**Sequence length distribution**](https://www.bioinformatics.babraham.ac.uk/projects/fastqc/Help/3%20Analysis%20Modules/7%20Sequence%20Length%20Distribution.html)\n",
    "  - This is a plot showing the distribution of read lengths.\n",
    "\n",
    "<center><img src=\"attachment:0709afca-ccca-4dbd-8894-789037460a6f.png\"/ width=\"75%\"></center>\n",
    "<br>\n",
    "\n",
    "**Looking at this sequence length distribution plot:**\n",
    "\n",
    "1. What size does it look like the sequences were for this example?\n",
    "\n",
    "<div class=\"alert alert-block alert-success\">\n",
    "<details>\n",
    "<summary><b>Q1 Solution</b></summary>\n",
    "\n",
    "<br>\n",
    "The plot is showing they were all the same size of 251 bases.\n",
    "\n",
    "</details>\n",
    "</div>\n",
    "\n",
    "<br>\n",
    "\n",
    "---"
   ]
  },
  {
   "cell_type": "markdown",
   "id": "4f2354a6-2ad8-4209-99a1-f9e9a990ddc3",
   "metadata": {
    "deletable": false,
    "editable": false,
    "slideshow": {
     "slide_type": ""
    },
    "tags": []
   },
   "source": [
    "- [**Sequence duplication levels**](https://www.bioinformatics.babraham.ac.uk/projects/fastqc/Help/3%20Analysis%20Modules/8%20Duplicate%20Sequences.html)\n",
    "  - A plot showing the proportion of sequences detected in differing duplication levels.\n",
    "    - The x-axis represents duplication level, and the y-axis shows the percent of sequences at the given duplication level, the blue line represents the starting data, and the red line represents a prediction of the data after some form of deduplication.\n",
    "\n",
    "> Note that this is just comparing sequences (actually typically just the first 50 bases of the first 100,000 sequences to all the rest, as detailed in the [documentation](https://www.bioinformatics.babraham.ac.uk/projects/fastqc/Help/3%20Analysis%20Modules/8%20Duplicate%20Sequences.html)). It is not intended to tell us anything about what might be true biological duplicates as opposed to technical duplicates (though some library preparation methods for sequencing can help with that).\n",
    "\n",
    "<center><img src=\"attachment:512c400e-737c-4b8d-bb2b-e39156fd7a2e.png\"/ width=\"75%\"></center>\n",
    "<br>\n",
    "\n",
    "Certain types of sequencing that aren't random and diverse, such as amplicon sequencing or whole-genome sequencing, are expected to show a lot of duplicate sequences detected here because many identical copies of DNA fragments were deliberately sequenced.\n",
    "\n",
    "**Looking at the sequence duplication levels above:**\n",
    "\n",
    "1. Are there duplicated reads in this sample? If so, about what percent of reads are duplicates based on the fastqc assessment?\n",
    "\n",
    "2. Do you think duplicated reads will be a problem when processing the data?\n",
    "\n",
    "<div class=\"alert alert-block alert-success\">\n",
    "<details>\n",
    "<summary><b>Q1 Solution</b></summary>\n",
    "\n",
    "<br>\n",
    "\n",
    "Yes. 92.53% (100% - [the predicted % of sequences that would remain after deduplication]).\n",
    "\n",
    "</details>\n",
    "</div>\n",
    "\n",
    "\n",
    "<div class=\"alert alert-block alert-success\">\n",
    "<details>\n",
    "<summary><b>Q2 Solution</b></summary>\n",
    "\n",
    "<br>\n",
    "\n",
    "It depends 🙂\n",
    "    \n",
    "First, as mentioned, certain types of sequencing that aren't random and diverse are expected to have many duplicates. But whether we do expect that or not, also as discussed above, this is just comparing sequences and it has no information if something is a biological duplicate or a technnical duplicate. Technical duplicates (duplicates that are not derived from the original sample but rather introduced during sample processing) could be an issue when processing the data because they could result in, for example, over-representation of certain taxa or expressed genes (depending on the sample being processed).\n",
    "\n",
    "</details>\n",
    "</div>\n",
    "\n",
    "<br>\n",
    "\n",
    "---"
   ]
  },
  {
   "cell_type": "markdown",
   "id": "9031a280-b2f8-401c-81e5-f839681f44c6",
   "metadata": {
    "deletable": false,
    "editable": false,
    "slideshow": {
     "slide_type": ""
    },
    "tags": []
   },
   "source": [
    "- [**Overrepresented sequences**](https://www.bioinformatics.babraham.ac.uk/projects/fastqc/Help/3%20Analysis%20Modules/9%20Overrepresented%20Sequences.html)\n",
    "  - A list of any sequences that make up more than 0.1% of the total.\n",
    "  > These sequences can be searched against a reference database using tools such as [NCBI blast](https://blast.ncbi.nlm.nih.gov/Blast.cgi) to try to determine what the source of the over-represented sequences may be.  \n",
    "\n",
    "<center><img src=\"attachment:a1abc305-d7b4-4bc9-b052-9aaafe5f863f.png\"/ width=\"75%\"></center>\n",
    "<br>\n",
    "\n",
    "This Overrepresented sequences module is related to the Sequence duplication one above. Certain types of sequencing are expected to produce duplicate sequences, and they may be listed here if they comprise more than 0.1% of the total. But just because we expect some to show up doesn't mean we should ignore this output either.\n",
    "\n",
    "**Looking at the table above:**\n",
    "\n",
    "1. What do you notice about some of the reported overrepresented sequences?\n",
    "\n",
    "<div class=\"alert alert-block alert-success\">\n",
    "<details>\n",
    "<summary><b>Q1 Solution</b></summary>\n",
    "\n",
    "<br>\n",
    "\n",
    "Two of them are listed as likely coming from an adapter, which also may show up in the next module.\n",
    "\n",
    "</details>\n",
    "</div>\n",
    "\n",
    "<br>\n",
    "\n",
    "---"
   ]
  },
  {
   "cell_type": "markdown",
   "id": "e6092039-5b68-4e26-a68c-01fa6e15ad52",
   "metadata": {
    "deletable": false,
    "editable": false,
    "slideshow": {
     "slide_type": ""
    },
    "tags": []
   },
   "source": [
    "- [**Adapter content**](https://www.bioinformatics.babraham.ac.uk/projects/fastqc/Help/3%20Analysis%20Modules/10%20Adapter%20Content.html)\n",
    "  - The sequences of common adapters are searched and reported if they are found in the reads.\n",
    "\n",
    "<center><img src=\"attachment:eeb69eb4-d208-4d13-966e-9414d92f53e2.png\"/ width=\"75%\"></center>\n",
    "<br>\n",
    "\n",
    "**Looking at the adapter content plot above:**\n",
    "\n",
    "1. Are there adapters detected in this sample? If so, which type of adapters are detected?\n",
    "\n",
    "2. Do you think the adapters should be considered when quality trimming our data? Why or why not?\n",
    "\n",
    "<div class=\"alert alert-block alert-success\">\n",
    "<details>\n",
    "<summary><b>Q1 Solution</b></summary>\n",
    "\n",
    "<br>\n",
    "\n",
    "Yes. Illumina Universal Adapters are detected.\n",
    "\n",
    "</details>\n",
    "</div>\n",
    "\n",
    "\n",
    "<div class=\"alert alert-block alert-success\">\n",
    "<details>\n",
    "<summary><b>Q2 Solution</b></summary>\n",
    "\n",
    "<br>\n",
    "\n",
    "Yes. Adapters are not biological, so we want to be sure they are removed in the quality-filtering step.\n",
    "\n",
    "</details>\n",
    "</div>\n",
    "\n",
    "<br>\n",
    "\n",
    "---"
   ]
  },
  {
   "cell_type": "markdown",
   "id": "c821ab1b-6ebe-44ca-b549-c08f920f6f91",
   "metadata": {
    "deletable": false,
    "editable": false,
    "slideshow": {
     "slide_type": ""
    },
    "tags": []
   },
   "source": [
    "At the end of the fastqc report, these modules are summarized in an html report in a Pass (green check), Warning (yellow exclamation point), and Fail (red X) fashion. \n",
    "\n",
    "**It is important to remember that although these modules are summarized in a pass/fail fashion, those indicators are based on expecting the input sequencing data are completely random and diverse, which is often not the case depending on the type of sequencing that was done.** \n",
    "\n",
    "For instance, as mentioned above, if we are working with amplicon data (where we deliberately amplified and sequenced many copies of one gene type), or whole-genome sequencing of just one genome, these are not random and diverse sets of sequences. In these cases, some of these modules might be assessed as \"Fail\" by the FastQC modules, e.g.:\n",
    "\n",
    "<center><img src=\"attachment:6d90d338-6b26-45ef-b7b9-b7f4fec1bcb5.png\"/ width=\"40%\"></center>\n",
    "<br>"
   ]
  },
  {
   "cell_type": "markdown",
   "id": "9a3f0f83-806a-4bfe-9b4c-8d07ca8d426f",
   "metadata": {
    "deletable": false,
    "editable": false,
    "slideshow": {
     "slide_type": ""
    },
    "tags": []
   },
   "source": [
    "Seeing any given module marked as \"Fail\" by FastQC doesn't by itself mean there is necessarily anything wrong with our data. Frequently, the common causes for a particular module to fail or have a warning are noted in the [FastQC documentation pages](https://www.bioinformatics.babraham.ac.uk/projects/fastqc/Help/3%20Analysis%20Modules/), so it can help to begin looking there if you are unsure.\n",
    "\n",
    "<div class=\"alert alert-block alert-info\">\n",
    "\n",
    "**FastQC provides a powerful way to summarize the quality of our data, but it's important to interpret the results within the context of what type of data we are working with.**\n",
    "\n",
    "</div>\n"
   ]
  },
  {
   "cell_type": "markdown",
   "id": "b5737ecc-31ac-43e3-a358-14f737acc67d",
   "metadata": {
    "deletable": false,
    "editable": false,
    "slideshow": {
     "slide_type": ""
    },
    "tags": []
   },
   "source": [
    "---\n",
    "---\n",
    "\n",
    "[**Previous:** 3. R intro](03-R-intro.ipynb)\n",
    "<br>\n",
    "\n",
    "<div style=\"text-align: right\"><a href=\"01-jupyter-intro.ipynb\"><b>Back to:</b> 1. Jupyter intro</a></div>\n"
   ]
  }
 ],
 "metadata": {
  "kernelspec": {
   "display_name": "Bash",
   "language": "bash",
   "name": "bash"
  },
  "language_info": {
   "codemirror_mode": "shell",
   "file_extension": ".sh",
   "mimetype": "text/x-sh",
   "name": "bash"
  }
 },
 "nbformat": 4,
 "nbformat_minor": 5
}
