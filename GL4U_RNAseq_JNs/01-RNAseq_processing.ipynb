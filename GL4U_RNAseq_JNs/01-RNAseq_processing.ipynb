{
 "cells": [
  {
   "cell_type": "markdown",
   "metadata": {
    "editable": false,
    "slideshow": {
     "slide_type": ""
    },
    "tags": []
   },
   "source": [
    "<hr style=\"height:0px; visibility:hidden;\" />\n",
    "\n",
    "<h1><center><b>GL4U: RNAseq<b></center></h1>\n",
    "\n",
    "# Pipeline for Processing GeneLab RNA-sequencing Data\n",
    "\n",
    "> **The 2 GL4U RNAseq Jupyter Notebooks (JNs) are designed to teach students how to process RNA sequencing data using the GeneLab standard pipeline. Below are step-by-step instructions for processing samples derived from the soleus (aka \"anti-gravity\") muscle of mice that were either flown in space aboard the International Space Station (ISS) (spaceflight, FLT, animals) or kept in an environmental simulator on Earth to serve as ground controls (GC, animals) during NASA's Rodent Research - 1 mission. More information about the samples analyzed here can be found in the [Open Science Data Repository](https://osdr.nasa.gov/bio/repo) under [OSD-104](https://osdr.nasa.gov/bio/repo/data/studies/OSD-104).**  \n",
    "\n",
    "---"
   ]
  },
  {
   "cell_type": "markdown",
   "metadata": {
    "editable": false,
    "slideshow": {
     "slide_type": ""
    },
    "tags": []
   },
   "source": [
    "### RNAseq Pipeline Overview\n",
    "> This JN will cover the pipeline steps outlined in red. For more information about how GeneLab processes bulk RNAseq data, visit the [GeneLab Data Processing GitHub repository](https://github.com/nasa/GeneLab_Data_Processing/tree/master/RNAseq).  \n",
    "\n",
    "<br>\n",
    "\n",
    "![RNAseq_processing_pipeline](../images/RNAseq_processing_pipeline.png)\n"
   ]
  },
  {
   "cell_type": "markdown",
   "metadata": {
    "editable": false,
    "slideshow": {
     "slide_type": ""
    },
    "tags": []
   },
   "source": [
    "<hr style=\"height:0px; visibility:hidden;\" />\n",
    "    \n",
    "<h1><center>1. RNAseq processing: fastq to counts</center></h1>\n",
    "\n",
    "<div class=\"alert alert-block alert-success\">\n",
    "Here we are going to setup a directory structure to store the output data we'll generate, then we will follow the steps in the GeneLab standard RNAseq processing pipeline to generate raw count data. All of these steps are most easily done at a Unix-like command line, so this notebook uses a \"Bash\" kernel, a common language used in a Unix-like environment. \n",
    "</div>\n",
    "\n",
    "---\n",
    "\n",
    "This is notebook 1 of 2 of GL4U's RNAseq Module Set. It is expected that GL4U's Introduction Module Set has been completed already. \n",
    "\n",
    "---\n",
    "\n",
    "<div style=\"text-align: right\"><a href=\"02-RNAseq_analysis.ipynb\"><b>Next:</b> 2. RNAseq analysis</a></div>\n",
    "\n",
    "---\n",
    "---"
   ]
  },
  {
   "cell_type": "markdown",
   "metadata": {
    "editable": false,
    "slideshow": {
     "slide_type": ""
    },
    "tags": []
   },
   "source": [
    "# Table of Contents\n",
    "\n",
    "* [0. Setup](#0.-Setup) \n",
    "* [1. Raw Data Quality Control (QC)](#1.-Raw-Data-Quality-Control-(QC)) \n",
    "    * [1a. Raw Data QC with FastQC](#1a.-Raw-Data-QC-with-FastQC) \n",
    "    * [1b. Compile Raw Data QC with MultiQC](#1b.-Compile-Raw-Data-QC-with-MultiQC) \n",
    "* [2. Trim/Filter Raw Data](#2.-Trim/Filter-Raw-Data) \n",
    "    * [2a. Trim and Filter Raw Sequence Data with Trim Galore!](#2a.-Trim-and-Filter-Raw-Sequence-Data-with-Trim-Galore!) \n",
    "    * [2b. Trimmed Data QC with FastQC](#2b.-Trimmed-Data-QC-with-FastQC) \n",
    "    * [2c. Compile Trimmed Data QC with MultiQC](#2c.-Compile-Trimmed-Data-QC-with-MultiQC) \n",
    "* [3. Build a STAR Index for the Reference Genome](#3.-Build-a-STAR-Index-for-the-Reference-Genome) \n",
    "* [4. Align Reads to the Reference Genome](#4.-Align-Reads-to-the-Reference-Genome) \n",
    "    * [4a. Align Trimmed Sequence Data with STAR](#4a.-Align-Trimmed-Sequence-Data-with-STAR) \n",
    "    * [4b. Compile Alignment Log Files with MultiQC](#4b.-Compile-Alignment-Log-Files-with-MultiQC) \n",
    "    * [4c. Index Genome Aligned Reads](#4c.-Index-Genome-Aligned-Reads) \n",
    "* [5. Create a BED File for the Reference Genome](#5.-Create-a-BED-File-for-the-Reference-Genome) \n",
    "* [6. Determine Read Strandedness](#6.-Determine-Read-Strandedness) \n",
    "    * [6a. Evaluate Strandedness with RSeQC Infer Experiment](#6a.-Evaluate-Strandedness-with-RSeQC-Infer-Experiment)\n",
    "    * [6b. Compile Strandedness Data with MultiQC](#6b.-Compile-Strandedness-Data-with-MultiQC) \n",
    "* [7. Build a RSEM Index for the Reference Genome](#7.-Build-a-RSEM-Index-for-the-Reference-Genome) \n",
    "* [8. Quantitate Alignment Data](#8.-Quantitate-Alignment-Data) \n",
    "    * [8a. Count Aligned Reads with RSEM](#8a.-Count-Aligned-Reads-with-RSEM) \n",
    "    * [8b. Compile Count Data with MultiQC](#8b.-Compile-Count-Data-with-MultiQC) "
   ]
  },
  {
   "cell_type": "markdown",
   "metadata": {
    "editable": false,
    "slideshow": {
     "slide_type": ""
    },
    "tags": []
   },
   "source": [
    "<a id=\"setup\"></a> \n",
    "\n",
    "## 0. Setup\n",
    "\n",
    "We'll start by moving to the location that contains the files we will use in this JN: "
   ]
  },
  {
   "cell_type": "code",
   "execution_count": null,
   "metadata": {
    "editable": false,
    "slideshow": {
     "slide_type": ""
    },
    "tags": []
   },
   "outputs": [],
   "source": [
    "cd /workspace/GeneLab-Training/\n",
    "pwd"
   ]
  },
  {
   "cell_type": "markdown",
   "metadata": {
    "editable": false,
    "slideshow": {
     "slide_type": ""
    },
    "tags": []
   },
   "source": [
    "**Let's see the directory and all sub-directories that we will be using:**\n",
    "> During RNAseq processing, you will generate several, likely 100s, of files so it is important to keep the quality control (QC) and processed data files organized. Below, you'll see the directory structure we use at GeneLab to keep our files organized.\n",
    "\n",
    "<div class=\"alert alert-block alert-info\">\n",
    "<b>Note:</b><br>\n",
    "\n",
    "For the purposes of this bootcamp we are only using a subset of the [OSD-104](https://osdr.nasa.gov/bio/repo/data/studies/OSD-104) RNAseq raw reads from the spaceflight (FLT) and respective ground control (GC) soleus muscle samples prepared using the ribo-depletion library preparation method.\n",
    "\n",
    "</div>"
   ]
  },
  {
   "cell_type": "code",
   "execution_count": null,
   "metadata": {
    "editable": false,
    "slideshow": {
     "slide_type": ""
    },
    "tags": []
   },
   "outputs": [],
   "source": [
    "find ./OSD-104 -maxdepth 3 -type d | sort"
   ]
  },
  {
   "cell_type": "markdown",
   "metadata": {
    "editable": false,
    "slideshow": {
     "slide_type": ""
    },
    "tags": []
   },
   "source": [
    "<div class=\"alert alert-block alert-info\">\n",
    "<b><i>Code Breakdown</i></b>\n",
    "<br>\n",
    "    \n",
    "- `find`   - the primary command we're using, which can be used to look for directories and files\n",
    "    - `./OSD-104`   - this is a positional argument that tells `find` to search in the \"OSD-104\" folder that is in our current working directory \n",
    "    - `-type d`   - this specifies what we're looking for, the d indicates \"directories\"\n",
    "    - `-maxdepth 3` - this tells find to only list directories up to 3 levels deep\n",
    "- `| sort` - directs the output from the find command into the sort command using a pipe\n",
    "  \n",
    "</div>"
   ]
  },
  {
   "cell_type": "markdown",
   "metadata": {
    "editable": false,
    "slideshow": {
     "slide_type": ""
    },
    "tags": []
   },
   "source": [
    "<a class=\"anchor\" id=\"paths\"></a>\n",
    "\n",
    "### Define Paths to GL4U: RNAseq Bootcamp Processed Data\n",
    "\n",
    "To save time and conserve resources, some of the processing steps below will utilize processed data that have already been generated for this course and made available in the directory structure we observed with the command above. Run the following commands to set up variables that define the paths to those files:"
   ]
  },
  {
   "cell_type": "code",
   "execution_count": null,
   "metadata": {
    "editable": false,
    "slideshow": {
     "slide_type": ""
    },
    "tags": []
   },
   "outputs": [],
   "source": [
    "metadata=/workspace/GeneLab-Training/OSD-104/Metadata\n",
    "raw_fastq=/workspace/GeneLab-Training/OSD-104/00-RawData/Fastq\n",
    "raw_fastqc=/workspace/GeneLab-Training/OSD-104/00-RawData/FastQC_Reports\n",
    "raw_multiqc=/workspace/GeneLab-Training/OSD-104/00-RawData/FastQC_Reports/raw_multiqc_report\n",
    "trimmed_fastq=/workspace/GeneLab-Training/OSD-104/01-TG_Preproc/Fastq\n",
    "trimmed_fastqc=/workspace/GeneLab-Training/OSD-104/01-TG_Preproc/FastQC_Reports\n",
    "trimmed_multiqc=/workspace/GeneLab-Training/OSD-104/01-TG_Preproc/FastQC_Reports/trimmed_multiqc_report\n",
    "STAR_output=/workspace/GeneLab-Training/OSD-104/02-STAR_Alignment\n",
    "STAR_logs=/workspace/GeneLab-Training/OSD-104/02-STAR_Alignment/Log_files\n",
    "aligned_multiqc=/workspace/GeneLab-Training/OSD-104/02-STAR_Alignment/aligned_multiqc_report\n",
    "REFs=/workspace/GeneLab-Training/OSD-104/References\n",
    "RSeQC_infer_exp=/workspace/GeneLab-Training/OSD-104/RSeQC_analyses/infer_exp\n",
    "RSeQC_infer_exp_multiqc=/workspace/GeneLab-Training/OSD-104/RSeQC_analyses/infer_exp/infer_exp_multiqc_report\n",
    "RSEM_output=/workspace/GeneLab-Training/OSD-104/03-RSEM_Counts\n",
    "RSEM_logs=/workspace/GeneLab-Training/OSD-104/03-RSEM_Counts/Log_files\n",
    "count_multiqc=/workspace/GeneLab-Training/OSD-104/03-RSEM_Counts/count_multiqc_report\n",
    "processing=/workspace/GeneLab-Training/OSD-104/processing_scripts"
   ]
  },
  {
   "cell_type": "markdown",
   "metadata": {
    "editable": false,
    "slideshow": {
     "slide_type": ""
    },
    "tags": []
   },
   "source": [
    "There is a file with information about the samples we will be processing in the \"Metadata\" sub-directory. Let's use the cat command to take a look at that file:"
   ]
  },
  {
   "cell_type": "code",
   "execution_count": null,
   "metadata": {
    "editable": false,
    "slideshow": {
     "slide_type": ""
    },
    "tags": []
   },
   "outputs": [],
   "source": [
    "cat $metadata/OSD-104_Sample_Metadata.csv"
   ]
  },
  {
   "cell_type": "markdown",
   "metadata": {
    "editable": false,
    "slideshow": {
     "slide_type": ""
    },
    "tags": []
   },
   "source": [
    "The columns are not perfectly aligned across each row when using `cat`. This just has to do with how the print-out is positioning things. \n",
    "\n",
    "We can use a command called `column` to help with formatting the print-out (where `-s,` specifies the comma as the delimiter and `-t` tells it to try to make a table):"
   ]
  },
  {
   "cell_type": "code",
   "execution_count": null,
   "metadata": {
    "editable": false,
    "slideshow": {
     "slide_type": ""
    },
    "tags": []
   },
   "outputs": [],
   "source": [
    "column -s, -t $metadata/OSD-104_Sample_Metadata.csv"
   ]
  },
  {
   "cell_type": "markdown",
   "metadata": {
    "editable": false,
    "slideshow": {
     "slide_type": ""
    },
    "tags": []
   },
   "source": [
    "**Take a look at the OSD-104_Sample_Metadata.csv file above and answer the following questions:**\n",
    "\n",
    "1. How many samples are there? \n",
    "2. How many samples are derived from spaceflight (FLT)? How many from ground control (GC)? How do you know?\n"
   ]
  },
  {
   "cell_type": "markdown",
   "metadata": {
    "editable": false,
    "slideshow": {
     "slide_type": ""
    },
    "tags": []
   },
   "source": [
    "<div class=\"alert alert-block alert-success\">\n",
    "\n",
    "<details>\n",
    "<summary><b>Solutions</b></summary>\n",
    "\n",
    "<br>\n",
    "\n",
    "<b>1.</b> 12 samples<br>\n",
    "<b>2.</b> 6 samples from FLT and 6 samples from GC, going by what's in the \"condition\" column\n",
    "    \n",
    "</details>\n",
    "</div>"
   ]
  },
  {
   "cell_type": "markdown",
   "metadata": {
    "editable": false,
    "slideshow": {
     "slide_type": ""
    },
    "tags": []
   },
   "source": [
    "**Okay, now that we're done with our housekeeping, it's time to start processing RNAseq data!**\n",
    "\n",
    "<div class=\"alert alert-block alert-info\">\n",
    "<b>Note:</b><br>\n",
    "\n",
    "For the purposes of this bootcamp we will only be running one sample, FLT_M23, through each step of the pipeline. \n",
    "\n",
    "</div>\n",
    "\n",
    "---"
   ]
  },
  {
   "cell_type": "markdown",
   "metadata": {
    "editable": false,
    "slideshow": {
     "slide_type": ""
    },
    "tags": []
   },
   "source": [
    "<a class=\"anchor\" id=\"rawqc\"></a>\n",
    "\n",
    "## 1. Raw Data Quality Control (QC)\n",
    "\n",
    "<a class=\"anchor\" id=\"rawfastqc\"></a>\n",
    "\n",
    "### 1a. Raw Data QC with FastQC\n",
    "\n",
    "First, we will assess the quality of the raw RNA sequence data using the [FastQC](https://www.bioinformatics.babraham.ac.uk/projects/fastqc/) program. Short-read sequence data are stored in fastq files, which contain several (often millions) of reads. Each read consists of the following 4 line structure:\n",
    "\n",
    " > Line 1 - Begins with @, followed by information about the sequencing run such as the sequencing platform, run number, flow cell ID and cluster location, read number (forward/reverse), and/or the sample index.\n",
    " <br>\n",
    " > Line 2 - Contains the sequence, written as base calls (A, T, C, or G). Note that the sequence length is equal to the number of cycles in the sequencing run.\n",
    " <br>\n",
    " > Line 3 - A separator line, which begins with a plus (+) sign.\n",
    " <br>\n",
    " >Line 4 - Quality scores of each base call that are Phred +33 encoded and use [ASCII characters](http://drive5.com/usearch/manual/quality_score.html) to represent the quality of the bases. \n",
    "\n",
    "Let's take a look at the raw fastq files we will be using:"
   ]
  },
  {
   "cell_type": "code",
   "execution_count": null,
   "metadata": {
    "editable": false,
    "slideshow": {
     "slide_type": ""
    },
    "tags": []
   },
   "outputs": [],
   "source": [
    "ls -1 $raw_fastq/"
   ]
  },
  {
   "cell_type": "markdown",
   "metadata": {
    "editable": false,
    "slideshow": {
     "slide_type": ""
    },
    "tags": []
   },
   "source": [
    "Now, let's look at the first couple reads of the forward (R1) fastq file for sample FLT_M23:\n",
    "> Note: The `zcat` command is similar to the `cat` command we learned in the Unix intro, but it will uncompress gzipped files first then print the contents."
   ]
  },
  {
   "cell_type": "code",
   "execution_count": null,
   "metadata": {
    "editable": false,
    "slideshow": {
     "slide_type": ""
    },
    "tags": []
   },
   "outputs": [],
   "source": [
    "zcat $raw_fastq/FLT_M23_R1_raw.fastq.gz | head -n 8"
   ]
  },
  {
   "cell_type": "markdown",
   "metadata": {
    "editable": false,
    "slideshow": {
     "slide_type": ""
    },
    "tags": []
   },
   "source": [
    "It would be difficult to determine the quality of sequence data if we had to interpret the individual quality score for each base of each read of a file. Luckily we don't have to!\n",
    "\n",
    "FastQC will evaluate the information provided for each read in the fastq files and generate a summary report about the quality of the sequence data. Assessing the raw sequence quality is important for determining if and how the reads need to be trimmed.\n",
    "\n",
    "Let's run FastQC on the raw reads of our FLT_M23 sample using the following command:"
   ]
  },
  {
   "cell_type": "code",
   "execution_count": null,
   "metadata": {
    "editable": false,
    "slideshow": {
     "slide_type": ""
    },
    "tags": []
   },
   "outputs": [],
   "source": [
    "fastqc -o $raw_fastqc $raw_fastq/*raw.fastq.gz"
   ]
  },
  {
   "cell_type": "markdown",
   "metadata": {
    "editable": false,
    "slideshow": {
     "slide_type": ""
    },
    "tags": []
   },
   "source": [
    "<div class=\"alert alert-block alert-info\">\n",
    "<b><i>Code Breakdown</i></b>\n",
    "    \n",
    "<br>\n",
    "\n",
    "**Parameter Definitions:**\n",
    "\n",
    "* `-o` – the output directory to store the FastQC results\n",
    "* `*raw.fastq.gz` – the input reads are specified as a positional argument, and can be given all at once with wildcards, or as individual arguments with spaces in between them\n",
    "\n",
    "**Input Data:**\n",
    "- *raw.fastq.gz (raw reads)\n",
    "\n",
    "**Output Data:**\n",
    "- *fastqc.html (FastQC report: a webpage file containing graphical representations of the raw sequence quality)\n",
    "- *fastqc.zip (FastQC data: a compressed directory containing the quality reports of all raw sequences assessed)\n",
    "\n",
    "</div>\n",
    "\n",
    "___________\n",
    "\n",
    "The fastqc job is complete when you see the \"Analysis complete for\" statement for both the forward (R1) and reverse (R2) files of our sample. \n",
    "\n",
    "Let's list the output files that were generated:"
   ]
  },
  {
   "cell_type": "code",
   "execution_count": null,
   "metadata": {
    "editable": false,
    "slideshow": {
     "slide_type": ""
    },
    "tags": []
   },
   "outputs": [],
   "source": [
    "ls -1 $raw_fastqc/FLT_M23*"
   ]
  },
  {
   "cell_type": "markdown",
   "metadata": {
    "editable": false,
    "slideshow": {
     "slide_type": ""
    },
    "tags": []
   },
   "source": [
    "You can use the paths indicated above to navigate to the FastQC outputs for sample FLT_M23 on the left side panel. Then double click on the \"FLT_M23_R1_raw_fastqc.html\" or \"FLT_M23_R2_raw_fastqc.html\" files to open up the FastQC reports.\n",
    "\n",
    "<div class=\"alert alert-block alert-info\">\n",
    "<b>Note:</b><br>\n",
    "\n",
    "As we covered earlier, there are many modules included in the `fastqc` program, with the documentation for each linked on [this page](https://www.bioinformatics.babraham.ac.uk/projects/fastqc/Help/3%20Analysis%20Modules/). While these are summarized in a pass (green check), warning (yellow exclamation point), and fail (red X) fashion, it is important to remember that those indicators are based on expecting the data are completely random and diverse, which is often not the case depending on the type of sequencing that was done.\n",
    "\n",
    "</div>"
   ]
  },
  {
   "cell_type": "markdown",
   "metadata": {
    "editable": false,
    "slideshow": {
     "slide_type": ""
    },
    "tags": []
   },
   "source": [
    "<a class=\"anchor\" id=\"rawmultiqc\"></a>\n",
    "\n",
    "### 1b. Compile Raw Data QC with MultiQC\n",
    "\n",
    "Rather than viewing the FastQC reports of each fastq file for all 12 samples individually, we can use the [MultiQC](https://multiqc.info/) program to compile the FastQC data from all samples and generate a single report (and associated data files). This allows us to view and assess the raw sequence data of all samples at once. \n",
    "\n",
    "Let's compile the raw FastQC data from our 12 samples using MultiQC by running the following command:"
   ]
  },
  {
   "cell_type": "code",
   "execution_count": null,
   "metadata": {
    "editable": false,
    "slideshow": {
     "slide_type": ""
    },
    "tags": []
   },
   "outputs": [],
   "source": [
    "multiqc --interactive -n raw_multiqc -o $raw_multiqc $raw_fastqc/"
   ]
  },
  {
   "cell_type": "markdown",
   "metadata": {
    "editable": false,
    "slideshow": {
     "slide_type": ""
    },
    "tags": []
   },
   "source": [
    "<div class=\"alert alert-block alert-info\">\n",
    "<b><i>Code Breakdown</i></b>\n",
    "    \n",
    "<br>\n",
    "\n",
    "**Parameter Definitions:**\n",
    "\n",
    "* `--interactive` – force reports to use interactive plots, see the MultiQC documentation [here](https://multiqc.info/docs/#large-sample-numbers) for additional info\n",
    "* `-n` – prefix name for the output files\n",
    "* `-o` – specifies the output directory to store the MultiQC results\n",
    "* `$raw_fastqc/` – the directory holding the raw FastQC data from each sample, provided as a positional argument\n",
    "\n",
    "**Input Data:**\n",
    "- *fastqc.zip (FastQC data)\n",
    "\n",
    "**Output Data:**\n",
    "- raw_multiqc_data (directory containing the compiled raw FastQC data from each sample, used to create the MultiQC report)\n",
    "- raw_multiqc.html (multiqc report: an interactive webpage file containing graphical representations of the compiled raw sequence quality)\n",
    "\n",
    "</div>\n",
    "\n",
    "___________\n",
    "\n",
    "The multiQC job is complete when you see the \"MultiQC complete\" statement at the end of the standard output. Check that the number of reports found matches what you expect.\n",
    "> Note: For paired-end data, we expect a report for both the forward (R1) and reverse (R2) reads of each sample. Since we have 12 paired-end samples, MultiQC should detect 24 FastQC reports.\n",
    "\n",
    "Let's list the output files that were generated:"
   ]
  },
  {
   "cell_type": "code",
   "execution_count": null,
   "metadata": {
    "editable": false,
    "slideshow": {
     "slide_type": ""
    },
    "tags": []
   },
   "outputs": [],
   "source": [
    "ls -1 $raw_multiqc/"
   ]
  },
  {
   "cell_type": "markdown",
   "metadata": {
    "editable": false,
    "slideshow": {
     "slide_type": ""
    },
    "tags": []
   },
   "source": [
    "Use the path indicated above to navigate to the MultiQC report generated from the raw FastQC data on the left side panel. Then double click on the \"raw_multiqc.html\" file to open up the compiled FastQC reports from all 12 samples.\n",
    "\n",
    "<div class=\"alert alert-block alert-info\">\n",
    "<b>Note:</b><br>\n",
    "    \n",
    "Click [here](https://multiqc.info/examples/rna-seq/multiqc_report.html#fastqc) for an example and description of the MultiQC plots derived from FastQC data\n",
    "\n",
    "</div>\n",
    "\n",
    "<div class=\"alert alert-block alert-warning\">\n",
    "<a class=\"anchor\" id=\"enableJS\"></a>\n",
    "\n",
    "##### Enable JavaScript\n",
    "    \n",
    "Be sure to click the \"Trust HTML\" button in the top left corner of the MultiQC report to be able to see all the plots.\n",
    "\n",
    "If the plots are still not visible, make sure JavaScript is enabled on the web-browser you are using. Below are instructions for how to enable JavaScript on common web-browsers:\n",
    "- Google Chrome:\n",
    "  - Click the three-dot menu in the top right corner and go to Settings.\n",
    "  - Scroll down and click Privacy and security on the left.\n",
    "  - Select Site Settings.\n",
    "  - Scroll down to JavaScript and make sure it's set to Allowed.\n",
    "- Mozilla Firefox:\n",
    "  - Type about:config in the address bar and press Enter.\n",
    "  - Click the \"Accept the Risk and Continue\" button.\n",
    "  - In the search bar, type javascript.enabled.\n",
    "  - Ensure the value is set to true. If it's false, double-click to change it to true.\n",
    "- Microsoft Edge:\n",
    "  - Click the three-dot menu in the top right corner and go to Settings.\n",
    "  - Scroll down and select Cookies and site permissions.\n",
    "  - Under Site permissions, click JavaScript.\n",
    "  - Make sure the toggle is set to Allowed.\n",
    "- Safari (Mac):\n",
    "  - Open the Safari menu and select Preferences.\n",
    "  - Go to the Security tab.\n",
    "  - Make sure the checkbox Enable JavaScript is checked.\n",
    "\n",
    "</div>"
   ]
  },
  {
   "cell_type": "markdown",
   "metadata": {
    "editable": false,
    "slideshow": {
     "slide_type": ""
    },
    "tags": []
   },
   "source": [
    "**Take a look at the multiQC report of the raw fastQC data above and answer the following questions:**\n",
    "\n",
    "1. Which sample was sequenced at the greatest read depth? the least read depth? (Hint: See *M Seqs* under \"General Statistics\")\n",
    "2. What do you notice about the quality of the raw sequence data? Are there any differences between the forward and reverse reads?\n",
    "3. Were adapters detected?\n",
    "4. Should we trim and/or filter the data before aligning to the reference genome? Why or why not?\n",
    "\n",
    "<br>\n",
    "\n",
    "<div class=\"alert alert-block alert-success\">\n",
    "\n",
    "<details>\n",
    "<summary><b>Q1 Solution</b></summary>\n",
    "\n",
    "<br>\n",
    "\n",
    "All samples show the same read depth, 0.1M reads.\n",
    "> *Note: This is because these reads were purposfully truncated to 100,000. Normally you'll find that samples have different read depths. In RNAseq studies, it is important for samples to be sequenced at similar depths to enable downstream gene expression comparisons.* \n",
    "    \n",
    "</details>\n",
    "</div>\n",
    "\n",
    "\n",
    "<div class=\"alert alert-block alert-success\">\n",
    "\n",
    "<details>\n",
    "<summary><b>Q2 Solution</b></summary>\n",
    "\n",
    "<br>\n",
    "\n",
    "The quality is overall good (>Q25).  \n",
    "    \n",
    "The reverse reads have slightly lower quality than the forward reads.\n",
    "> This may be due to the fact that the reverse reads are sequenced after the forward reads. Therefore the template cDNA and/or the reagents may have degraded slightly, reducing the quality of the reverse reads.\n",
    "    \n",
    "</details>\n",
    "</div>\n",
    "\n",
    "\n",
    "<div class=\"alert alert-block alert-success\">\n",
    "\n",
    "<details>\n",
    "<summary><b>Q3 Solution</b></summary>\n",
    "\n",
    "<br>\n",
    "\n",
    "Yes, Illumina Universal Adapters are detected towards the end of some reads for every sample, although they make up less than 2% of the total reads for each sample.\n",
    "\n",
    "</details>\n",
    "</div>\n",
    "\n",
    "\n",
    "<div class=\"alert alert-block alert-success\">\n",
    "\n",
    "<details>\n",
    "<summary><b>Q4 Solution</b></summary>\n",
    "\n",
    "<br>\n",
    "\n",
    "While these data look pretty good overall, it is still a good idea to trim/filter them to remove the adapters and since these quality plots only show the averages, there may be some reads with poor quality we might still want to filter out. \n",
    "\n",
    "</details>\n",
    "</div>\n",
    "\n",
    "\n",
    "---"
   ]
  },
  {
   "cell_type": "markdown",
   "metadata": {
    "editable": false,
    "slideshow": {
     "slide_type": ""
    },
    "tags": []
   },
   "source": [
    "<a class=\"anchor\" id=\"trimfilter\"></a>\n",
    "\n",
    "## 2. Trim/Filter Raw Data\n",
    "\n",
    "<a class=\"anchor\" id=\"trim\"></a>\n",
    "\n",
    "### 2a. Trim and Filter Raw Sequence Data with Trim Galore! \n",
    "\n",
    "To ensure maximal sequence alignment to the reference genome, our next step is to clean up the raw sequence data using [TrimGalore!](https://www.bioinformatics.babraham.ac.uk/projects/trim_galore/), which utilizes the [cutadapt](https://cutadapt.readthedocs.io/en/stable/) software. During this step, we filter the raw reads to remove any sequencing adapters detected, which were artificially added to enable sequencing of the sample RNA, as well as low-quality base calls and reads that become too short after trimming.\n",
    "\n",
    "Any idea why we would want to do this before aligning to the reference genome?\n",
    "\n",
    "<div class=\"alert alert-block alert-success\">\n",
    "\n",
    "<details>\n",
    "<summary><b>Answer</b></summary>\n",
    "\n",
    "<br>\n",
    "\n",
    "Removing any bases that were artificially added and thus were not generated from the organism’s DNA (represented by thereference genome), will improve the quality of alignment.\n",
    "\n",
    "</details>\n",
    "</div>\n",
    "\n",
    "Let's see how this is done by trimming the forward (R1) and reverse (R2) reads of sample FLT_M23 with TrimGalore! using the following command:\n"
   ]
  },
  {
   "cell_type": "code",
   "execution_count": null,
   "metadata": {
    "editable": false,
    "slideshow": {
     "slide_type": ""
    },
    "tags": []
   },
   "outputs": [],
   "source": [
    "trim_galore --gzip \\\n",
    " --cores 2 \\\n",
    " --phred33 \\\n",
    " --paired \\\n",
    " --output_dir $trimmed_fastq \\\n",
    " $raw_fastq/FLT_M23_R1_raw.fastq.gz $raw_fastq/FLT_M23_R2_raw.fastq.gz"
   ]
  },
  {
   "cell_type": "markdown",
   "metadata": {
    "editable": false,
    "slideshow": {
     "slide_type": ""
    },
    "tags": []
   },
   "source": [
    "The suffixes added to the trimmed fastq output files by TrimGalore! are not very intuitive so the GeneLab pipeline renames them as follows: "
   ]
  },
  {
   "cell_type": "code",
   "execution_count": null,
   "metadata": {
    "editable": false,
    "slideshow": {
     "slide_type": ""
    },
    "tags": []
   },
   "outputs": [],
   "source": [
    "mv $trimmed_fastq/FLT_M23_R1_raw_val_1.fq.gz $trimmed_fastq/FLT_M23_R1_trimmed.fastq.gz\n",
    "mv $trimmed_fastq/FLT_M23_R2_raw_val_2.fq.gz $trimmed_fastq/FLT_M23_R2_trimmed.fastq.gz"
   ]
  },
  {
   "cell_type": "markdown",
   "metadata": {
    "editable": false,
    "slideshow": {
     "slide_type": ""
    },
    "tags": []
   },
   "source": [
    "<div class=\"alert alert-block alert-info\">\n",
    "<b><i>Code Breakdown</i></b>\n",
    "    \n",
    "<br>\n",
    "\n",
    "\n",
    "**Parameter Definitions:**\n",
    "\n",
    "* `--gzip` – compress the output files with `gzip`\n",
    "* `--cores` – specifies the number of compute cores to use \n",
    "* `--phred33` - instructs cutadapt to use ASCII+33 quality scores as Phred scores for quality trimming\n",
    "* `--paired` - indicates paired-end reads - both reads, forward (R1) and reverse (R2) must pass length threshold or else both reads are removed (if not defined, a 20bp length threshold is applied)\n",
    "* `--output_dir` - the output directory to store the trimmed fastq and respective trimming report files\n",
    "* `$raw_fastq/${sample}_R1_raw.fastq.gz $raw_fastq/${sample}_R2_raw.fastq.gz` – the input reads are specified as a positional argument, paired-end read files are listed pairwise such that the forward reads (\\*R1_raw.fastq.gz) are immediately followed by the respective reverse reads (\\*R2_raw.fastq.gz) for each sample\n",
    "\n",
    "**Input Data:**\n",
    "- *raw.fastq.gz (raw reads)\n",
    "\n",
    "**Output Data:**\n",
    "- *trimming_report.txt (trimming report: information about how the data were trimmed/filtered)\n",
    "- *trimmed.fastq.gz (trimmed reads: remainig sequence data after quality, adapter, and read length filtering)\n",
    "\n",
    "</div>\n",
    "\n",
    "___________\n",
    "\n",
    "Let's list the output files that were generated:"
   ]
  },
  {
   "cell_type": "code",
   "execution_count": null,
   "metadata": {
    "editable": false,
    "slideshow": {
     "slide_type": ""
    },
    "tags": []
   },
   "outputs": [],
   "source": [
    "ls -1 $trimmed_fastq/"
   ]
  },
  {
   "cell_type": "markdown",
   "metadata": {
    "editable": false,
    "slideshow": {
     "slide_type": ""
    },
    "tags": []
   },
   "source": [
    "Let's view the trimming reports for both the forward (R1) and reverse (R2) read data from sample FLT_M23:"
   ]
  },
  {
   "cell_type": "code",
   "execution_count": null,
   "metadata": {
    "editable": false,
    "slideshow": {
     "slide_type": ""
    },
    "tags": []
   },
   "outputs": [],
   "source": [
    "echo \"Forward trimming report:\"\n",
    "cat $trimmed_fastq/FLT_M23_R1_raw.fastq.gz_trimming_report.txt\n",
    "echo \"\"\n",
    "echo \"Reverse trimming report:\"\n",
    "cat $trimmed_fastq/FLT_M23_R2_raw.fastq.gz_trimming_report.txt"
   ]
  },
  {
   "cell_type": "markdown",
   "metadata": {
    "editable": false,
    "slideshow": {
     "slide_type": ""
    },
    "tags": []
   },
   "source": [
    "____"
   ]
  },
  {
   "cell_type": "markdown",
   "metadata": {
    "editable": false,
    "slideshow": {
     "slide_type": ""
    },
    "tags": []
   },
   "source": [
    "**Take a look at the === Summary === section of both the forward and reverse read trimming reports and answer the following questions:**\n",
    "\n",
    "1. How many forward reads were processed? How many reverse reads?\n",
    "2. Are the total number of forward and reverse reads processed the same or different? Should these numbers be the same? Why? \n",
    "3. Were any adapters detected in the forward or reverse reads? If yes, how many forward reads contained adapters? How many reverse reads contained adapters? \n",
    "4. After adapters were trimmed from the forward and reverse reads, were any reads removed? Why?\n",
    "5. How many basepairs were removed due to poor quality in the forward reads? What about the reverse reads?\n",
    "6. After adapter trimming and quality filtering, what is the total number and percent of basepairs remaining for the forward reads? What about the reverse reads?\n",
    "7. Did the raw forward or raw reverse reads have better quality? How do you know?\n",
    "\n",
    "**Look at the bottom of the reverse read trimming report and answer the following questions:**\n",
    "\n",
    "8. After trimming and filtering, did any read pairs fail to meet the 20bp read length cutoff? If yes, how many?\n",
    "9. Why is this information only contained in the reverse read trimming report?\n",
    "\n",
    "<br>\n",
    "\n",
    "<div class=\"alert alert-block alert-success\">\n",
    "\n",
    "<details>\n",
    "<summary><b>Q1 Solution</b></summary>\n",
    "\n",
    "<br>\n",
    "\n",
    "Number of forward reads processed: 100,000\n",
    "Number of reverse reads processed: 100,000\n",
    "\n",
    "</details>\n",
    "</div>\n",
    "\n",
    "\n",
    "<div class=\"alert alert-block alert-success\">\n",
    "\n",
    "<details>\n",
    "<summary><b>Q2 Solution</b></summary>\n",
    "\n",
    "<br>\n",
    "\n",
    "The total number of forward and reverse reads processed are the same.\n",
    "\n",
    "They should be the same because the same cDNA fragment was sequenced in the forward and reverse directions.\n",
    "\n",
    "</details>\n",
    "</div>\n",
    "\n",
    "\n",
    "<div class=\"alert alert-block alert-success\">\n",
    "\n",
    "<details>\n",
    "<summary><b>Q3 Solution</b></summary>\n",
    "\n",
    "<br>\n",
    "\n",
    "Yes, adapters were detected in both the forward and reverse reads.\n",
    "Number of forward reads with adapters: 31,739 (31.7%)\n",
    "Number of reverse reads with adapters: 32,132 (32.1%)\n",
    "\n",
    "</details>\n",
    "</div>\n",
    "\n",
    "\n",
    "<div class=\"alert alert-block alert-success\">\n",
    "\n",
    "<details>\n",
    "<summary><b>Q4 Solution</b></summary>\n",
    "\n",
    "<br>\n",
    "\n",
    "No reads were removed after adapter trimming because after removing basepairs due to adapter contamination, all forward and reverse reads still contained basepairs. \n",
    "\n",
    "</details>\n",
    "</div>\n",
    "\n",
    "\n",
    "<div class=\"alert alert-block alert-success\">\n",
    "\n",
    "<details>\n",
    "<summary><b>Q5 Solution</b></summary>\n",
    "\n",
    "<br>\n",
    "\n",
    "Basepairs removed due to poor quality in the forward reads: 7,848 bp (0.1%)\n",
    "Basepairs removed due to poor quality in the reverse reads: 49,988 bp (0.5%)\n",
    "    \n",
    "</details>\n",
    "</div>\n",
    "\n",
    "\n",
    "<div class=\"alert alert-block alert-success\">\n",
    "\n",
    "<details>\n",
    "<summary><b>Q6 Solution</b></summary>\n",
    "\n",
    "<br>\n",
    "\n",
    "Total amount of basepairs remaining in the forward reads: 9,893,689 bp (98.9%)\n",
    "Total amount of basepairs remaining in the reverse reads: 9,849,322 bp (98.5%)\n",
    "    \n",
    "</details>\n",
    "</div>\n",
    "\n",
    "\n",
    "<div class=\"alert alert-block alert-success\">\n",
    "\n",
    "<details>\n",
    "<summary><b>Q7 Solution</b></summary>\n",
    "\n",
    "<br>\n",
    "\n",
    "Forward reads had better quality because fewer base pairs were removed due to adapter contamination and/or poor quality.\n",
    "> Note: Read quality can also be determined by the multiqc report of the raw fastqc data as discussed above.\n",
    "\n",
    "</details>\n",
    "</div>\n",
    "\n",
    "\n",
    "<div class=\"alert alert-block alert-success\">\n",
    "\n",
    "<details>\n",
    "<summary><b>Q8 Solution</b></summary>\n",
    "\n",
    "<br>\n",
    "\n",
    "Yes, 89 (0.09%) of read pairs failed to meet the 20bp read length cutoff. \n",
    "\n",
    "</details>\n",
    "</div>\n",
    "\n",
    "<div class=\"alert alert-block alert-success\">\n",
    "\n",
    "<details>\n",
    "<summary><b>Q9 Solution</b></summary>\n",
    "\n",
    "<br>\n",
    "\n",
    "This information is only contained in the reverse read trimming report because the number of forward and reverse reads have to be the same. So, the if the forward read of a fragment was 40bp after trimming (passing the 20bp cutoff) but the respective reverse read of that same fragment was 19bp after trimming (failing the 20bp cutoff) then both the forward and reverse read for the fragment must be removed.\n",
    "\n",
    "</details>\n",
    "</div>\n",
    "\n",
    "\n",
    "<br>\n",
    "\n",
    "\n",
    "<div class=\"alert alert-block alert-info\">\n",
    "<b>Note:</b><br>\n",
    "    \n",
    "To preserve compute resources, raw sequence data for all samples have been trimmed with these parameters and the resulting trimmed reads will be used for the following steps.\n",
    "\n",
    "</div>\n",
    "\n",
    "<br>\n",
    "\n",
    "---\n",
    "\n",
    "<br>"
   ]
  },
  {
   "cell_type": "markdown",
   "metadata": {
    "editable": false,
    "slideshow": {
     "slide_type": ""
    },
    "tags": []
   },
   "source": [
    "<a class=\"anchor\" id=\"trimmedfastqc\"></a>\n",
    "\n",
    "### 2b. Trimmed Data QC with FastQC\n",
    "\n",
    "Now that we've trimmed/filtered our raw sequence data, we will assess the quality of the trimmed sequence data using [FastQC](https://www.bioinformatics.babraham.ac.uk/projects/fastqc/) to evaluate how effective trimming was at improving sequence quality.\n",
    "\n",
    "Let's run FastQC on the trimmed reads of our FLT_M23 sample using the following command:"
   ]
  },
  {
   "cell_type": "code",
   "execution_count": null,
   "metadata": {
    "editable": false,
    "slideshow": {
     "slide_type": ""
    },
    "tags": []
   },
   "outputs": [],
   "source": [
    "fastqc -o $trimmed_fastqc $trimmed_fastq/*trimmed.fastq.gz"
   ]
  },
  {
   "cell_type": "markdown",
   "metadata": {
    "editable": false,
    "slideshow": {
     "slide_type": ""
    },
    "tags": []
   },
   "source": [
    "<div class=\"alert alert-block alert-info\">\n",
    "<b><i>Code Breakdown</i></b>\n",
    "    \n",
    "<br>\n",
    "\n",
    "**Parameter Definitions:**\n",
    "\n",
    "* `-o` – the output directory to store the FastQC results\n",
    "* `*trimmed.fastq.gz` – the input reads are specified as a positional argument, and can be given all at once with wildcards, or as individual arguments with spaces in between them\n",
    "\n",
    "**Input Data:**\n",
    "- *trimmed.fastq.gz (trimmed reads)\n",
    "\n",
    "**Output Data:**\n",
    "- *fastqc.html (FastQC report: a webpage file containing graphical representations of the trimmed sequence quality)\n",
    "- *fastqc.zip (FastQC data: a compressed directory containing the quality reports of all trimmed sequences assessed)\n",
    "\n",
    "</div>\n",
    "\n",
    "---\n",
    "\n",
    "Let's list the FastQC output files that were generated:"
   ]
  },
  {
   "cell_type": "code",
   "execution_count": null,
   "metadata": {
    "editable": false,
    "slideshow": {
     "slide_type": ""
    },
    "tags": []
   },
   "outputs": [],
   "source": [
    "ls -1 $trimmed_fastqc/FLT_M23*"
   ]
  },
  {
   "cell_type": "markdown",
   "metadata": {
    "editable": false,
    "slideshow": {
     "slide_type": ""
    },
    "tags": []
   },
   "source": [
    "<br>\n",
    "\n",
    "You can use the paths indicated above to navigate to the FastQC outputs for sample FLT_M23 on the left side panel. Then double click on the \"FLT_M23_R1_trimmed_fastqc.html\" or \"FLT_M23_R2_trimmed_fastqc.html\" files to open up the FastQC reports.\n",
    "\n",
    "<div class=\"alert alert-block alert-info\">\n",
    "<b>Note:</b><br>\n",
    "    \n",
    "To preserve compute resources, the FastQC data and reports have been generated for the forward (R1) and reverse (R2) trimmed fastq files of all OSD-104 FLT and GC samples.\n",
    "\n",
    "</div>\n",
    "\n",
    "---\n",
    " "
   ]
  },
  {
   "cell_type": "markdown",
   "metadata": {
    "editable": false,
    "slideshow": {
     "slide_type": ""
    },
    "tags": []
   },
   "source": [
    "<a class=\"anchor\" id=\"trimmedmultiqc\"></a>\n",
    "\n",
    "### 2c. Compile Trimmed Data QC with MultiQC\n",
    "\n",
    "Rather than viewing the FastQC reports of each trimmed fastq file for all 12 samples individually, we'll again use the [MultiQC](https://multiqc.info/) program but this time to compile the trimmed FastQC data from all samples and generate a single report (and associated data files). This will allow us to view the trimmed sequence data quality of all samples at once and compare it to the raw sequence data quality. \n",
    "\n",
    "Let's compile the trimmed FastQC data from our 12 samples using MultiQC by running the following command:"
   ]
  },
  {
   "cell_type": "code",
   "execution_count": null,
   "metadata": {
    "editable": false,
    "slideshow": {
     "slide_type": ""
    },
    "tags": []
   },
   "outputs": [],
   "source": [
    "multiqc --interactive -n trimmed_multiqc -o $trimmed_multiqc $trimmed_fastqc/"
   ]
  },
  {
   "cell_type": "markdown",
   "metadata": {
    "editable": false,
    "slideshow": {
     "slide_type": ""
    },
    "tags": []
   },
   "source": [
    "<div class=\"alert alert-block alert-info\">\n",
    "<b><i>Code Breakdown</i></b>\n",
    "    \n",
    "<br>\n",
    "\n",
    "**Parameter Definitions:**\n",
    "\n",
    "* `--interactive` – force reports to use interactive plots, see the MultiQC documentation [here](https://multiqc.info/docs/#large-sample-numbers) for additional info\n",
    "* `-n` – prefix name for the output files\n",
    "* `-o` – the output directory to store the MultiQC results\n",
    "* `$trimmed_fastqc/` – the directory holding the trimmed FastQC data from each sample, provided as a positional argument\n",
    "\n",
    "**Input Data:**\n",
    "- *fastqc.zip (trimmed FastQC data)\n",
    "\n",
    "**Output Data:**\n",
    "- trimmed_multiqc_data (directory containing the compiled trimmed FastQC data from each sample, used to create the MultiQC report)\n",
    "- trimmed_multiqc.html (multiqc report: an interactive webpage file containing graphical representations of the compiled trimmed sequence quality)\n",
    "\n",
    "</div>\n",
    "\n",
    "___________\n",
    "\n",
    "The multiQC job is complete when you see the \"MultiQC complete\" statement at the end of the standard output. Check that the number of reports found matches what you expect.\n",
    "> Note: For paired-end data, we expect a report for both the forward (R1) and reverse (R2) reads of each sample. Since we have 12 paired-end samples, MultiQC should detect 24 FastQC reports.\n",
    "\n",
    "Let's list the output files that were generated:"
   ]
  },
  {
   "cell_type": "code",
   "execution_count": null,
   "metadata": {
    "editable": false,
    "slideshow": {
     "slide_type": ""
    },
    "tags": []
   },
   "outputs": [],
   "source": [
    "ls -1 $trimmed_multiqc/*"
   ]
  },
  {
   "cell_type": "markdown",
   "metadata": {
    "editable": false,
    "slideshow": {
     "slide_type": ""
    },
    "tags": []
   },
   "source": [
    "Use the path indicated above to navigate to the MultiQC report generated from the trimmed FastQC data on the left side panel. Then double click on the \"trimmed_multiqc.html\" file to open up the compiled FastQC reports from all 12 samples.\n",
    "\n",
    "<div class=\"alert alert-block alert-info\">\n",
    "<b>Note:</b><br>\n",
    "    \n",
    "Click [here](https://multiqc.info/examples/rna-seq/multiqc_report.html#fastqc) for an example and description of the MultiQC plots derived from FastQC data\n",
    "\n",
    "</div>\n",
    "\n",
    "<div class=\"alert alert-block alert-warning\">\n",
    "\n",
    "Be sure to click the \"Trust HTML\" button in the top left corner of the MultiQC report to be able to see all the plots.\n",
    "\n",
    "If the plots are still not visible, make sure JavaScript is enabled on the web-browser you are using. See [above](#Enable-JavaScript) for instructions to enable JavaScript on common web-browsers.\n",
    "\n",
    "</div>"
   ]
  },
  {
   "cell_type": "markdown",
   "metadata": {
    "editable": false,
    "slideshow": {
     "slide_type": ""
    },
    "tags": []
   },
   "source": [
    "___\n",
    "\n",
    "**Take a look at the multiQC report of the trimmed fastQC data above and answer the following questions:**\n",
    "\n",
    "1. How many reads are there in the GC_M33 sample after trimming? What about the FLT_M24 sample?  (Hint: See *M Seqs* under \"General Statistics\")\n",
    "2. What is the sequencing depth range among samples?  \n",
    "3. What do you notice about the quality of the trimmed sequence data compared with the raw?\n",
    "4. Do you still see adapters detected?\n",
    "5. Do you think we're ready to align the trimmed reads to the reference genome now? Why or why not?\n",
    "\n",
    "<br>\n",
    "\n",
    "<div class=\"alert alert-block alert-success\">\n",
    "\n",
    "<details>\n",
    "<summary><b>Q1 Solution</b></summary>\n",
    "\n",
    "<br>\n",
    "\n",
    "Number of reads in GC_M33 after trimming: 99,858 \n",
    "Number of reads in FLT_M24 after trimming: 99,879 \n",
    "> _Note: Since this is a truncated dataset and the \"M Seqs\" column is rounded to the neareast tenths place, all samples in this dataset will appear to have the same read depth (0.1M). However, you can add up the number of unique + dupe sequences in the \"Sequence Counts\" section for each sample to get these exact values. Alternatively, you can look at the individual fastqc HTML reaports for each sample in the `$trimmed_fastqc` location._\n",
    "    \n",
    "</details>\n",
    "</div>\n",
    "\n",
    "\n",
    "<div class=\"alert alert-block alert-success\">\n",
    "\n",
    "<details>\n",
    "<summary><b>Q2 Solution</b></summary>\n",
    "\n",
    "<br>\n",
    "\n",
    "99,850 (FLT_M26) - 99,916 (FLT_M28)\n",
    "    \n",
    "</details>\n",
    "</div>\n",
    "\n",
    "\n",
    "<div class=\"alert alert-block alert-success\">\n",
    "\n",
    "<details>\n",
    "<summary><b>Q3 Solution</b></summary>\n",
    "\n",
    "<br>\n",
    "\n",
    "The trimmed sequence data is better quality than the raw data.\n",
    "\n",
    "</details>\n",
    "</div>\n",
    "\n",
    "\n",
    "<div class=\"alert alert-block alert-success\">\n",
    "\n",
    "<details>\n",
    "<summary><b>Q4 Solution</b></summary>\n",
    "\n",
    "<br>\n",
    "\n",
    "No, adapters are no longer detected. \n",
    "\n",
    "</details>\n",
    "</div>\n",
    "\n",
    "\n",
    "<div class=\"alert alert-block alert-success\">\n",
    "\n",
    "<details>\n",
    "<summary><b>Q5 Solution</b></summary>\n",
    "\n",
    "<br>\n",
    "\n",
    "Yes, because the trimmed reads are high quality and do not contain any detectable adapters. \n",
    "\n",
    "</details>\n",
    "</div>\n",
    "\n",
    "\n",
    "<br>\n",
    "\n",
    "---"
   ]
  },
  {
   "cell_type": "markdown",
   "metadata": {
    "editable": false,
    "slideshow": {
     "slide_type": ""
    },
    "tags": []
   },
   "source": [
    "<a class=\"anchor\" id=\"starindex\"></a>\n",
    "\n",
    "## 3. Build a STAR Index for the Reference Genome\n",
    "\n",
    "Now that our RNA sequence data is of high quality, our next step is to identify which gene(s) each RNA sequence came from. To do this, we will align the reads back to the reference genome of the organism from which the samples were derived using the [STAR (Spliced Transcripts Alignment to a Reference)](https://github.com/alexdobin/STAR) aligner. \n",
    "\n",
    "Since our samples came from the soleus muscle of mice (scientific name _Mus musculus_), we will align the trimmed reads to the _Mus musculus_ reference genome (GRCm39), file `Mus_musculus.GRCm39.dna.primary_assembly.fa` from the ensembl database found [here](http://ftp.ensembl.org/pub/release-112/fasta/mus_musculus/dna/). In addition to the reference genome, we will also need to provide STAR with information about the gene features of all annotated genes in the reference genome. (_Note: Annotated genes are genes whose genomic coordinates and function, i.e. where they are and what they do, are known._) All of the gene feature information STAR needs is provided in the `Mus_musculus.GRCm39.112.gtf` gene transfer format (GTF) file associated with the _Mus musculus_ reference genome (GRCm39) from the ensembl database found [here](http://ftp.ensembl.org/pub/release-112/gtf/mus_musculus/).\n",
    "\n",
    "> For more information about the ensembl gene transfer format (GTF) and gene feature format (GFF) files, click [here](http://m.ensembl.org/info/website/upload/gff.html)\n",
    "\n",
    "Before we can align our trimmed reads to the _Mus musculus_ reference genome, the STAR program needs to organize all the information provided in the genome and GTF files to be able to accurately assign each read to the gene from which it came. To do this, we will first run STAR in the `genomeGenerate` mode, which will create a STAR index containing the genome reference and gene feature information in the STAR format. \n",
    "\n",
    "<div class=\"alert alert-block alert-info\">\n",
    "<b>Note:</b><br>\n",
    "\n",
    "Creating a STAR index requires a lot of compute and storage resources and can take a while to complete, so we did it for you. You're welcome :0)\n",
    "\n",
    "</div>\n",
    "\n",
    "The following command was used to generate the STAR index for _Mus musculus_:\n",
    "\n",
    "```bash\n",
    "STAR --runThreadN 16 \\\n",
    " --runMode genomeGenerate \\\n",
    " --limitGenomeGenerateRAM 70000000000 \\\n",
    " --genomeDir STAR_index \\\n",
    " --genomeFastaFiles Mus_musculus.GRCm39.dna.primary_assembly.fa \\\n",
    " --sjdbGTFfile $genome_gtf/Mus_musculus.GRCm39.112.gtf \\\n",
    " --sjdbOverhang 99\n",
    "```\n"
   ]
  },
  {
   "cell_type": "markdown",
   "metadata": {
    "editable": false,
    "slideshow": {
     "slide_type": ""
    },
    "tags": []
   },
   "source": [
    "<div class=\"alert alert-block alert-info\">\n",
    "<b><i>Code Breakdown</i></b>\n",
    "    \n",
    "<br>\n",
    "\n",
    "**Parameter Definitions:**\n",
    "\n",
    "* `--runThreadN` – number of threads available to create the STAR indexed reference\n",
    "* `--runMode` - instructs STAR to run genome indices generation job to create the STAR indexed reference\n",
    "* `--limitGenomeGenerateRAM` - maximum RAM available (in bytes) to generate STAR reference\n",
    "  > _Note: At least 35GB are needed for mouse and the example above shows 70GB_\n",
    "* `--genomeDir` - specifies the directory where the STAR indexed reference will be stored\n",
    "  > _Note: At least 100GB of available disk space is required for mammalian genomes_\n",
    "* `--genomeFastaFiles` - specifies the uncompressed fasta file containing the genome reference sequences\n",
    "* `--sjdbGTFfile` – specifies the uncompressed file containing annotated transcripts in the standard GTF format\n",
    "* `--sjdbOverhang` - indicates the length of the genomic sequence around the annotated junction to be used in constructing the splice junctions database\n",
    "  > _Note: The length should be one less than the length of the (longest) read_\n",
    "\n",
    "**Input Data:**\n",
    "- *.fasta (reference genome sequence)\n",
    "- *.gtf (reference genome transfer feature file)\n",
    "\n",
    "**Output Data:**\n",
    "\n",
    "STAR indexed genome reference, which consists of the following files:\n",
    "- chrLength.txt\n",
    "- chrNameLength.txt\n",
    "- chrName.txt\n",
    "- chrStart.txt\n",
    "- exonGeTrInfo.tab\n",
    "- exonInfo.tab\n",
    "- geneInfo.tab\n",
    "- Genome\n",
    "- genomeParameters.txt\n",
    "- SA\n",
    "- SAindex\n",
    "- sjdbInfo.txt\n",
    "- sjdbList.fromGTF.out.tab\n",
    "- sjdbList.out.tab\n",
    "- transcriptInfo.tab\n",
    "\n",
    "</div>\n",
    "\n",
    "<br>\n",
    "\n",
    "---"
   ]
  },
  {
   "cell_type": "markdown",
   "metadata": {
    "editable": false,
    "slideshow": {
     "slide_type": ""
    },
    "tags": []
   },
   "source": [
    "<a class=\"anchor\" id=\"star\"></a>\n",
    "\n",
    "## 4. Align Reads to the Reference Genome\n",
    "\n",
    "<a class=\"anchor\" id=\"staralign\"></a>\n",
    "\n",
    "### 4a. Align Trimmed Sequence Data with STAR\n",
    "\n",
    "We are now ready to align the trimmed reads to the mouse reference genome. This step of determining the genomic location (and ultimately, gene) from which each short sequence was derived is quite challenging. Any ideas why that is?\n",
    "\n",
    "\n",
    "<div class=\"alert alert-block alert-success\">\n",
    "\n",
    "<details>\n",
    "<summary><b>Answer</b></summary>\n",
    "\n",
    "<br>\n",
    "\n",
    "- Reads are very short relative to transcripts, and some genomes (including mouse and human) can be quite large and contain lots of non-unique sequences such as pseudogenes, which makes mapping difficult. \n",
    "- Aligners also have to cope with mismatches and indels (insertions and deletions) caused by genomic variation and sequencing errors. \n",
    "- Many organisms have introns in their genes and therefore, reads align non-contiguously (not touching). Placing spliced reads across introns and determining exon-intron boundaries is difficult, especially considering that introns can be thousands of basepairs long.\n",
    "    \n",
    "</details>\n",
    "</div>\n",
    "\n",
    "Spliced aligners, including [STAR](https://github.com/alexdobin/STAR), were developed to more accurately identify non-contiguously aligned reads. Additionally, the STAR spliced alignment program is able to perform an unbiased search for splice junctions without needing any prior information on location, sequence signals, or intron length. It is also capable of aligning a read with multiple splice junctions, indels, and mismatches and those with low-quality ends.\n",
    "\n",
    "In order to improve the detection and quantification of splice sites, we will run STAR in the “two-pass mode”. Here, splice sites are detected in the initial mapping to the reference and used to build a new reference that includes these splice sites. Reads are then re-mapped to this dynamically generated reference to improve the quantification of splice isoforms.\n",
    "\n",
    "<div class=\"alert alert-block alert-info\">\n",
    "<b>Note:</b><br>\n",
    "\n",
    "Aligning trimmed reads with STAR requires a lot of compute and storage resources and can take a while to complete, so we did it for you. You're welcome :0)\n",
    "\n",
    "</div>\n"
   ]
  },
  {
   "cell_type": "markdown",
   "metadata": {
    "editable": false,
    "slideshow": {
     "slide_type": ""
    },
    "tags": []
   },
   "source": [
    "The following `STAR` command was used to align trimmed reads for all 12 samples to the _Mus musculus_ reference: \n",
    "\n",
    "```bash\n",
    "STAR --twopassMode Basic \\\n",
    " --limitBAMsortRAM 55000000000 \\\n",
    " --genomeDir STAR_index \\\n",
    " --outSAMunmapped Within \\\n",
    " --outFilterType BySJout \\\n",
    " --outSAMattributes NH HI AS NM MD MC \\\n",
    " --outFilterMultimapNmax 20 \\\n",
    " --outFilterMismatchNmax 999 \\\n",
    " --outFilterMismatchNoverReadLmax 0.04 \\\n",
    " --alignIntronMin 20 \\\n",
    " --alignIntronMax 1000000 \\\n",
    " --alignMatesGapMax 1000000 \\\n",
    " --alignSJoverhangMin 8 \\\n",
    " --alignSJDBoverhangMin 1 \\\n",
    " --sjdbScore 1 \\\n",
    " --readFilesCommand zcat \\\n",
    " --runThreadN 18 \\\n",
    " --outSAMtype BAM SortedByCoordinate \\\n",
    " --quantMode TranscriptomeSAM GeneCounts \\\n",
    " --outSAMheaderHD @HD VN:1.4 SO:coordinate \\\n",
    " --outFileNamePrefix $STAR_output/${sample}/${sample}_ \\\n",
    " --readFilesIn $trimmed_fastq/${sample}_R1_trimmed.fastq.gz $trimmed_fastq/${sample}_R2_trimmed.fastq.gz\n",
    "```\n",
    "\n",
    "<div class=\"alert alert-block alert-info\">\n",
    "<b><i>Code Breakdown</i></b>\n",
    "    \n",
    "<br>\n",
    "\n",
    "**Parameter Definitions:**\n",
    "\n",
    "* `--twopassMode` – specifies 2-pass mapping mode; the `Basic` option instructs STAR to perform the 1st pass mapping, then automatically extract junctions, insert them into the genome index, and re-map all reads in the 2nd mapping pass\n",
    "* `--limitBAMsortRAM` - maximum RAM available (in bytes) to sort the bam files, the example above indicates 55GB\n",
    "* `--genomeDir` - specifies the path to the directory where the STAR indexed reference is stored\n",
    "* `--outSAMunmapped` - specifies output of unmapped reads in the sam format; the `Within` option instructs STAR to output the unmapped reads within the main sam file\n",
    "* `--outFilterType` - specifies the type of filtering; the `BySJout` option instructs STAR to keep only those reads that contain junctions that passed filtering in the SJ.out.tab output file\n",
    "* `--outSAMattributes` - list of desired sam attributes in the order desired for the output sam file\n",
    "  > _Note: SAM attribute descriptions can be found [here](https://samtools.github.io/hts-specs/SAMtags.pdf)_\n",
    "* `--outFilterMultimapNmax` – specifies the maximum number of loci the read is allowed to map to; all alignments will be output only if the read maps to no more loci than this value\n",
    "* `--outFilterMismatchNmax` - maximum number of mismatches allowed to be included in the alignment output\n",
    "* `--outFilterMismatchNoverReadLmax` - ratio of mismatches to read length allowed to be included in the alignment output; the `0.04` value indicates that up to 4 mismatches are allowed per 100 bases\n",
    "* `--alignIntronMin` - minimum intron size; a genomic gap is considered an intron if its length is equal to or greater than this value, otherwise it is considered a deletion\n",
    "* `--alignIntronMax` - maximum intron size\n",
    "* `--alignMatesGapMax` - maximum genomic distance (in bases) between two mates of paired-end reads\n",
    "  > _Note: This option should be removed for single-end reads_\n",
    "* `--alignSJoverhangMin` - minimum overhang (i.e. block size) for unannotated spliced alignments\n",
    "* `--alignSJDBoverhangMin` - minimum overhang (i.e. block size) for annotated spliced alignments\n",
    "* `--sjdbScore` - additional alignment score for alignments that cross database junctions\n",
    "* `--readFilesCommand` - specifies command needed to interpret input files; the `zcat` option indicates input files are compressed with gzip and zcat will be used to uncompress the gzipped input files\n",
    "* `--runThreadN` - indicates the number of threads to be used for STAR alignment \n",
    "* `--outSAMtype` - specifies desired output format; the `BAM SortedByCoordinate` options specify that the output file will be sorted by coordinate and be in the bam format\n",
    "* `--quantMode` - specifies the type(s) of quantification desired; the `TranscriptomeSAM` option instructs STAR to output a separate sam/bam file containing alignments to the transcriptome and the `GeneCounts` option instructs STAR to output a tab delimited file containing the number of reads per gene\n",
    "* `--outSAMheaderHD` - indicates a header line for the sam/bam file\n",
    "* `--outFileNamePrefix` - specifies the path to and prefix for the output file names; for GeneLab the prefix is the sample id\n",
    "* `--readFilesIn` - path to input read 1 (forward read) and read 2 (reverse read); for paired-end reads, read 1 and read 2 should be separated by a space; for single-end reads only read 1 should be indicated \n",
    "\n",
    "\n",
    "**Input Data:**\n",
    "- STAR indexed reference genome (output from [Step 3](#3.-Build-a-STAR-Index-for-the-Reference-Genome)) \n",
    "- *trimmed.fastq.gz (trimmed reads, output from [Step 2a](#2a.-Trim-and-Filter-Raw-Sequence-Data-with-Trim-Galore!))\n",
    "\n",
    "**Output Data:**\n",
    "\n",
    "> _Note: Detailed descriptions of all STAR output files can be found in the [STAR manual](https://github.com/alexdobin/STAR/blob/master/doc/STARmanual.pdf) under the \"Output files\" section._\n",
    "\n",
    "- *Aligned.sortedByCoord.out.bam (binary, alignment map containing sorted reads mapping to genome)\n",
    "- *Aligned.toTranscriptome.out.bam (binary, alignment map containing sorted reads mapping to transcriptome)\n",
    "- *Log.final.out (log file conting a summary of the mapping info/stats such as # reads mapped, etc)\n",
    "- *ReadsPerGene.out.tab (tab delimitated file containing STAR read counts per gene with 4 columns that correspond to different strandedness options: column 1 = gene ID, column 2 = counts for unstranded RNAseq, column 3 = counts for 1st read strand aligned with RNA, column 4 = counts for 2nd read strand aligned with RNA)\n",
    "- *Log.out (log file contining detailed information about the mapping run, useful for troubleshooting)\n",
    "- *Log.progress.out (file containing the job progress statistics that is updated every minute during the mapping run)\n",
    "- *SJ.out.tab (tab-deliminted file containing identified splice junctions and respective count data)\n",
    "- *_STARgenome (directory containing the extracted junctions from the 1st pass mapping that was inserted into the genome index)\n",
    "  - sjdbInfo.txt\n",
    "  - sjdbList.out.tab\n",
    "- *_STARpass1 (directory containing splice junction and summary mapping info/stats from the 1st pass mapping)\n",
    "  - Log.final.out\n",
    "  - SJ.out.tab\n",
    "- *_STARtmp (directory containing subdirectories that are empty – this was the location for temp files that were automatically removed after successful completion)\n",
    "  - BAMsort\n",
    " \n",
    "</div>"
   ]
  },
  {
   "cell_type": "markdown",
   "metadata": {
    "editable": false,
    "slideshow": {
     "slide_type": ""
    },
    "tags": []
   },
   "source": [
    "___"
   ]
  },
  {
   "cell_type": "markdown",
   "metadata": {
    "editable": false,
    "slideshow": {
     "slide_type": ""
    },
    "tags": []
   },
   "source": [
    "Let's take a look at the first few lines of the *Aligned.toTranscriptome.out.bam output file from sample FLT_M23 using the following command:\n",
    "\n",
    "<div class=\"alert alert-block alert-info\">\n",
    "<b>Note:</b><br>\n",
    "\n",
    "BAM files are compressed, binary versions of Sequence Alignment/Map (SAM) files and need to be uncompressed using `samtools view` to view the file contents.\n",
    "\n",
    "</div>"
   ]
  },
  {
   "cell_type": "code",
   "execution_count": null,
   "metadata": {
    "editable": false,
    "slideshow": {
     "slide_type": ""
    },
    "tags": []
   },
   "outputs": [],
   "source": [
    "samtools view $STAR_output/FLT_M23/FLT_M23_Aligned.toTranscriptome.out.bam | head"
   ]
  },
  {
   "cell_type": "markdown",
   "metadata": {
    "editable": false,
    "slideshow": {
     "slide_type": ""
    },
    "tags": []
   },
   "source": [
    "<div class=\"alert alert-block alert-info\">\n",
    "<b>SAM file content</b><br>\n",
    "\n",
    "All BAM/SAM files contain at least the following 11 tab-separated fields in order of column location:\n",
    "\n",
    "1) **QNAME** - Query template name: Info about the sequencing run that generated the read, found in line 1 of the trimmed fastq file as described in [Step 1a](#1a.-Raw-Data-QC-with-FastQC) above. \n",
    "\n",
    "2) **FLAG** - bitwise FLAG: Information about the alignment encoded in bits. To easily decode the SAM FLAG, type it into the Broad Institute's SAM FLAG decoder [here](https://broadinstitute.github.io/picard/explain-flags.html)\n",
    "\n",
    "3) **RNAME** - Reference sequence name: Name of the reference sequence the read aligned to (this will be the ensembl transcript ID in the transcript-aligned BAM file as shown above, and the chromosome number in the genome-aligned BAM file)\n",
    "\n",
    "4) **POS** - 1-based leftmost mapping position: The position on the reference genome in which the left most base of the read aligns.\n",
    "\n",
    "5) **MAPQ** - Mapping quality: Equality to the -10log(base10) of the probability that the mapping position is wrong; a value of 255 indicates that the mapping quality is not available.\n",
    "\n",
    "6) **CIGAR** - CIGAR string: Aligned read length and associated operation, which encodes information about the alignment relative to the reference (i.e. match/mismatch, insertion/deletion).\n",
    "\n",
    "7) **RNEXT** - Reference name of the mate/next read: Reference sequence name of the next aligned read in the template, if it's the same, this is represented with an equal (=) sign.\n",
    "\n",
    "8) **PNEXT** - Position of the mate/next read: 1-based position of the next aligned read in the template.\n",
    "\n",
    "9) **TLEN** - Observed template length: Length from the leftmost position of read 1 to the rightmost position of read 2 for aligned paired-end sequence data.\n",
    "\n",
    "10) **SEQ** - Segment sequence: Sequence of the aligned trimmed read, found in line 2 of the trimmed fastq file as described in [Step 1a](#1a.-Raw-Data-QC-with-FastQC) above.\n",
    "\n",
    "11) **QUAL** - ASCII of Phred-scaled base quality +33: Base call quality scores, found in line 4 of the trimmed fastq file as described in [Step 1a](#1a.-Raw-Data-QC-with-FastQC) above.\n",
    "\n",
    "12+) Additional SAM attributes that were added with the `--outSAMattributes` option in the STAR alignment command above.\n",
    "\n",
    "> _Detailed descriptions of the Sequence Alignment/Map (SAM) format specification can be found [here](https://samtools.github.io/hts-specs/SAMv1.pdf)._\n",
    "\n",
    "</div>\n",
    "\n",
    "**Now that you know what the fields mean, look at the BAM file above and answer the following questions:** \n",
    "\n",
    "1. How many transcripts are represented in the BAM file? How do you know?\n",
    "2. How many read pairs are shown? How do you know?\n",
    "3. How many reads align in the same orientation relative to the reference? What about in the opposite orientation? How to you know? \n",
    "4. What are the min and max template length shown? How do you know?\n",
    "\n",
    "<br>\n",
    "\n",
    "<div class=\"alert alert-block alert-success\">\n",
    "\n",
    "<details>\n",
    "<summary><b>Q1 Solution</b></summary>\n",
    "\n",
    "<br>\n",
    "\n",
    "There are 5 transcripts represented based on the number of unique referece sequence names (RNAME) displayed:\n",
    "\n",
    "ENSMUST00000029076\n",
    "ENSMUST00000034453\n",
    "ENSMUST00000107038\n",
    "ENSMUST00000175751\n",
    "ENSMUST00000045243\n",
    "\n",
    "</details>\n",
    "</div>\n",
    "\n",
    "\n",
    "<div class=\"alert alert-block alert-success\">\n",
    "\n",
    "<details>\n",
    "<summary><b>Q2 Solution</b></summary>\n",
    "\n",
    "<br>\n",
    "\n",
    "3 read pairs are shown. There's a unique set of sequences (mate pairs) for the first two transcripts but the same set of sequences (mate pairs) for the last three transcripts.\n",
    "    \n",
    "</details>\n",
    "</div>\n",
    "\n",
    "\n",
    "<div class=\"alert alert-block alert-success\">\n",
    "\n",
    "<details>\n",
    "<summary><b>Q3 Solution</b></summary>\n",
    "\n",
    "<br>\n",
    "\n",
    "5 reads align in the same orientation relative to the reference (positive TLEN value).\n",
    "5 reads align in the opposite orientation relative to the reference (negative TLEN value).\n",
    "\n",
    "</details>\n",
    "</div>\n",
    "\n",
    "\n",
    "<div class=\"alert alert-block alert-success\">\n",
    "\n",
    "<details>\n",
    "<summary><b>Q4 Solution</b></summary>\n",
    "\n",
    "<br>\n",
    "\n",
    "Min template length shown: 138 bases\n",
    "Max template length shown: 264 bases\n",
    "\n",
    "This is known by looking at the TLEN column.\n",
    "\n",
    "</details>\n",
    "</div>\n",
    "\n",
    "\n",
    "<br>\n",
    "\n",
    "---\n",
    "\n",
    "Now let's take a look at the \\*Log.final.out file to assess the trimmed read alignment in sample FLT_M23 by running the following command: "
   ]
  },
  {
   "cell_type": "code",
   "execution_count": null,
   "metadata": {
    "editable": false,
    "slideshow": {
     "slide_type": ""
    },
    "tags": []
   },
   "outputs": [],
   "source": [
    "cat $STAR_output/FLT_M23/FLT_M23_Log.final.out"
   ]
  },
  {
   "cell_type": "markdown",
   "metadata": {
    "editable": false,
    "slideshow": {
     "slide_type": ""
    },
    "tags": []
   },
   "source": [
    "**Use the alignment log file above to answer the following questions:**\n",
    "\n",
    "1. How many reads mapped to a unique location on the reference genome?\n",
    "2. How many reads mapped to multiple locations on the reference genome?\n",
    "3. Were any splice regions identified? If so, how many in total?\n",
    "4. How many of the spliced regions were annotated? How many were non-canonical?\n",
    "\n",
    "<br>\n",
    "\n",
    "<div class=\"alert alert-block alert-success\">\n",
    "\n",
    "<details>\n",
    "<summary><b>Q1 Solution</b></summary>\n",
    "\n",
    "<br>\n",
    "\n",
    "There are 76,999 (77.07%) uniquely mapped reads\n",
    "\n",
    "</details>\n",
    "</div>\n",
    "\n",
    "\n",
    "<div class=\"alert alert-block alert-success\">\n",
    "\n",
    "<details>\n",
    "<summary><b>Q2 Solution</b></summary>\n",
    "\n",
    "<br>\n",
    "\n",
    "There are 11,359 (11.37%) multi-mapped reads.\n",
    "> _Note: The are also an additional 103 (0.10%) multi-mapped reads, but they map to more loci than the threshold, defined by the `--outFilterMultimapNmax` parameter in the `STAR` command above, allows._\n",
    "    \n",
    "</details>\n",
    "</div>\n",
    "\n",
    "\n",
    "<div class=\"alert alert-block alert-success\">\n",
    "\n",
    "<details>\n",
    "<summary><b>Q3 Solution</b></summary>\n",
    "\n",
    "<br>\n",
    "\n",
    "Yes, 54,969 total spliced regions were identified.\n",
    "\n",
    "</details>\n",
    "</div>\n",
    "\n",
    "\n",
    "<div class=\"alert alert-block alert-success\">\n",
    "\n",
    "<details>\n",
    "<summary><b>Q4 Solution</b></summary>\n",
    "\n",
    "<br>\n",
    "\n",
    "Number of annotated spliced regions: 54,969\n",
    "Number of non-canonical spliced regions: 11\n",
    "\n",
    "</details>\n",
    "</div>\n",
    "\n",
    "\n",
    "<br>\n",
    "\n",
    "---\n"
   ]
  },
  {
   "cell_type": "markdown",
   "metadata": {
    "editable": false,
    "slideshow": {
     "slide_type": ""
    },
    "tags": []
   },
   "source": [
    "<a class=\"anchor\" id=\"alignmultiqc\"></a>\n",
    "\n",
    "### 4b. Compile Alignment Log Files with MultiQC\n",
    "\n",
    "Rather than viewing the Log.final.out file for all 12 aligned samples individually, we'll again use the [MultiQC](https://multiqc.info/) program to compile the summary alignment info/stats from all samples and generate a single report (and associated data files). This will allow us to view the alignment statistics of all samples at once. \n",
    "\n",
    "Let's compile the data in the \\*Log.final.out files from our 12 samples using MultiQC by running the following command:"
   ]
  },
  {
   "cell_type": "code",
   "execution_count": null,
   "metadata": {
    "editable": false,
    "slideshow": {
     "slide_type": ""
    },
    "tags": []
   },
   "outputs": [],
   "source": [
    "multiqc --interactive -n align_multiqc -o $aligned_multiqc $STAR_logs/"
   ]
  },
  {
   "cell_type": "markdown",
   "metadata": {
    "editable": false,
    "slideshow": {
     "slide_type": ""
    },
    "tags": []
   },
   "source": [
    "<div class=\"alert alert-block alert-info\">\n",
    "<b><i>Code Breakdown</i></b>\n",
    "    \n",
    "<br>\n",
    "\n",
    "**Parameter Definitions:**\n",
    "\n",
    "* `--interactive` – force reports to use interactive plots, see the MultiQC documentation [here](https://multiqc.info/docs/#large-sample-numbers) for additional info\n",
    "* `-n` – prefix name for the output files\n",
    "* `-o` – the output directory to store the MultiQC results\n",
    "* `$STAR_logs/` – the directory holding the summary alignment info/stats data from each sample, provided as a positional argument\n",
    "\n",
    "**Input Data:**\n",
    "- *Log.final.out (summary alignment info/stats data)\n",
    "\n",
    "**Output Data:**\n",
    "- align_multiqc_data (directory containing the compiled summary alignment info/stats data from each sample, used to create the MultiQC report)\n",
    "- align_multiqc.html (multiqc report: an interactive webpage file containing graphical representations of the compiled alignment info/stats data)\n",
    "\n",
    "</div>\n",
    "\n",
    "___________\n",
    "\n",
    "The multiQC job is complete when you see the \"MultiQC complete\" statement at the end of the standard output. Check that the number of reports found matches what you expect.\n",
    "> Note: There is only one *Log.final.out file generated per sample (for paired- or single-end data), so we expect one report per sample. Since we have 12 samples, MultiQC should detect 12 STAR reports.\n",
    "\n",
    "Let's list the output files that were generated:\n"
   ]
  },
  {
   "cell_type": "code",
   "execution_count": null,
   "metadata": {
    "editable": false,
    "slideshow": {
     "slide_type": ""
    },
    "tags": []
   },
   "outputs": [],
   "source": [
    "ls -1 $aligned_multiqc/*"
   ]
  },
  {
   "cell_type": "markdown",
   "metadata": {
    "editable": false,
    "slideshow": {
     "slide_type": ""
    },
    "tags": []
   },
   "source": [
    "Use the path indicated above to navigate to the MultiQC report generated from the summary alignment info/stats data on the left side panel. Then double click on the \"aligned_multiqc.html\" file to open up the compiled alignment log info from all 12 samples.\n",
    "\n",
    "<div class=\"alert alert-block alert-info\">\n",
    "<b>Note:</b><br>\n",
    "    \n",
    "Click [here](https://multiqc.info/examples/rna-seq/multiqc_report.html#star) for an example and description of the MultiQC plots derived from STAR data\n",
    "\n",
    "</div>\n",
    "\n",
    "<div class=\"alert alert-block alert-warning\">\n",
    "    \n",
    "Be sure to click the \"Trust HTML\" button in the top left corner of the MultiQC report to be able to see all the plots.\n",
    "\n",
    "If the plots are still not visible, make sure JavaScript is enabled on the web-browser you are using. See [above](#Enable-JavaScript) for instructions to enable JavaScript on common web-browsers.\n",
    "\n",
    "</div>"
   ]
  },
  {
   "cell_type": "markdown",
   "metadata": {
    "editable": false,
    "slideshow": {
     "slide_type": ""
    },
    "tags": []
   },
   "source": [
    "___\n",
    "\n",
    "**Take a look at the multiQC report of the alignment data above and answer the following questions:**\n",
    "\n",
    "1. What are the min and max % uniquely aligned reads for all samples?\n",
    "2. What are the min and max % of aligned reads that map to multiple locations?\n",
    "\n",
    "<br>\n",
    "\n",
    "<div class=\"alert alert-block alert-success\">\n",
    "\n",
    "<details>\n",
    "<summary><b>Q1 Solution</b></summary>\n",
    "\n",
    "<br>\n",
    "\n",
    "Min % uniquely aligned reads: 76.0% (GC_M37 and GC_M38)\n",
    "Max % uniquely aligned reads: 80.6% (FLT_M25)\n",
    "\n",
    "</details>\n",
    "</div>\n",
    "\n",
    "\n",
    "<div class=\"alert alert-block alert-success\">\n",
    "\n",
    "<details>\n",
    "<summary><b>Q2 Solution</b></summary>\n",
    "\n",
    "<br>\n",
    "\n",
    "Min % reads mapping to multiple loci: 10.0% (FLT_M25)\n",
    "Max % reads mapping to multiple loci: 12.7% (GC_M36)\n",
    "\n",
    "</details>\n",
    "</div>\n",
    "\n",
    "\n",
    "<br>\n",
    "\n",
    "---\n"
   ]
  },
  {
   "cell_type": "markdown",
   "metadata": {
    "editable": false,
    "slideshow": {
     "slide_type": ""
    },
    "tags": []
   },
   "source": [
    "<a class=\"anchor\" id=\"index\"></a>\n",
    "\n",
    "### 4c. Index Genome Aligned Reads\n",
    "\n",
    "To prepare the genome aligned reads for strandedness assessment, the aligned reads must be indexed to allow the RSeQC program to locate particular regions of interest. We will use the [samtools](http://www.htslib.org/doc/samtools.html) program to index the genome aligned reads. \n",
    "\n",
    "> Click on the link to learn more about the [samtools index program](http://www.htslib.org/doc/samtools-index.html) specifically.\n",
    "\n",
    "Let's index the *Aligned.sortedByCoord.out.bam file for sample FLT_M23 using samtools by running the following command:\n"
   ]
  },
  {
   "cell_type": "code",
   "execution_count": null,
   "metadata": {
    "editable": false,
    "slideshow": {
     "slide_type": ""
    },
    "tags": []
   },
   "outputs": [],
   "source": [
    "samtools index -@ 2 \\\n",
    " $STAR_output/FLT_M23/FLT_M23_Aligned.sortedByCoord.out.bam"
   ]
  },
  {
   "cell_type": "markdown",
   "metadata": {
    "editable": false,
    "slideshow": {
     "slide_type": ""
    },
    "tags": []
   },
   "source": [
    "<div class=\"alert alert-block alert-info\">\n",
    "<b><i>Code Breakdown</i></b>\n",
    "    \n",
    "<br>\n",
    "\n",
    "**Parameter Definitions:**\n",
    "\n",
    "* `-@` – indicates the number of threads to be used for samtools indexing \n",
    "* `$STAR_output/${sample}/${sample}_Aligned.sortedByCoord.out.bam` – path to the *Aligned.sortedByCoord.out.bam file(s) you want to index, provided as a positional argument \n",
    "\n",
    "**Input Data:**\n",
    "- *Aligned.sortedByCoord.out.bam (binary, alignment map containing reads mapping to genome, sorted by coordinate, output from [Step 4a](#4a.-Align-Trimmed-Sequence-Data-with-STAR))\n",
    "\n",
    "**Output Data:**\n",
    "- *Aligned.sortedByCoord.out.bam.bai (index files for the respective *Aligned.sortedByCoord.out.bam files)\n",
    "\n",
    "</div>\n",
    "\n",
    "___________\n",
    "\n",
    "Let's list the output files that were generated:\n"
   ]
  },
  {
   "cell_type": "code",
   "execution_count": null,
   "metadata": {
    "editable": false,
    "slideshow": {
     "slide_type": ""
    },
    "tags": []
   },
   "outputs": [],
   "source": [
    "ls -1 $STAR_output/FLT_M23/"
   ]
  },
  {
   "cell_type": "markdown",
   "metadata": {
    "editable": false,
    "slideshow": {
     "slide_type": ""
    },
    "tags": []
   },
   "source": [
    "<br>\n",
    "\n",
    "Note that the *bai file has been generated.\n",
    "\n",
    "<div class=\"alert alert-block alert-info\">\n",
    "<b>Note:</b><br>\n",
    "    \n",
    "To preserve compute resources, the *Aligned.sortedByCoord.out.bam file has been indexed for all OSD-104 FLT and GC samples.\n",
    "\n",
    "</div>\n",
    "\n",
    "---\n"
   ]
  },
  {
   "cell_type": "markdown",
   "metadata": {
    "editable": false,
    "slideshow": {
     "slide_type": ""
    },
    "tags": []
   },
   "source": [
    "<a class=\"anchor\" id=\"createbed\"></a>\n",
    "\n",
    "## 5. Create a BED File for the Reference Genome\n",
    "\n",
    "Prior to quantitating our alignment data, we need to determine if/how reads were stranded during library preparation and sequencing. To do this, we will compare the strandedness of reads with the strandedness of transcripts using the [RSeQC Infer Experiment](http://rseqc.sourceforge.net/#infer-experiment-py) program. \n",
    "\n",
    "<div class=\"alert alert-block alert-info\">\n",
    "<b>Note:</b><br>\n",
    "    \n",
    "The **strandedness of reads** is determined from the alignment data and the **strandedness of transcripts** is determined from the reference genome gene annotations.\n",
    "\n",
    "</div>\n",
    "\n",
    "Since our samples came from the soleus muscle of mice (scientific name _Mus musculus_), we will use the gene transfer format (GTF) file associated with the _Mus musculus_ reference genome (GRCm39) from the ensembl database found [here](ftp://ftp.ensembl.org/pub/release-112/gtf/mus_musculus/Mus_musculus.GRCm39.112.gtf.gz) to identify strandedness of transcripts. However, the RSeQC Infer Experiment program requires the annotated transcripts to be in the Browser Extensible Data (BED) format. Thus, before we can assess read strandedness relative to the _Mus musculus_ reference transcripts, we will first convert the mouse GTF file to a BED file using a two-step process:\n",
    "> Step 1: Convert GTF to a GenePred table format using [gtfToGenePred](https://bioconda.github.io/recipes/ucsc-gtftogenepred/README.html) \n",
    ">\n",
    "> Step 2: Convert GenePred to BED format using [genePredToBed](https://bioconda.github.io/recipes/ucsc-genepredtobed/README.html) \n",
    ">\n",
    "> Click on the respective file links for more information about the [GenePred table format](https://genome.ucsc.edu/FAQ/FAQformat.html#format9) and the [BED file format](https://genome.ucsc.edu/FAQ/FAQformat.html#format1) from ucsc.\n",
    "\n",
    "<div class=\"alert alert-block alert-info\">\n",
    "<b>Note:</b><br>\n",
    "\n",
    "The BED file only needs to be created once, so we did it for you. You're welcome :0)\n",
    "\n",
    "</div>\n"
   ]
  },
  {
   "cell_type": "markdown",
   "metadata": {
    "editable": false,
    "slideshow": {
     "slide_type": ""
    },
    "tags": []
   },
   "source": [
    "The following commands were used to create the BED file for _Mus musculus_:\n",
    "\n",
    "**Step 1 - GTF to GenePred:**\n",
    "\n",
    "```bash\n",
    "gtfToGenePred Mus_musculus.GRCm39.112.gtf \\\n",
    " Mus_musculus.GRCm39.112.gtf.genePred\n",
    "```\n",
    "\n",
    "<div class=\"alert alert-block alert-info\">\n",
    "<b><i>Code Breakdown</i></b>\n",
    "    \n",
    "<br>\n",
    "\n",
    "\n",
    "**Parameter Definitions:**\n",
    "\n",
    "* `Mus_musculus.GRCm39.112.gtf` - specifies the uncompressed file containing annotated transcripts in the standard GTF format, provided as a positional argument\n",
    "* `Mus_musculus.GRCm39.112.gtf.genePred` - specifies the path to and the file name for the output GenePred file, provided as a positional argument\n",
    "\n",
    "</div>\n",
    "\n",
    "\n",
    "**Step 2 - GenePred to BED:**\n",
    "\n",
    "```bash\n",
    "genePredToBed Mus_musculus.GRCm39.112.gtf.genePred \\\n",
    " Mus_musculus.GRCm39.112.gtf.bed\n",
    "```\n",
    "\n",
    "<div class=\"alert alert-block alert-info\">\n",
    "<b><i>Code Breakdown</i></b>\n",
    "    \n",
    "<br>\n",
    "\n",
    "**Parameter Definitions:**\n",
    "\n",
    "* `Mus_musculus.GRCm39.112.gtf.genePred` - specifies the file containing annotated transcripts in the GenePred format, provided as a positional argument\n",
    "* `Mus_musculus.GRCm39.112.gtf.bed` - specifies the path to and the file name for the output BED file, provided as a positional argument\n",
    "\n",
    "</div>\n",
    "\n",
    "<br>\n",
    "\n",
    "<div class=\"alert alert-block alert-info\">\n",
    "    \n",
    "\n",
    "**Input Data:**\n",
    "- *.gtf (genome transfer feature file)\n",
    "\n",
    "**Output Data:**\n",
    "- *.genePred (GenePred table format file)\n",
    "- *.bed (Browser Extensible Data file)\n",
    "\n",
    "</div>\n",
    "\n",
    "<br>\n",
    "\n",
    "---"
   ]
  },
  {
   "cell_type": "markdown",
   "metadata": {
    "editable": false,
    "slideshow": {
     "slide_type": ""
    },
    "tags": []
   },
   "source": [
    "<a class=\"anchor\" id=\"strandedness\"></a>\n",
    "\n",
    "## 6. Determine Read Strandedness\n",
    "\n",
    "<a class=\"anchor\" id=\"inferexp\"></a>\n",
    "\n",
    "### 6a. Evaluate Strandedness with RSeQC Infer Experiment\n",
    "\n",
    "Now we're ready to determine if/how reads were stranded during library preparation and sequencing. Why is this important to know prior to quantitation? \n",
    "\n",
    "<div class=\"alert alert-block alert-success\">\n",
    "\n",
    "<details>\n",
    "<summary><b>Answer</b></summary>\n",
    "\n",
    "<br>\n",
    "\n",
    "- Stranded RNA sequencing preserves strand information of a read, which helps to resolve read ambiguity in overlapping transcripts transcribed from complimentary DNA strands.\n",
    "\n",
    "- This information is required for RSEM to properly assign reads to the correct gene of origin. \n",
    "    \n",
    "</details>\n",
    "</div>\n",
    "\n",
    "To do this, we will compare the strandedness of reads with the strandedness of transcripts using the [RSeQC Infer Experiment program](http://rseqc.sourceforge.net/#infer-experiment-py).\n",
    "\n",
    "<div class=\"alert alert-block alert-info\">\n",
    "<b>Note:</b><br>\n",
    "    \n",
    "- [RSeQC](http://rseqc.sourceforge.net/) is an RNAseq quality control package containing several programs used to evaluate high throughput RNA sequence data. In addition to the Infer Experiment module used in this step, the current GeneLab RNAseq pipeline also utilizes the following modules to generate RNAseq QC metrics:\n",
    "- [RSeQC geneBody_coverage](http://rseqc.sourceforge.net/#genebody-coverage-py), used to determine RNAseq reads coverage over the length of the transcripts\n",
    "- [RSeQC read_distribution](http://rseqc.sourceforge.net/#read-distribution-py), used to quantify how aligned reads were distributed over genome features\n",
    "- [RSeQC inner_distance](http://rseqc.sourceforge.net/#inner-distance-py), used to determine the insert size between two paired reads (distance from the end of R1 to the start of R2) \n",
    "\n",
    "</div>\n",
    "\n",
    "Let's evaluate read strandedness for sample FLT_M23 using the following command: \n"
   ]
  },
  {
   "cell_type": "code",
   "execution_count": null,
   "metadata": {
    "editable": false,
    "slideshow": {
     "slide_type": ""
    },
    "tags": []
   },
   "outputs": [],
   "source": [
    "infer_experiment.py -r $REFs/Mus_musculus.GRCm39.112.gtf.bed \\\n",
    " -i $STAR_output/FLT_M23/FLT_M23_Aligned.sortedByCoord.out.bam \\\n",
    " -s 15000000 \\\n",
    " > $RSeQC_infer_exp/FLT_M23_infer_expt.out"
   ]
  },
  {
   "cell_type": "markdown",
   "metadata": {
    "editable": false,
    "slideshow": {
     "slide_type": ""
    },
    "tags": []
   },
   "source": [
    "<div class=\"alert alert-block alert-info\">\n",
    "<b><i>Code Breakdown</i></b>\n",
    "    \n",
    "<br>\n",
    "\n",
    "**Parameter Definitions:**\n",
    "\n",
    "* `-r` – specifies the path to the reference gene model in BED format\n",
    "* `-i` - specifies the path to the input alignment file (in SAM or BAM format)\n",
    "* `-s` - specifies the number of reads to sample from the input alignment file\n",
    "  > _Note: Since our samples only contains ~0.1M paired-end reads and 15M total reads are specified, all sample reads will be evaluated._ \n",
    "* `> $RSeQC_infer_exp/FLT_M23_infer_expt.out` - redirects the standard output to a file ending in *infer_expt.out \n",
    "\n",
    "**Input Data:**\n",
    "- Mus_musculus.GRCm39.112.gtf.bed (mouse reference gene model in BED format, output from [Step 5](#5.-Create-a-BED-File-for-the-Reference-Genome))\n",
    "- *Aligned.sortedByCoord.out.bam (binary, alignment map containing sorted reads mapping to the genome, output from [Step 4a](#4a.-Align-Trimmed-Sequence-Data-with-STAR))\n",
    "\n",
    "**Output Data:**\n",
    "- *infer_expt.out (quantitation of read strandedness relative to the strandedness of reference transcripts)\n",
    "\n",
    "</div>\n",
    "\n",
    "___________\n",
    "\n",
    "Let's list the output file that was generated:"
   ]
  },
  {
   "cell_type": "code",
   "execution_count": null,
   "metadata": {
    "editable": false,
    "slideshow": {
     "slide_type": ""
    },
    "tags": []
   },
   "outputs": [],
   "source": [
    "ls -1 $RSeQC_infer_exp/FLT_M23_infer_expt.out"
   ]
  },
  {
   "cell_type": "markdown",
   "metadata": {
    "editable": false,
    "slideshow": {
     "slide_type": ""
    },
    "tags": []
   },
   "source": [
    "<br>\n",
    "\n",
    "<div class=\"alert alert-block alert-info\">\n",
    "<b>Note:</b><br>\n",
    "    \n",
    "To preserve compute resources, the strandedness had been determined for all OSD-104 FLT and GC samples using the same command.\n",
    "\n",
    "</div>\n",
    "\n",
    "\n",
    "<br>\n",
    "\n",
    "---\n",
    "\n",
    "Next, we'll use the cat command to view the standard output from the RSeQC infer experiment command:\n"
   ]
  },
  {
   "cell_type": "code",
   "execution_count": null,
   "metadata": {
    "editable": false,
    "slideshow": {
     "slide_type": ""
    },
    "tags": []
   },
   "outputs": [],
   "source": [
    "cat $RSeQC_infer_exp/FLT_M23_infer_expt.out"
   ]
  },
  {
   "cell_type": "markdown",
   "metadata": {
    "editable": false,
    "slideshow": {
     "slide_type": ""
    },
    "tags": []
   },
   "source": [
    "<div class=\"alert alert-block alert-info\">\n",
    "<b>RSeQC Infer Experiment output content</b><br>\n",
    "\n",
    "The standard output of the [RSeQC Infer Experiment program](http://rseqc.sourceforge.net/#infer-experiment-py) contains the following info:\n",
    "\n",
    "- Indication of paired-end (PE) or single-end (SE) data\n",
    "\n",
    "\n",
    "- Fraction of reads whose strandedness is undetermined\n",
    "\n",
    "\n",
    "- For SE data:\n",
    "  - Fraction of reads explained by \"++,--\" (reads are the same orientation relative to the reference)\n",
    "  - Fraction of reads explained by \"+-,-+\" (reads are the reverse compliment orientation relative to the reference)\n",
    "\n",
    "\n",
    "- For PE data:\n",
    "  - Fraction of reads explained by \"1++,1--,2+-,2-+\" (forward reads are the same orientation relative to the reference and reverse reads are the reverse compliment)\n",
    "  - Fraction of reads explained by \"1+-,1-+,2++,2--\" (forward reads are the reverse compliment orientation relative to the reference and reverse reads are the same orientation)\n",
    "\n",
    "</div>\n",
    "\n",
    "\n",
    "\n",
    "**Look at the \\*infer_exp.out file above and answer the following questions:** \n",
    "\n",
    "1. What percent of reads have undetermined strandedness?\n",
    "2. What percent of reads are sense relative to the reference?\n",
    "3. What percent of reads are antisense relative to the reference? \n",
    "4. Are these data stranded?\n",
    "\n",
    "<br>\n",
    "\n",
    "<div class=\"alert alert-block alert-success\">\n",
    "\n",
    "<details>\n",
    "<summary><b>Q1 Solution</b></summary>\n",
    "\n",
    "<br>\n",
    "\n",
    "15.50% of reads have undetermined strandedness.\n",
    "\n",
    "</details>\n",
    "</div>\n",
    "\n",
    "\n",
    "<div class=\"alert alert-block alert-success\">\n",
    "\n",
    "<details>\n",
    "<summary><b>Q2 Solution</b></summary>\n",
    "\n",
    "<br>\n",
    "\n",
    "1.03% of reads are sense relative to the reference.\n",
    "    \n",
    "</details>\n",
    "</div>\n",
    "\n",
    "\n",
    "<div class=\"alert alert-block alert-success\">\n",
    "\n",
    "<details>\n",
    "<summary><b>Q3 Solution</b></summary>\n",
    "\n",
    "<br>\n",
    "\n",
    "83.47% of reads are antisense relative to the reference.\n",
    "\n",
    "</details>\n",
    "</div>\n",
    "\n",
    "\n",
    "<div class=\"alert alert-block alert-success\">\n",
    "\n",
    "<details>\n",
    "<summary><b>Q4 Solution</b></summary>\n",
    "\n",
    "<br>\n",
    "\n",
    "Yes, these data are stranded in the antisense direction.\n",
    "\n",
    "</details>\n",
    "</div>\n",
    "\n",
    "\n",
    "<br>\n",
    "\n",
    "---\n"
   ]
  },
  {
   "cell_type": "markdown",
   "metadata": {
    "editable": false,
    "slideshow": {
     "slide_type": ""
    },
    "tags": []
   },
   "source": [
    "<a class=\"anchor\" id=\"inferexpmultiqc\"></a>\n",
    "\n",
    "### 6b. Compile Strandedness Data with MultiQC\n",
    "\n",
    "Rather than viewing the \\*infer_exp.out file for all 12 aligned samples individually, we'll use the [MultiQC](https://multiqc.info/) program to compile the strandedness data from all samples and generate a single report (and associated data files). This will allow us to view the strandedness of all samples at once. \n",
    "\n",
    "Let's compile the data in the \\*infer_exp.out files from our 12 samples using MultiQC by running the following command:"
   ]
  },
  {
   "cell_type": "code",
   "execution_count": null,
   "metadata": {
    "editable": false,
    "slideshow": {
     "slide_type": ""
    },
    "tags": []
   },
   "outputs": [],
   "source": [
    "multiqc --interactive -n infer_exp_multiqc -o $RSeQC_infer_exp_multiqc $RSeQC_infer_exp/"
   ]
  },
  {
   "cell_type": "markdown",
   "metadata": {
    "editable": false,
    "slideshow": {
     "slide_type": ""
    },
    "tags": []
   },
   "source": [
    "<div class=\"alert alert-block alert-info\">\n",
    "<b><i>Code Breakdown</i></b>\n",
    "    \n",
    "<br>\n",
    "\n",
    "**Parameter Definitions:**\n",
    "\n",
    "* `--interactive` – force reports to use interactive plots, see the MultiQC documentation [here](https://multiqc.info/docs/#large-sample-numbers) for additional info\n",
    "* `-n` – prefix name for the output files\n",
    "* `-o` – the output directory to store the MultiQC results\n",
    "* `$RSeQC_infer_exp/` – the directory holding the RSeQC Infer Experiment output file from each sample, provided as a positional argument\n",
    "\n",
    "**Input Data:**\n",
    "- *infer_exp.out (quantitation of read strandedness relative to the strandedness of reference transcripts)\n",
    "\n",
    "**Output Data:**\n",
    "- infer_exp_multiqc_data (directory containing the compiled strandedness data from each sample, used to create the MultiQC report)\n",
    "- infer_exp_multiqc.html (multiqc report: an interactive webpage file containing graphical representations of the compiled strandedness data)\n",
    "\n",
    "</div>\n",
    "\n",
    "___________\n",
    "\n",
    "The multiQC job is complete when you see the \"MultiQC complete\" statement at the end of the standard output. Check that the number of reports found matches what you expect.\n",
    "> Note: There is only one *infer_exp.out file generated per sample (for paired- or single-end data), so we expect one report per sample. Since we have 12 samples, MultiQC should detect 12 RSeQC infer exp reports.\n",
    "\n",
    "Let's list the output files that were generated:\n"
   ]
  },
  {
   "cell_type": "code",
   "execution_count": null,
   "metadata": {
    "editable": false,
    "slideshow": {
     "slide_type": ""
    },
    "tags": []
   },
   "outputs": [],
   "source": [
    "ls -1 $RSeQC_infer_exp_multiqc/*"
   ]
  },
  {
   "cell_type": "markdown",
   "metadata": {
    "editable": false,
    "slideshow": {
     "slide_type": ""
    },
    "tags": []
   },
   "source": [
    "Use the path indicated above to navigate to the MultiQC report generated from the RSeQC infer experiment data on the left side panel. Then double click on the \"infer_exp_multiqc.html\" file to open up the compiled strandedness info from all 12 samples.\n",
    "\n",
    "<div class=\"alert alert-block alert-info\">\n",
    "<b>Note:</b><br>\n",
    "    \n",
    "Click [here](https://multiqc.info/docs/#rseqc) for an example and description of the MultiQC plots derived from RSeQC data\n",
    "\n",
    "</div>\n",
    "\n",
    "<div class=\"alert alert-block alert-warning\">\n",
    "    \n",
    "Be sure to click the \"Trust HTML\" button in the top left corner of the MultiQC report to be able to see all the plots.\n",
    "\n",
    "If the plots are still not visible, make sure JavaScript is enabled on the web-browser you are using. See [above](#Enable-JavaScript) for instructions to enable JavaScript on common web-browsers.\n",
    "\n",
    "</div>\n",
    "\n",
    "---"
   ]
  },
  {
   "cell_type": "markdown",
   "metadata": {
    "editable": false,
    "slideshow": {
     "slide_type": ""
    },
    "tags": []
   },
   "source": [
    "**Take a look at the multiQC report of the strandedness data above and answer the following questions:**\n",
    "\n",
    "1. Are the data for all samples stranded or unstranded?\n",
    "2. If stranded, what is the orientation of the reads relative to the reference? \n",
    "\n",
    "<br>\n",
    "\n",
    "<div class=\"alert alert-block alert-success\">\n",
    "\n",
    "<details>\n",
    "<summary><b>Q1 Solution</b></summary>\n",
    "\n",
    "<br>\n",
    "\n",
    "All samples are stranded.\n",
    "\n",
    "</details>\n",
    "</div>\n",
    "\n",
    "\n",
    "<div class=\"alert alert-block alert-success\">\n",
    "\n",
    "<details>\n",
    "<summary><b>Q2 Solution</b></summary>\n",
    "\n",
    "<br>\n",
    "\n",
    "All samples are stranded in the antisense orientation relative to the reference.\n",
    "\n",
    "</details>\n",
    "</div>\n",
    "\n",
    "\n",
    "<br>\n",
    "\n",
    "---\n"
   ]
  },
  {
   "cell_type": "markdown",
   "metadata": {
    "editable": false,
    "slideshow": {
     "slide_type": ""
    },
    "tags": []
   },
   "source": [
    "<a class=\"anchor\" id=\"rsemindex\"></a>\n",
    "\n",
    "## 7. Build a RSEM Index for the Reference Genome\n",
    "\n",
    "The next step is to quantify the number of reads that align to each transcript with the [RSEM](https://deweylab.github.io/RSEM/) (RNA-Seq by Expectation-Maximization) transcript quantification method. \n",
    "\n",
    "In order to interpret the information provided in the BAM file generated during alignment, the RSEM program first requires the generation of an RSEM index using the reference genome and associated GTF files from the sample organism (similar to STAR). To do this, we will first run the RSEM `rsem-prepare-reference` program, which will extract reference transcripts from the mouse genome using the gene transfer file to create a RSEM indexed reference.  \n",
    "\n",
    "<div class=\"alert alert-block alert-info\">\n",
    "<b>Note:</b><br>\n",
    "\n",
    "To save time and storage space, we created the RSEM index for you. You're welcome :0)\n",
    "\n",
    "</div>\n",
    "\n",
    "The following command was used to generate the RSEM index for _Mus musculus_:\n",
    "\n",
    "```bash\n",
    "rsem-prepare-reference --gtf Mus_musculus.GRCm39.112.gtf \\\n",
    " Mus_musculus.GRCm39.dna.primary_assembly.fa \\\n",
    " RSEM_index\n",
    "```\n"
   ]
  },
  {
   "cell_type": "markdown",
   "metadata": {
    "editable": false,
    "slideshow": {
     "slide_type": ""
    },
    "tags": []
   },
   "source": [
    "<div class=\"alert alert-block alert-info\">\n",
    "<b><i>Code Breakdown</i></b>\n",
    "    \n",
    "<br>\n",
    "\n",
    "**Parameter Definitions:**\n",
    "\n",
    "* `--gtf` – specifies the uncompressed file containing annotated transcripts in the standard GTF format\n",
    "* `Mus_musculus.GRCm39.dna.primary_assembly.fa` – specifies the uncompressed fasta file containing the genome reference sequences, provided as a positional argument\n",
    "* `RSEM_index` - specifies the path to the directory where the RSEM reference will be stored and the prefix desired for the RSEM reference files, provided as a positional argument \n",
    "\n",
    "**Input Data:**\n",
    "- *.fasta (genome sequence)\n",
    "- *.gtf (genome transfer feature file)\n",
    "\n",
    "**Output Data:**\n",
    "\n",
    "RSEM indexed genome reference, which consists of the following files:\n",
    "- Mmus.chrlist\n",
    "- Mmus.grp\n",
    "- Mmus.idx.fa\n",
    "- Mmus.n2g.idx.fa\n",
    "- Mmus.seq\n",
    "- Mmus.ti\n",
    "- Mmus.transcripts.fa\n",
    "\n",
    "</div>\n",
    "\n",
    "<br>\n",
    "\n",
    "---"
   ]
  },
  {
   "cell_type": "markdown",
   "metadata": {
    "editable": false,
    "slideshow": {
     "slide_type": ""
    },
    "tags": []
   },
   "source": [
    "<a class=\"anchor\" id=\"count\"></a>\n",
    "\n",
    "## 8. Quantitate Alignment Data\n",
    "\n",
    "<a class=\"anchor\" id=\"rsemcount\"></a>\n",
    "\n",
    "### 8a. Count Aligned Reads with RSEM\n",
    "\n",
    "Now we're ready to quantify the aligned reads with RSEM. Similar to read alignment, quantifying the number of reads that aligned to each gene can also be quite challenging. How so?\n",
    "\n",
    "<div class=\"alert alert-block alert-success\">\n",
    "\n",
    "<details>\n",
    "<summary><b>Answer</b></summary>\n",
    "\n",
    "<br>\n",
    "\n",
    "If a read maps to more than one location on the genome, how do we know from which location it truly originated? It is also difficult to quantify alternative splice isoforms of a gene with significant sequence overlap.\n",
    "\n",
    "</details>\n",
    "</div>\n",
    "\n",
    "The RSEM software package was designed to address these issues and \"rescue\" reads that are not uniquely mapped by allocating them to transcripts using a 3-step algorithm:\n",
    "\n",
    " 1. Estimate abundances based on uniquely mapped reads only.\n",
    " 2. For each read that maps to multiple locations (multiread), divide it between the transcripts to which it maps, proportional to their abundances estimated in the first step.\n",
    " 3. Compute abundances based on updated counts for each transcript.\n",
    "\n",
    "Therefore, we will use RSEM to quantify the aligned reads, due to its ability to account for reads that map to multiple transcripts and distinguish gene isoforms. \n",
    "\n",
    "<div class=\"alert alert-block alert-info\">\n",
    "<b>Note:</b><br>\n",
    "\n",
    "Quantitating alignment data with RSEM requires a lot of compute and storage resources and can take a while to complete, so we did it for you. You're welcome :0)\n",
    "\n",
    "The RSEM quantitation files we are using were generating using all reads of each sample from [OSD-104](https://osdr.nasa.gov/bio/repo/data/studies/OSD-104). \n",
    "\n",
    "</div>\n"
   ]
  },
  {
   "cell_type": "markdown",
   "metadata": {
    "editable": false,
    "slideshow": {
     "slide_type": ""
    },
    "tags": []
   },
   "source": [
    "The following `RSEM` command was used to estimate gene and isoform expression levels for all 12 samples: \n",
    "> Full information on this command is available in the [RSEM user guide](http://deweylab.biostat.wisc.edu/rsem/rsem-calculate-expression.html)).\n",
    "\n",
    "```bash\n",
    "rsem-calculate-expression --num-threads 13 \\\n",
    " --alignments \\\n",
    " --bam \\\n",
    " --paired-end \\\n",
    " --seed 12345 \\\n",
    " --seed-length 20 \\\n",
    " --estimate-rspd \\\n",
    " --no-bam-output \\\n",
    " --strandedness reverse \\\n",
    " $STAR_output/${sample}/${sample}_Aligned.toTranscriptome.out.bam \\\n",
    " RSEM_index \\\n",
    " $RSEM_output/${sample}\n",
    "```\n",
    "\n",
    "<div class=\"alert alert-block alert-info\">\n",
    "<b><i>Code Breakdown</i></b>\n",
    "    \n",
    "<br>\n",
    "\n",
    "**Parameter Definitions:**\n",
    "\n",
    "* `--num-threads` – specifies the number of threads to use\n",
    "* `--alignments` - indicates that the input file contains alignments in sam, bam, or cram format\n",
    "* `--bam` - specifies that the input alignments are in bam format\n",
    "* `--paired-end` - indicates that the input reads are paired-end reads\n",
    "* `--seed` - the seed for the random number generators used in calculating posterior mean estimates and credibility intervals; must be a non-negative 32-bit integer\n",
    "* `--seed-length` - instructs RSEM to ignore any aligned read if it or its mate's (for paired-end reads) length is less than the value indicated (20bp, in the command above)\n",
    "* `--estimate-rspd` - instructs RSEM to estimate the read start position distribution (rspd) from the data \n",
    "* `--no-bam-output` - instructs RSEM not to output any bam file\n",
    "* `--strandedness` - defines the strandedness of the RNAseq reads; the `reverse` option means reads are antisense relative to the reference, indicated from the [Step 6](#6.-Determine-Read-Strandedness) output files \n",
    "* `$STAR_output/${sample}/${sample}_Aligned.toTranscriptome.out.bam` - specifies path to input bam file(s), provided as a positional argument\n",
    "* `RSEM_index` - specifies the path to the directory where the RSEM reference is stored and its prefix, provided as a positional argument\n",
    "* `$RSEM_output/${sample}` – specifies the path to and prefix for the output file names; for GeneLab the prefix is the sample id\n",
    "\n",
    "**Input Data:**\n",
    "- RSEM indexed genome reference (output from [Step 7](#7.-Build-a-RSEM-Index-for-the-Reference-Genome))\n",
    "- *Aligned.toTranscriptome.out.bam (binary, alignment map containing sorted reads mapping to transcriptome, output from [Step 4a](#4a.-Align-Trimmed-Sequence-Data-with-STAR))\n",
    "\n",
    "**Output Data:**\n",
    "- *genes.results (expression estimates per gene)\n",
    "- *isoforms.results (expression estimates per isoform)\n",
    "- *stat (directory containing the following stats files)\n",
    "\t- *cnt\n",
    "\t- *model\n",
    "\t- *theta\n",
    "\n",
    "</div>"
   ]
  },
  {
   "cell_type": "markdown",
   "metadata": {
    "editable": false,
    "slideshow": {
     "slide_type": ""
    },
    "tags": []
   },
   "source": [
    "___"
   ]
  },
  {
   "cell_type": "markdown",
   "metadata": {
    "editable": false,
    "slideshow": {
     "slide_type": ""
    },
    "tags": []
   },
   "source": [
    "Let's take a look at the first few lines of the *genes.results output file from sample FLT_M23 using the following command:"
   ]
  },
  {
   "cell_type": "code",
   "execution_count": null,
   "metadata": {
    "editable": false,
    "slideshow": {
     "slide_type": ""
    },
    "tags": []
   },
   "outputs": [],
   "source": [
    "head $RSEM_output/FLT_M23.genes.results"
   ]
  },
  {
   "cell_type": "markdown",
   "metadata": {
    "editable": false,
    "slideshow": {
     "slide_type": ""
    },
    "tags": []
   },
   "source": [
    "<div class=\"alert alert-block alert-info\">\n",
    "<b>RSEM \\*genes.results content</b><br>\n",
    "\n",
    "\n",
    "The primary output of RSEM consists of two files, one for isoform-level estimates (\\*isoforms.results), and the other for gene-level estimates (\\*genes.results). Each file consists of gene and transcript ids and lengths, and abundance estimates given in different measures. In the *genes.results files, you'll find the following tab-separated fields in order of column location:\n",
    "\n",
    "1) **gene_id**: Gene name according to the database used (in this example, we used ensembl genome and GTF files, so the gene names are ensembl IDs). \n",
    "\n",
    "2) **transcript_id(s)**: Comma-separated list of all the transcripts derived from the respective gene in column 1.\n",
    "\n",
    "3) **length**: The weighted average of the respective gene's transcripts' lengths.\n",
    "\n",
    "4) **effective_length**: The weighted average of the respective gene's transcripts' effective lengths, which are weighted by each transcript's isoform percentage.\n",
    "\n",
    "5) **expected_count**: The sum of the estimates of the number of read fragments that are derived from each transcript of the respective gene (we will use these count values to calculate differential expression).\n",
    "\n",
    "6) **TPM**: Transcripts per million, which is a relative measure of transcript abundance - this value is summed over all transcripts for each respective gene to generate the gene TPM value.\n",
    "\n",
    "7) **FPKM**: Fragments Per Kilobase of transcript per Million mapped reads, which is another relative measure of transcript abundance - this value is summed over all transcripts for each respective gene to generate the gene FPKM value.\n",
    "\n",
    "\n",
    "> _Detailed descriptions of all RSEM output files can be found [here](http://deweylab.biostat.wisc.edu/rsem/rsem-calculate-expression.html#output)._\n",
    "\n",
    "</div>\n",
    "\n",
    "\n",
    "**Now that you know what the fields mean, look at the FLT_M23.genes.results file above and answer the following questions:** \n",
    "\n",
    "1. What is the first gene listed?\n",
    "\n",
    "2. For that first gene,\n",
    "\n",
    "   a. What is the gene length?\n",
    "   \n",
    "   b. What is the expected count? \n",
    "   \n",
    "   c. What is the TPM value?  \n",
    "    \n",
    "3. What are those values for the third gene listed?\n",
    "\n",
    "<br>\n",
    "\n",
    "<div class=\"alert alert-block alert-success\">\n",
    "\n",
    "<details>\n",
    "<summary><b>Q1 Solution</b></summary>\n",
    "\n",
    "<br>\n",
    "\n",
    "The first gene listed is: ENSMUSG00000000001\n",
    "\n",
    "</details>\n",
    "</div>\n",
    "\n",
    "\n",
    "<div class=\"alert alert-block alert-success\">\n",
    "\n",
    "<details>\n",
    "<summary><b>Q2 Solution</b></summary>\n",
    "\n",
    "<br>\n",
    "\n",
    "Gene length: 3262.00 bp\n",
    "Expected count: 869.00\n",
    "TPM value: 5.93\n",
    "    \n",
    "</details>\n",
    "</div>\n",
    "\n",
    "\n",
    "<div class=\"alert alert-block alert-success\">\n",
    "\n",
    "<details>\n",
    "<summary><b>Q3 Solution</b></summary>\n",
    "\n",
    "<br>\n",
    "\n",
    "The third gene listed is: ENSMUSG00000000028\n",
    "Gene length: 1860.88 bp\n",
    "Expected count: 91.00\n",
    "TPM value: 1.15\n",
    "\n",
    "</details>\n",
    "</div>\n",
    "\n",
    "<br>\n",
    "\n",
    "---\n",
    "\n",
    "\n",
    "**Challenge:**\n",
    "\n",
    "Take a look at the first few lines of the \\*isoforms.results file for the same sample as above using the following command:"
   ]
  },
  {
   "cell_type": "code",
   "execution_count": null,
   "metadata": {
    "editable": false,
    "slideshow": {
     "slide_type": ""
    },
    "tags": []
   },
   "outputs": [],
   "source": [
    "head $RSEM_output/FLT_M23.isoforms.results"
   ]
  },
  {
   "cell_type": "markdown",
   "metadata": {
    "editable": false,
    "slideshow": {
     "slide_type": ""
    },
    "tags": []
   },
   "source": [
    "___\n",
    "\n",
    "**Look at the FLT_M23.isoforms.results file above and answer the following questions:** \n",
    "\n",
    "1. Calculate the sum of the expected count values for all isoforms associated with this gene: ENSMUSG00000000028.\n",
    "2. How does that value compare with the expected count for gene ENSMUSG00000000028 in the FLT_M23.genes.results file?\n",
    "\n",
    "<br>\n",
    "\n",
    "<div class=\"alert alert-block alert-success\">\n",
    "\n",
    "<details>\n",
    "<summary><b>Q1 Solution</b></summary>\n",
    "\n",
    "<br>\n",
    "\n",
    "The sum of the expected count values for all isoforms associated with ENSMUSG00000000028 is:\n",
    "74.39 (ENSMUST00000000028) + 10.45 (ENSMUST00000096990) + 6.17 (ENSMUST00000115585) + 0.00 (ENSMUST00000231819) = 91.01\n",
    "\n",
    "</details>\n",
    "</div>\n",
    "\n",
    "\n",
    "<div class=\"alert alert-block alert-success\">\n",
    "\n",
    "<details>\n",
    "<summary><b>Q2 Solution</b></summary>\n",
    "\n",
    "<br>\n",
    "\n",
    "It is the same. This is because the expected count value for each gene is the sum of the expected count values for each isoform of that gene.\n",
    "    \n",
    "</details>\n",
    "</div>\n",
    "\n",
    "<br>\n",
    "\n",
    "---\n"
   ]
  },
  {
   "cell_type": "markdown",
   "metadata": {
    "editable": false,
    "slideshow": {
     "slide_type": ""
    },
    "tags": []
   },
   "source": [
    "<a class=\"anchor\" id=\"rsemmultiqc\"></a>\n",
    "\n",
    "### 8b. Compile Count Data with MultiQC\n",
    "\n",
    "Let's take a look at the stats for the RSEM count step but rather than viewing the stats for each sample individually, we'll use the [MultiQC](https://multiqc.info/) program to compile the RSEM *.cnt stats file from all samples and generate a single report (and associated data files). This will allow us to view the quantitation statistics of all samples at once. \n",
    "\n",
    "Let's compile the data in the *.cnt stats file from our 12 samples using MultiQC by running the following command:"
   ]
  },
  {
   "cell_type": "code",
   "execution_count": null,
   "metadata": {
    "editable": false,
    "slideshow": {
     "slide_type": ""
    },
    "tags": []
   },
   "outputs": [],
   "source": [
    "multiqc --interactive -n RSEM_count_multiqc -o $count_multiqc $RSEM_logs/"
   ]
  },
  {
   "cell_type": "markdown",
   "metadata": {
    "editable": false,
    "slideshow": {
     "slide_type": ""
    },
    "tags": []
   },
   "source": [
    "<div class=\"alert alert-block alert-info\">\n",
    "<b><i>Code Breakdown</i></b>\n",
    "    \n",
    "<br>\n",
    "\n",
    "**Parameter Definitions:**\n",
    "\n",
    "* `--interactive` – force reports to use interactive plots, see the MultiQC documentation [here](https://multiqc.info/docs/#large-sample-numbers) for additional info\n",
    "* `-n` – prefix name for the output files\n",
    "* `-o` – the output directory to store the MultiQC results\n",
    "* `$RSEM_logs/` – the directory holding the RSEM output files including the *.cnt stats file from each sample, provided as a positional argument\n",
    "\n",
    "**Input Data:**\n",
    "- *.cnt (summary alignment info/stats data used for quantitation)\n",
    "\n",
    "**Output Data:**\n",
    "- count_multiqc_data (directory containing the compiled summary of the quantifiable alignment info/stats data from each sample, used to create the MultiQC report)\n",
    "- count_multiqc.html (multiqc report: an interactive webpage file containing graphical representations of the compiled quantifiable alignment info/stats data)\n",
    "\n",
    "</div>\n",
    "\n",
    "___________\n",
    "\n",
    "The multiQC job is complete when you see the \"MultiQC complete\" statement at the end of the standard output. Check that the number of reports found matches what you expect.\n",
    "> Note: There is only one *.cnt file generated per sample (for paired- or single-end data), so we expect one report per sample. Since we have 12 samples, MultiQC should detect 12 RSEM reports.\n",
    "\n",
    "Let's list the output files that were generated:\n"
   ]
  },
  {
   "cell_type": "code",
   "execution_count": null,
   "metadata": {
    "editable": false,
    "slideshow": {
     "slide_type": ""
    },
    "tags": []
   },
   "outputs": [],
   "source": [
    "ls -1 $count_multiqc/*"
   ]
  },
  {
   "cell_type": "markdown",
   "metadata": {
    "editable": false,
    "slideshow": {
     "slide_type": ""
    },
    "tags": []
   },
   "source": [
    "Use the path indicated above to navigate to the MultiQC report generated from the RSEM count data on the left side panel. Then double click on the \"RSEM_count_multiqc.html\" file to open up the compiled quantitation info from all 12 samples.\n",
    "\n",
    "<div class=\"alert alert-block alert-info\">\n",
    "<b>Note:</b><br>\n",
    "    \n",
    "Click [here](https://multiqc.info/docs/#rsem) for an example and description of the MultiQC plots derived from RSEM data\n",
    "\n",
    "</div>\n",
    "\n",
    "<div class=\"alert alert-block alert-warning\">\n",
    "    \n",
    "Be sure to click the \"Trust HTML\" button in the top left corner of the MultiQC report to be able to see all the plots.\n",
    "\n",
    "If the plots are still not visible, make sure JavaScript is enabled on the web-browser you are using. See [above](#Enable-JavaScript) for instructions to enable JavaScript on common web-browsers.\n",
    "\n",
    "</div>\n",
    "\n",
    "---\n"
   ]
  },
  {
   "cell_type": "markdown",
   "metadata": {
    "editable": false,
    "slideshow": {
     "slide_type": ""
    },
    "tags": []
   },
   "source": [
    "**Take a look at the multiQC report of the RSEM \\*.cnt data above and answer the following questions:**\n",
    "\n",
    "1. Which sample has the highest % alignable reads? Which sample has the lowest?\n",
    "2. Which sample has the highest % of unalignable reads? Which sample has the lowest?\n",
    "\n",
    "<br>\n",
    "\n",
    "<div class=\"alert alert-block alert-success\">\n",
    "\n",
    "<details>\n",
    "<summary><b>Q1 Solution</b></summary>\n",
    "\n",
    "<br>\n",
    "\n",
    "Sample with the highest % alignable reads: GC_M34 (90.5%)\n",
    "Sample with the lowest % alignable reads: GC_M38 (87.0%)\n",
    "\n",
    "</details>\n",
    "</div>\n",
    "\n",
    "\n",
    "<div class=\"alert alert-block alert-success\">\n",
    "\n",
    "<details>\n",
    "<summary><b>Q2 Solution</b></summary>\n",
    "\n",
    "<br>\n",
    "\n",
    "Sample with the highest % unalignable reads: GC_M38 (13.0%)\n",
    "Sample with the lowest % unalignable reads: GC_M34 (9.5%)\n",
    "\n",
    "</details>\n",
    "</div>\n",
    "\n",
    "\n",
    "<br>\n",
    "\n",
    "---"
   ]
  },
  {
   "cell_type": "markdown",
   "metadata": {
    "editable": false,
    "slideshow": {
     "slide_type": ""
    },
    "tags": []
   },
   "source": [
    "We have now generated RSEM raw counts for all genes for all 12 samples in our study (OSD-104). We will use the RSEM \\*genes.results files in the [RNAseq analysis JN](02-RNAseq_analysis.ipynb) to perform downstream data analyses including differential gene expression (DGE), principal component analysis (PCA), gene set enrichment analysis (GSEA), and generate respective visualizations to help interpret the results of our analyses.\n",
    "\n",
    "---\n",
    "\n",
    "<div style=\"text-align: right\"><a href=\"02-RNAseq_analysis.ipynb\"><b>Next:</b> 2. RNAseq analysis</a></div>\n",
    "\n",
    "---\n",
    "---"
   ]
  }
 ],
 "metadata": {
  "kernelspec": {
   "display_name": "Bash",
   "language": "bash",
   "name": "bash"
  },
  "language_info": {
   "codemirror_mode": "shell",
   "file_extension": ".sh",
   "mimetype": "text/x-sh",
   "name": "bash"
  },
  "toc": {
   "base_numbering": 1,
   "nav_menu": {},
   "number_sections": false,
   "sideBar": true,
   "skip_h1_title": false,
   "title_cell": "Table of Contents",
   "title_sidebar": "Contents",
   "toc_cell": false,
   "toc_position": {
    "height": "calc(100% - 180px)",
    "left": "10px",
    "top": "150px",
    "width": "306px"
   },
   "toc_section_display": false,
   "toc_window_display": true
  },
  "toc-showtags": false
 },
 "nbformat": 4,
 "nbformat_minor": 4
}
